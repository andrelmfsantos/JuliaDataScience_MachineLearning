{
 "cells": [
  {
   "cell_type": "code",
   "execution_count": 2,
   "id": "05809ca2",
   "metadata": {},
   "outputs": [],
   "source": [
    "using Pkg"
   ]
  },
  {
   "cell_type": "code",
   "execution_count": 3,
   "id": "0028b8c2",
   "metadata": {},
   "outputs": [
    {
     "name": "stderr",
     "output_type": "stream",
     "text": [
      "\u001b[32m\u001b[1m    Updating\u001b[22m\u001b[39m registry at `~/.julia/registries/General`\n",
      "\u001b[32m\u001b[1m   Resolving\u001b[22m\u001b[39m package versions...\n",
      "\u001b[32m\u001b[1m   Installed\u001b[22m\u001b[39m WeakRefStrings ───── v1.4.1\n",
      "\u001b[32m\u001b[1m   Installed\u001b[22m\u001b[39m CodecZlib ────────── v0.7.0\n",
      "\u001b[32m\u001b[1m   Installed\u001b[22m\u001b[39m PooledArrays ─────── v1.3.0\n",
      "\u001b[32m\u001b[1m   Installed\u001b[22m\u001b[39m InlineStrings ────── v1.0.1\n",
      "\u001b[32m\u001b[1m   Installed\u001b[22m\u001b[39m SentinelArrays ───── v1.3.8\n",
      "\u001b[32m\u001b[1m   Installed\u001b[22m\u001b[39m FilePathsBase ────── v0.9.13\n",
      "\u001b[32m\u001b[1m   Installed\u001b[22m\u001b[39m TranscodingStreams ─ v0.9.6\n",
      "\u001b[32m\u001b[1m   Installed\u001b[22m\u001b[39m CSV ──────────────── v0.9.9\n",
      "\u001b[32m\u001b[1m    Updating\u001b[22m\u001b[39m `~/.julia/environments/v1.6/Project.toml`\n",
      " \u001b[90m [336ed68f] \u001b[39m\u001b[92m+ CSV v0.9.9\u001b[39m\n",
      "\u001b[32m\u001b[1m    Updating\u001b[22m\u001b[39m `~/.julia/environments/v1.6/Manifest.toml`\n",
      " \u001b[90m [336ed68f] \u001b[39m\u001b[92m+ CSV v0.9.9\u001b[39m\n",
      " \u001b[90m [944b1d66] \u001b[39m\u001b[92m+ CodecZlib v0.7.0\u001b[39m\n",
      " \u001b[90m [48062228] \u001b[39m\u001b[92m+ FilePathsBase v0.9.13\u001b[39m\n",
      " \u001b[90m [842dd82b] \u001b[39m\u001b[92m+ InlineStrings v1.0.1\u001b[39m\n",
      " \u001b[90m [2dfb63ee] \u001b[39m\u001b[92m+ PooledArrays v1.3.0\u001b[39m\n",
      " \u001b[90m [91c51154] \u001b[39m\u001b[92m+ SentinelArrays v1.3.8\u001b[39m\n",
      " \u001b[90m [3bb67fe8] \u001b[39m\u001b[92m+ TranscodingStreams v0.9.6\u001b[39m\n",
      " \u001b[90m [ea10d353] \u001b[39m\u001b[92m+ WeakRefStrings v1.4.1\u001b[39m\n",
      " \u001b[90m [9fa8497b] \u001b[39m\u001b[92m+ Future\u001b[39m\n",
      "\u001b[32m\u001b[1mPrecompiling\u001b[22m\u001b[39m project...\n",
      "\u001b[32m  ✓ \u001b[39m\u001b[90mPooledArrays\u001b[39m\n",
      "\u001b[32m  ✓ \u001b[39m\u001b[90mInlineStrings\u001b[39m\n",
      "\u001b[32m  ✓ \u001b[39m\u001b[90mTranscodingStreams\u001b[39m\n",
      "\u001b[32m  ✓ \u001b[39m\u001b[90mCodecZlib\u001b[39m\n",
      "\u001b[32m  ✓ \u001b[39m\u001b[90mSentinelArrays\u001b[39m\n",
      "\u001b[32m  ✓ \u001b[39m\u001b[90mFilePathsBase\u001b[39m\n",
      "\u001b[32m  ✓ \u001b[39m\u001b[90mWeakRefStrings\u001b[39m\n",
      "\u001b[32m  ✓ \u001b[39mCSV\n",
      "  8 dependencies successfully precompiled in 14 seconds (30 already precompiled)\n"
     ]
    }
   ],
   "source": [
    "Pkg.add(\"CSV\")"
   ]
  },
  {
   "cell_type": "code",
   "execution_count": 7,
   "id": "f1958ebc",
   "metadata": {},
   "outputs": [
    {
     "name": "stderr",
     "output_type": "stream",
     "text": [
      "\u001b[32m\u001b[1m   Resolving\u001b[22m\u001b[39m package versions...\n",
      "\u001b[32m\u001b[1m   Installed\u001b[22m\u001b[39m Reexport ────────── v1.2.2\n",
      "\u001b[32m\u001b[1m   Installed\u001b[22m\u001b[39m Formatting ──────── v0.4.2\n",
      "\u001b[32m\u001b[1m   Installed\u001b[22m\u001b[39m InvertedIndices ─── v1.1.0\n",
      "\u001b[32m\u001b[1m   Installed\u001b[22m\u001b[39m SortingAlgorithms ─ v1.0.1\n",
      "\u001b[32m\u001b[1m   Installed\u001b[22m\u001b[39m Crayons ─────────── v4.0.4\n",
      "\u001b[32m\u001b[1m   Installed\u001b[22m\u001b[39m Missings ────────── v1.0.2\n",
      "\u001b[32m\u001b[1m   Installed\u001b[22m\u001b[39m Compat ──────────── v3.39.0\n",
      "\u001b[32m\u001b[1m   Installed\u001b[22m\u001b[39m DataStructures ──── v0.18.10\n",
      "\u001b[32m\u001b[1m   Installed\u001b[22m\u001b[39m DataFrames ──────── v1.2.2\n",
      "\u001b[32m\u001b[1m   Installed\u001b[22m\u001b[39m PrettyTables ────── v1.2.3\n",
      "\u001b[32m\u001b[1m    Updating\u001b[22m\u001b[39m `~/.julia/environments/v1.6/Project.toml`\n",
      " \u001b[90m [a93c6f00] \u001b[39m\u001b[92m+ DataFrames v1.2.2\u001b[39m\n",
      "\u001b[32m\u001b[1m    Updating\u001b[22m\u001b[39m `~/.julia/environments/v1.6/Manifest.toml`\n",
      " \u001b[90m [34da2185] \u001b[39m\u001b[92m+ Compat v3.39.0\u001b[39m\n",
      " \u001b[90m [a8cc5b0e] \u001b[39m\u001b[92m+ Crayons v4.0.4\u001b[39m\n",
      " \u001b[90m [a93c6f00] \u001b[39m\u001b[92m+ DataFrames v1.2.2\u001b[39m\n",
      " \u001b[90m [864edb3b] \u001b[39m\u001b[92m+ DataStructures v0.18.10\u001b[39m\n",
      " \u001b[90m [59287772] \u001b[39m\u001b[92m+ Formatting v0.4.2\u001b[39m\n",
      " \u001b[90m [41ab1584] \u001b[39m\u001b[92m+ InvertedIndices v1.1.0\u001b[39m\n",
      " \u001b[90m [e1d29d7a] \u001b[39m\u001b[92m+ Missings v1.0.2\u001b[39m\n",
      " \u001b[90m [08abe8d2] \u001b[39m\u001b[92m+ PrettyTables v1.2.3\u001b[39m\n",
      " \u001b[90m [189a3867] \u001b[39m\u001b[92m+ Reexport v1.2.2\u001b[39m\n",
      " \u001b[90m [a2af1166] \u001b[39m\u001b[92m+ SortingAlgorithms v1.0.1\u001b[39m\n",
      " \u001b[90m [8bb1440f] \u001b[39m\u001b[92m+ DelimitedFiles\u001b[39m\n",
      " \u001b[90m [1a1011a3] \u001b[39m\u001b[92m+ SharedArrays\u001b[39m\n",
      " \u001b[90m [2f01184e] \u001b[39m\u001b[92m+ SparseArrays\u001b[39m\n",
      " \u001b[90m [10745b16] \u001b[39m\u001b[92m+ Statistics\u001b[39m\n",
      "\u001b[32m\u001b[1mPrecompiling\u001b[22m\u001b[39m project...\n",
      "\u001b[32m  ✓ \u001b[39m\u001b[90mReexport\u001b[39m\n",
      "\u001b[32m  ✓ \u001b[39m\u001b[90mInvertedIndices\u001b[39m\n",
      "\u001b[32m  ✓ \u001b[39m\u001b[90mMissings\u001b[39m\n",
      "\u001b[32m  ✓ \u001b[39m\u001b[90mFormatting\u001b[39m\n",
      "\u001b[32m  ✓ \u001b[39m\u001b[90mCompat\u001b[39m\n",
      "\u001b[32m  ✓ \u001b[39m\u001b[90mCrayons\u001b[39m\n",
      "\u001b[32m  ✓ \u001b[39m\u001b[90mDataStructures\u001b[39m\n",
      "\u001b[32m  ✓ \u001b[39m\u001b[90mSortingAlgorithms\u001b[39m\n",
      "\u001b[32m  ✓ \u001b[39m\u001b[90mPrettyTables\u001b[39m\n",
      "\u001b[32m  ✓ \u001b[39mDataFrames\n",
      "  10 dependencies successfully precompiled in 43 seconds (38 already precompiled)\n"
     ]
    }
   ],
   "source": [
    "Pkg.add(\"DataFrames\")"
   ]
  },
  {
   "cell_type": "code",
   "execution_count": 8,
   "id": "093c2ffc",
   "metadata": {},
   "outputs": [],
   "source": [
    "using CSV;\n",
    "using DataFrames;"
   ]
  },
  {
   "cell_type": "code",
   "execution_count": 10,
   "id": "e7693272",
   "metadata": {},
   "outputs": [
    {
     "data": {
      "text/html": [
       "<div class=\"data-frame\"><p>6,155,844 rows × 26 columns (omitted printing of 22 columns)</p><table class=\"data-frame\"><thead><tr><th></th><th>id</th><th>conversation_id</th><th>date</th><th>tweet</th></tr><tr><th></th><th title=\"Int64\">Int64</th><th title=\"Int64\">Int64</th><th title=\"String31\">String31</th><th title=\"String\">String</th></tr></thead><tbody><tr><th>1</th><td>1270513814463799298</td><td>1270513814463799298</td><td>2020-06-09 21:31:13</td><td>Sintomas do covid-19: Febre/calafrios Tosse Falta de ar Fadiga Dor muscular/ corporal Dor de cabeça Perda de olfato e paladar Dor de garganta Congestão ou coriza Vômito/ náusea Diarréia Ou seja, o sintoma são diversos.</td></tr><tr><th>2</th><td>1239876899851186176</td><td>1239876899851186176</td><td>2020-03-17 08:31:03</td><td>Os sinais do novo coronavírus se assemelham ao de uma gripe comum:  - Febre - Tosse seca - Cansaço - Dificuldade para respirar em alguns casos - Pode haver dores no corpo - Congestão nasal - Coriza - Dor de garganta - Há casos de diarreia - Pode haver infecção respiratória</td></tr><tr><th>3</th><td>1241151467463094273</td><td>1241151467463094273</td><td>2020-03-20 20:55:43</td><td>Levantamos os sintomais mais comuns do coronavírus -  87% - febre 67% - tosse seca 38% - fadiga 33% - catarro 18% - falta de ar 14% - dor no corpo 13% - dor de garganta 13% - dor de cabeça 11% - calafrios 5% - náusea/vômito 4% - nariz entupido 3% - diarreia  https://t.co/UBOJtekfyy</td></tr><tr><th>4</th><td>1241152960010293250</td><td>1241152960010293250</td><td>2020-03-20 21:01:39</td><td>IMPORTANTE!  Quais os sintomas do coronavírus? 87% - febre 67% - tosse seca 38% - fadiga 33% - catarro 18% - falta de ar 14% - dor no corpo 13% - dor de garganta 13% - dor de cabeça 11% - calafrios 5% - náusea/vômito 4% - nariz entupido 3% - diarreia  Dados da OMS.  https://t.co/mj2sP4grVN</td></tr><tr><th>5</th><td>1241749379565879297</td><td>1241749379565879297</td><td>2020-03-22 12:31:37</td><td>IMPORTANTE!  Quais os sintomas do coronavírus? 87% - febre 67% - tosse seca 38% - fadiga 33% - catarro 18% - falta de ar 14% - dor no corpo 13% - dor de garganta 13% - dor de cabeça 11% - calafrios 5% - náusea/vômito 4% - nariz entupido 3% - diarreia  OMS  https://t.co/4WBUwCYeS1</td></tr><tr><th>6</th><td>1241149847866130433</td><td>1241149847866130433</td><td>2020-03-20 20:49:17</td><td>IMPORTANTE!  Quais os sintomas do coronavírus? 87% - febre 67% - tosse seca 38% - fadiga 33% - catarro 18% - falta de ar 14% - dor no corpo 13% - dor de garganta 13% - dor de cabeça 11% - calafrios 5% - náusea/vômito 4% - nariz entupido 3% - diarreia  Dados da OMS/@toledoluizf  https://t.co/8WEJ8oIbLC</td></tr><tr><th>7</th><td>1241169325601546241</td><td>1241169325601546241</td><td>2020-03-20 22:06:41</td><td>IMPORTANTE!  Quais os sintomas do coronavírus? Veja aqui os mais comuns: 87% - febre 67% - tosse seca 38% - fadiga 33% - catarro 18% - falta de ar 14% - dor no corpo 13% - dor de garganta 13% - dor de cabeça 11% - calafrios 5% - náusea/vômito 4% - nariz entupido 3% - diarreia</td></tr><tr><th>8</th><td>1241387717910503425</td><td>1241387717910503425</td><td>2020-03-21 12:34:30</td><td>IMPORTANTE!  Quais os sintomas do coronavírus? 87% - febre 67% - tosse seca 38% - fadiga 33% - catarro 18% - falta de ar 14% - dor no corpo 13% - dor de garganta 13% - dor de cabeça 11% - calafrios 5% - náusea/vômito 4% - nariz entupido 3% - diarreia  Dados da OMS</td></tr><tr><th>9</th><td>1241375166455853059</td><td>1241375166455853059</td><td>2020-03-21 11:44:37</td><td>ATENÇÃO - Sintomas mais comuns do coronavírus:  87% - febre 67% - tosse seca 38% - fadiga 33% - catarro 18% - falta de ar 14% - dor no corpo 13% - dor de garganta 13% - dor de cabeça 11% - calafrios 5% - náusea/vômito 4% - nariz entupido 3% - diarreia   Fonte - @CNNBrasil  https://t.co/cS0GPjdmQ7</td></tr><tr><th>10</th><td>1241021059123511299</td><td>1241006090860584962</td><td>2020-03-20 12:17:32</td><td>@rojahlinrabah Tosse  Febre  Coriza ou congestão nasal  Fadiga  Mialgia/artralgia  Dor de cabeça  Calafrios  Manchas vermelhas pelo corpo  Gânglios linfáticos aumentados  Diarreia  Náusea  Vômito  Desidratação  Inapetência (falta de apetite)</td></tr><tr><th>11</th><td>1242594831379169280</td><td>1242594831379169280</td><td>2020-03-24 20:31:08</td><td>❌ - febre ❌ - tosse seca ❌ - fadiga ✅ - catarro ❌ - falta de ar ❌- dor no corpo ✅ - dor de garganta ✅ - dor de cabeça ✅ - calafrios ❌ - náusea/vômito ✅ - nariz entupido ❌ - diarreia  kkkk fudeu</td></tr><tr><th>12</th><td>1238117035135115266</td><td>1237849277482725376</td><td>2020-03-12 11:57:58</td><td>@inesamaislinda @esquerda4realz % de sintomas: Febre: 88% Tosse seca: 68% Fadiga: 38% Tosse com expectoração: 33% Falta de ar: 19% Dor óssea ou articular: 15% Dor de garganta: 14% Dor de cabeça: 14% Calafrios: 11% Náusea ou vômito: 5% Nariz entupido: 5% Diarreia: 4% Tosse com sangue: 1% Olhos inchados: 1%</td></tr><tr><th>13</th><td>1263148916016635909</td><td>1263148906986254336</td><td>2020-05-20 13:45:44</td><td>disfunção grave de órgãos ao prolongamento da internação, à incapacidade temporária ou permanente, e até ao óbito&quot;.  Dosagens do remédio recomendadas pelo ministério ⬇️ +   Sintomas leves: anosmia, ageusia, coriza, diarreia, dor abdominal, febre, mialgia, tosse, fadiga e cefaleia  https://t.co/TWom7CoCbN</td></tr><tr><th>14</th><td>1239972285299085314</td><td>1238592634379210752</td><td>2020-03-17 14:50:05</td><td>Os sintomas principais são febre, tosse seca e fadiga, mas a pessoa também pode ficar com o nariz entupido, coriza e dor de garganta (quadro leve). Falta de ar, pressão no peito e cianose também são comuns, mas em quadros graves:   https://t.co/YiaKitqwML</td></tr><tr><th>15</th><td>1265674346212790274</td><td>1265674346212790274</td><td>2020-05-27 13:00:53</td><td>sintomas do coronavírus check:  febre ✅  tosse seca ✅  cansaço ✅  dores e desconfortos ✅  dor de garganta ✅✅✅  dor de cabeça ✅  perda de paladar ou olfato  dificuldade de respirar ou falta de ar ✅  dor ou pressão no peito   perda de fala ou movimento</td></tr><tr><th>16</th><td>1239959895727730689</td><td>1239959895727730689</td><td>2020-03-17 14:00:51</td><td>Sintomas Febre 88% (dos casos) Tosse seca 68% fadiga 38% Catarro 33% falta d ar 19% Dor muscular ou nas art 15% Dor garganta e de cabeça 14% Cansaço 11% vômito 5%  Nariz entupido 5% diarreia 4%  https://t.co/MKk0o315Na</td></tr><tr><th>17</th><td>1252661958685442048</td><td>1252307574655012866</td><td>2020-04-21 15:14:18</td><td>@McorssiS @AlessandroLoio2 @realDonaldTrump 3) Considere a infecção por Covid-19 se você tiver febre, tosse, expectoração, dispnéia, mialgia, fadiga, dor de cabeça, diarréia, congestão nasal, coriza, garganta inflamada e faringalgia (3)</td></tr><tr><th>18</th><td>1241778400337027074</td><td>1241778400337027074</td><td>2020-03-22 14:26:56</td><td>ＳＩＮＴＯＭＡＳ  Pessoas infectadas não apresentam necessariamente todos os sintomas:   — Tosse seca; — Febre; — Fadiga;  — Congestão nasal; — Coriza;  — Dor de garganta — Dor de cabeça — Diarreia — Cansaço; — Dificuldade de respirar.</td></tr><tr><th>19</th><td>1240398532449906691</td><td>1240398532449906691</td><td>2020-03-18 19:03:50</td><td>Gente, tomem cuidado, isso não é brincadeira! Febre, cansaço, tosse seca, dificuldade em respirar, dores no corpo, congestão nasal, coriza, dor de garganta ou diarréia, é bom ficar alerta! Em caso de suspeita consulte um médico para receber orientações e medicamentos! 😷  https://t.co/tyBc5RQUHd</td></tr><tr><th>20</th><td>1261929921787637760</td><td>1261929921787637760</td><td>2020-05-17 05:01:53</td><td>Sintomas mais comuns: cansaço, tosse seca e febre. Algumas pessoas podem ter dores, congestão nasal (nariz entupido), corrimento nasal (coriza), dor de garganta ou diarreia. Pessoas com febre alta e falta de ar devem procurar atendimento médico. #COVIDー19 #pandemia #quarentena  https://t.co/XXrVGD1M2A</td></tr><tr><th>21</th><td>1235007750515589120</td><td>1235003099112235011</td><td>2020-03-03 22:02:47</td><td>@jornal_cultura Corona virus (sem vacina) Febre  Tosse Dificuldade para respirar Gripe H1N1 (com vacina) febre alta dor de cabeça intensa; dores nos músculos; dores nas articulações; calafrios; tosse; falta de apetite; vômito e diarreia (em alguns casos) falta de ar e desconforto respiratório</td></tr><tr><th>22</th><td>1238464074054328320</td><td>1238464074054328320</td><td>2020-03-13 10:56:59</td><td>Os sintomas mais comuns do coronavírus são febre, cansaço e tosse seca. Algumas pessoas têm dores no corpo, congestão nasal, coriza, dor de garganta ou diarreia. Uma em cada seis pessoas desenvolve dificuldade para respirar. Outras não desenvolvem sintoma nenhum, segundo a OMS.</td></tr><tr><th>23</th><td>1240306814522179585</td><td>1240306814522179585</td><td>2020-03-18 12:59:23</td><td>Enquanto aguardo o resultado do exame para a #COVID19 os sintomas começaram a aparecer um a um e a se intensificar. Até agora:  Febre Tosse ✅ Dificuldade de respirar  Dores no corpo ✅ Congestão nasal ✅ Coriza ✅ Dor de garganta ✅ Diarréia Vômito  Resultado sai na sexta.</td></tr><tr><th>24</th><td>1248182824563290117</td><td>1248182824563290117</td><td>2020-04-09 06:35:50</td><td>#Compartilhe #DêLike -  https://t.co/ZjffxYfTwV Coronavírus | COVID-19 - O que os Principais Sintomas: Tosse, Febre e Falta de Ar, Querem Dizer? ✔ Doenças Raras Doem®  #Ageusia #Anosmia #Cansaço #CongestãoNasal #Diarreia #DordeCabeça #Espirro #Gotículas #IndústriaFarmacêutica  https://t.co/XbMGyTTM8s</td></tr><tr><th>25</th><td>1250561984073998343</td><td>1250561973663784967</td><td>2020-04-15 20:09:45</td><td>Quais os sintomas? 😣 - Febre - Tosse seca - Cansaço - Dificuldade para respirar - Dores no corpo - Congestão nasal - Coriza - Dor de garganta - Há casos de diarreia - Pode haver infecção do trato respiratório inferior Há pessoas que não desenvolvem nenhum sintoma.  https://t.co/UrTP7Jb7Go</td></tr><tr><th>26</th><td>1242106756395937796</td><td>1242106755112452098</td><td>2020-03-23 12:11:42</td><td>Quais são os SINTOMAS da COVID-19? Mais comuns -Febre -Tosse seca -Cansaço Alguns pacientes relatam -Coriza Obstrução Nasal - dor na garganta -Diarreia  Em alguns casos: Pneumonia, dificuldade de respirar, falta de ar;</td></tr><tr><th>27</th><td>1242493630713126915</td><td>1242493519144591366</td><td>2020-03-24 13:49:00</td><td>SINTOMAS:  - Tosse - Febre - Congestão Nasal - Coriza - Dor de Garganta - Nariz escorrendo - Fadiga - Cansaço - Diarreira - Dor de cabeça - Dificuldade para respirar (casos graves)  https://t.co/9xYJxwros7</td></tr><tr><th>28</th><td>1243592137117241344</td><td>1243585931195621377</td><td>2020-03-27 14:34:04</td><td>@henrygherson Os sintomas mais comuns&amp;gt;: febre, tosse, falta de ar efeitos possíveis: coriza, dor de garganta, dor no corpo, congestão nasal, cansaço, enjoos, vômito, diarréa</td></tr><tr><th>29</th><td>1263814123059589120</td><td>1263813240326434816</td><td>2020-05-22 09:49:02</td><td>&quot;Para os casos leves, o médico poderá prescrever a cloroquina ou hidroxicloroquina, combinados com a azitromicina, para pacientes que apresentarem os sintomas: perda do paladar e olfato, febre, coriza, diarreia, dor abdominal, tosse, fadiga, dores musculares e cefaleia.&quot;</td></tr><tr><th>30</th><td>1239538852320153600</td><td>1239538852320153600</td><td>2020-03-16 10:07:46</td><td>So lembrando os sintomas aq - Febre - Tosse seca - Cansaço - Dificuldade para respirar em alguns casos - Pode haver dores no corpo - Congestão nasal - Coriza - Dor de garganta - Há casos de diarreia - Pode haver infecção do trato respiratório inferior, como nas pneumonias. +</td></tr><tr><th>&vellip;</th><td>&vellip;</td><td>&vellip;</td><td>&vellip;</td><td>&vellip;</td></tr></tbody></table></div>"
      ],
      "text/latex": [
       "\\begin{tabular}{r|ccccc}\n",
       "\t& id & conversation\\_id & date & tweet & \\\\\n",
       "\t\\hline\n",
       "\t& Int64 & Int64 & String31 & String & \\\\\n",
       "\t\\hline\n",
       "\t1 & 1270513814463799298 & 1270513814463799298 & 2020-06-09 21:31:13 & Sintomas do covid-19: Febre/calafrios Tosse Falta de ar Fadiga Dor muscular/ corporal Dor de cabeça Perda de olfato e paladar Dor de garganta Congestão ou coriza Vômito/ náusea Diarréia Ou seja, o sintoma são diversos. & $\\dots$ \\\\\n",
       "\t2 & 1239876899851186176 & 1239876899851186176 & 2020-03-17 08:31:03 & Os sinais do novo coronavírus se assemelham ao de uma gripe comum:  - Febre - Tosse seca - Cansaço - Dificuldade para respirar em alguns casos - Pode haver dores no corpo - Congestão nasal - Coriza - Dor de garganta - Há casos de diarreia - Pode haver infecção respiratória & $\\dots$ \\\\\n",
       "\t3 & 1241151467463094273 & 1241151467463094273 & 2020-03-20 20:55:43 & Levantamos os sintomais mais comuns do coronavírus -  87\\% - febre 67\\% - tosse seca 38\\% - fadiga 33\\% - catarro 18\\% - falta de ar 14\\% - dor no corpo 13\\% - dor de garganta 13\\% - dor de cabeça 11\\% - calafrios 5\\% - náusea/vômito 4\\% - nariz entupido 3\\% - diarreia  https://t.co/UBOJtekfyy & $\\dots$ \\\\\n",
       "\t4 & 1241152960010293250 & 1241152960010293250 & 2020-03-20 21:01:39 & IMPORTANTE!  Quais os sintomas do coronavírus? 87\\% - febre 67\\% - tosse seca 38\\% - fadiga 33\\% - catarro 18\\% - falta de ar 14\\% - dor no corpo 13\\% - dor de garganta 13\\% - dor de cabeça 11\\% - calafrios 5\\% - náusea/vômito 4\\% - nariz entupido 3\\% - diarreia  Dados da OMS.  https://t.co/mj2sP4grVN & $\\dots$ \\\\\n",
       "\t5 & 1241749379565879297 & 1241749379565879297 & 2020-03-22 12:31:37 & IMPORTANTE!  Quais os sintomas do coronavírus? 87\\% - febre 67\\% - tosse seca 38\\% - fadiga 33\\% - catarro 18\\% - falta de ar 14\\% - dor no corpo 13\\% - dor de garganta 13\\% - dor de cabeça 11\\% - calafrios 5\\% - náusea/vômito 4\\% - nariz entupido 3\\% - diarreia  OMS  https://t.co/4WBUwCYeS1 & $\\dots$ \\\\\n",
       "\t6 & 1241149847866130433 & 1241149847866130433 & 2020-03-20 20:49:17 & IMPORTANTE!  Quais os sintomas do coronavírus? 87\\% - febre 67\\% - tosse seca 38\\% - fadiga 33\\% - catarro 18\\% - falta de ar 14\\% - dor no corpo 13\\% - dor de garganta 13\\% - dor de cabeça 11\\% - calafrios 5\\% - náusea/vômito 4\\% - nariz entupido 3\\% - diarreia  Dados da OMS/@toledoluizf  https://t.co/8WEJ8oIbLC & $\\dots$ \\\\\n",
       "\t7 & 1241169325601546241 & 1241169325601546241 & 2020-03-20 22:06:41 & IMPORTANTE!  Quais os sintomas do coronavírus? Veja aqui os mais comuns: 87\\% - febre 67\\% - tosse seca 38\\% - fadiga 33\\% - catarro 18\\% - falta de ar 14\\% - dor no corpo 13\\% - dor de garganta 13\\% - dor de cabeça 11\\% - calafrios 5\\% - náusea/vômito 4\\% - nariz entupido 3\\% - diarreia & $\\dots$ \\\\\n",
       "\t8 & 1241387717910503425 & 1241387717910503425 & 2020-03-21 12:34:30 & IMPORTANTE!  Quais os sintomas do coronavírus? 87\\% - febre 67\\% - tosse seca 38\\% - fadiga 33\\% - catarro 18\\% - falta de ar 14\\% - dor no corpo 13\\% - dor de garganta 13\\% - dor de cabeça 11\\% - calafrios 5\\% - náusea/vômito 4\\% - nariz entupido 3\\% - diarreia  Dados da OMS & $\\dots$ \\\\\n",
       "\t9 & 1241375166455853059 & 1241375166455853059 & 2020-03-21 11:44:37 & ATENÇÃO - Sintomas mais comuns do coronavírus:  87\\% - febre 67\\% - tosse seca 38\\% - fadiga 33\\% - catarro 18\\% - falta de ar 14\\% - dor no corpo 13\\% - dor de garganta 13\\% - dor de cabeça 11\\% - calafrios 5\\% - náusea/vômito 4\\% - nariz entupido 3\\% - diarreia   Fonte - @CNNBrasil  https://t.co/cS0GPjdmQ7 & $\\dots$ \\\\\n",
       "\t10 & 1241021059123511299 & 1241006090860584962 & 2020-03-20 12:17:32 & @rojahlinrabah Tosse  Febre  Coriza ou congestão nasal  Fadiga  Mialgia/artralgia  Dor de cabeça  Calafrios  Manchas vermelhas pelo corpo  Gânglios linfáticos aumentados  Diarreia  Náusea  Vômito  Desidratação  Inapetência (falta de apetite) & $\\dots$ \\\\\n",
       "\t11 & 1242594831379169280 & 1242594831379169280 & 2020-03-24 20:31:08 & ❌ - febre ❌ - tosse seca ❌ - fadiga ✅ - catarro ❌ - falta de ar ❌- dor no corpo ✅ - dor de garganta ✅ - dor de cabeça ✅ - calafrios ❌ - náusea/vômito ✅ - nariz entupido ❌ - diarreia  kkkk fudeu & $\\dots$ \\\\\n",
       "\t12 & 1238117035135115266 & 1237849277482725376 & 2020-03-12 11:57:58 & @inesamaislinda @esquerda4realz \\% de sintomas: Febre: 88\\% Tosse seca: 68\\% Fadiga: 38\\% Tosse com expectoração: 33\\% Falta de ar: 19\\% Dor óssea ou articular: 15\\% Dor de garganta: 14\\% Dor de cabeça: 14\\% Calafrios: 11\\% Náusea ou vômito: 5\\% Nariz entupido: 5\\% Diarreia: 4\\% Tosse com sangue: 1\\% Olhos inchados: 1\\% & $\\dots$ \\\\\n",
       "\t13 & 1263148916016635909 & 1263148906986254336 & 2020-05-20 13:45:44 & disfunção grave de órgãos ao prolongamento da internação, à incapacidade temporária ou permanente, e até ao óbito\".  Dosagens do remédio recomendadas pelo ministério ⬇️ +   Sintomas leves: anosmia, ageusia, coriza, diarreia, dor abdominal, febre, mialgia, tosse, fadiga e cefaleia  https://t.co/TWom7CoCbN & $\\dots$ \\\\\n",
       "\t14 & 1239972285299085314 & 1238592634379210752 & 2020-03-17 14:50:05 & Os sintomas principais são febre, tosse seca e fadiga, mas a pessoa também pode ficar com o nariz entupido, coriza e dor de garganta (quadro leve). Falta de ar, pressão no peito e cianose também são comuns, mas em quadros graves:   https://t.co/YiaKitqwML & $\\dots$ \\\\\n",
       "\t15 & 1265674346212790274 & 1265674346212790274 & 2020-05-27 13:00:53 & sintomas do coronavírus check:  febre ✅  tosse seca ✅  cansaço ✅  dores e desconfortos ✅  dor de garganta ✅✅✅  dor de cabeça ✅  perda de paladar ou olfato  dificuldade de respirar ou falta de ar ✅  dor ou pressão no peito   perda de fala ou movimento & $\\dots$ \\\\\n",
       "\t16 & 1239959895727730689 & 1239959895727730689 & 2020-03-17 14:00:51 & Sintomas Febre 88\\% (dos casos) Tosse seca 68\\% fadiga 38\\% Catarro 33\\% falta d ar 19\\% Dor muscular ou nas art 15\\% Dor garganta e de cabeça 14\\% Cansaço 11\\% vômito 5\\%  Nariz entupido 5\\% diarreia 4\\%  https://t.co/MKk0o315Na & $\\dots$ \\\\\n",
       "\t17 & 1252661958685442048 & 1252307574655012866 & 2020-04-21 15:14:18 & @McorssiS @AlessandroLoio2 @realDonaldTrump 3) Considere a infecção por Covid-19 se você tiver febre, tosse, expectoração, dispnéia, mialgia, fadiga, dor de cabeça, diarréia, congestão nasal, coriza, garganta inflamada e faringalgia (3) & $\\dots$ \\\\\n",
       "\t18 & 1241778400337027074 & 1241778400337027074 & 2020-03-22 14:26:56 & ＳＩＮＴＯＭＡＳ  Pessoas infectadas não apresentam necessariamente todos os sintomas:   — Tosse seca; — Febre; — Fadiga;  — Congestão nasal; — Coriza;  — Dor de garganta — Dor de cabeça — Diarreia — Cansaço; — Dificuldade de respirar. & $\\dots$ \\\\\n",
       "\t19 & 1240398532449906691 & 1240398532449906691 & 2020-03-18 19:03:50 & Gente, tomem cuidado, isso não é brincadeira! Febre, cansaço, tosse seca, dificuldade em respirar, dores no corpo, congestão nasal, coriza, dor de garganta ou diarréia, é bom ficar alerta! Em caso de suspeita consulte um médico para receber orientações e medicamentos! 😷  https://t.co/tyBc5RQUHd & $\\dots$ \\\\\n",
       "\t20 & 1261929921787637760 & 1261929921787637760 & 2020-05-17 05:01:53 & Sintomas mais comuns: cansaço, tosse seca e febre. Algumas pessoas podem ter dores, congestão nasal (nariz entupido), corrimento nasal (coriza), dor de garganta ou diarreia. Pessoas com febre alta e falta de ar devem procurar atendimento médico. \\#COVIDー19 \\#pandemia \\#quarentena  https://t.co/XXrVGD1M2A & $\\dots$ \\\\\n",
       "\t21 & 1235007750515589120 & 1235003099112235011 & 2020-03-03 22:02:47 & @jornal\\_cultura Corona virus (sem vacina) Febre  Tosse Dificuldade para respirar Gripe H1N1 (com vacina) febre alta dor de cabeça intensa; dores nos músculos; dores nas articulações; calafrios; tosse; falta de apetite; vômito e diarreia (em alguns casos) falta de ar e desconforto respiratório & $\\dots$ \\\\\n",
       "\t22 & 1238464074054328320 & 1238464074054328320 & 2020-03-13 10:56:59 & Os sintomas mais comuns do coronavírus são febre, cansaço e tosse seca. Algumas pessoas têm dores no corpo, congestão nasal, coriza, dor de garganta ou diarreia. Uma em cada seis pessoas desenvolve dificuldade para respirar. Outras não desenvolvem sintoma nenhum, segundo a OMS. & $\\dots$ \\\\\n",
       "\t23 & 1240306814522179585 & 1240306814522179585 & 2020-03-18 12:59:23 & Enquanto aguardo o resultado do exame para a \\#COVID19 os sintomas começaram a aparecer um a um e a se intensificar. Até agora:  Febre Tosse ✅ Dificuldade de respirar  Dores no corpo ✅ Congestão nasal ✅ Coriza ✅ Dor de garganta ✅ Diarréia Vômito  Resultado sai na sexta. & $\\dots$ \\\\\n",
       "\t24 & 1248182824563290117 & 1248182824563290117 & 2020-04-09 06:35:50 & \\#Compartilhe \\#DêLike -  https://t.co/ZjffxYfTwV Coronavírus | COVID-19 - O que os Principais Sintomas: Tosse, Febre e Falta de Ar, Querem Dizer? ✔ Doenças Raras Doem®  \\#Ageusia \\#Anosmia \\#Cansaço \\#CongestãoNasal \\#Diarreia \\#DordeCabeça \\#Espirro \\#Gotículas \\#IndústriaFarmacêutica  https://t.co/XbMGyTTM8s & $\\dots$ \\\\\n",
       "\t25 & 1250561984073998343 & 1250561973663784967 & 2020-04-15 20:09:45 & Quais os sintomas? 😣 - Febre - Tosse seca - Cansaço - Dificuldade para respirar - Dores no corpo - Congestão nasal - Coriza - Dor de garganta - Há casos de diarreia - Pode haver infecção do trato respiratório inferior Há pessoas que não desenvolvem nenhum sintoma.  https://t.co/UrTP7Jb7Go & $\\dots$ \\\\\n",
       "\t26 & 1242106756395937796 & 1242106755112452098 & 2020-03-23 12:11:42 & Quais são os SINTOMAS da COVID-19? Mais comuns -Febre -Tosse seca -Cansaço Alguns pacientes relatam -Coriza Obstrução Nasal - dor na garganta -Diarreia  Em alguns casos: Pneumonia, dificuldade de respirar, falta de ar; & $\\dots$ \\\\\n",
       "\t27 & 1242493630713126915 & 1242493519144591366 & 2020-03-24 13:49:00 & SINTOMAS:  - Tosse - Febre - Congestão Nasal - Coriza - Dor de Garganta - Nariz escorrendo - Fadiga - Cansaço - Diarreira - Dor de cabeça - Dificuldade para respirar (casos graves)  https://t.co/9xYJxwros7 & $\\dots$ \\\\\n",
       "\t28 & 1243592137117241344 & 1243585931195621377 & 2020-03-27 14:34:04 & @henrygherson Os sintomas mais comuns\\&gt;: febre, tosse, falta de ar efeitos possíveis: coriza, dor de garganta, dor no corpo, congestão nasal, cansaço, enjoos, vômito, diarréa & $\\dots$ \\\\\n",
       "\t29 & 1263814123059589120 & 1263813240326434816 & 2020-05-22 09:49:02 & \"Para os casos leves, o médico poderá prescrever a cloroquina ou hidroxicloroquina, combinados com a azitromicina, para pacientes que apresentarem os sintomas: perda do paladar e olfato, febre, coriza, diarreia, dor abdominal, tosse, fadiga, dores musculares e cefaleia.\" & $\\dots$ \\\\\n",
       "\t30 & 1239538852320153600 & 1239538852320153600 & 2020-03-16 10:07:46 & So lembrando os sintomas aq - Febre - Tosse seca - Cansaço - Dificuldade para respirar em alguns casos - Pode haver dores no corpo - Congestão nasal - Coriza - Dor de garganta - Há casos de diarreia - Pode haver infecção do trato respiratório inferior, como nas pneumonias. + & $\\dots$ \\\\\n",
       "\t$\\dots$ & $\\dots$ & $\\dots$ & $\\dots$ & $\\dots$ &  \\\\\n",
       "\\end{tabular}\n"
      ],
      "text/plain": [
       "\u001b[1m6155844×26 DataFrame\u001b[0m\n",
       "\u001b[1m     Row \u001b[0m│\u001b[1m id                  \u001b[0m\u001b[1m conversation_id     \u001b[0m\u001b[1m date                \u001b[0m\u001b[1m twee\u001b[0m ⋯\n",
       "\u001b[1m         \u001b[0m│\u001b[90m Int64               \u001b[0m\u001b[90m Int64               \u001b[0m\u001b[90m String31            \u001b[0m\u001b[90m Stri\u001b[0m ⋯\n",
       "─────────┼──────────────────────────────────────────────────────────────────────\n",
       "       1 │ 1270513814463799298  1270513814463799298  2020-06-09 21:31:13  Sint ⋯\n",
       "       2 │ 1239876899851186176  1239876899851186176  2020-03-17 08:31:03  Os s\n",
       "       3 │ 1241151467463094273  1241151467463094273  2020-03-20 20:55:43  Leva\n",
       "       4 │ 1241152960010293250  1241152960010293250  2020-03-20 21:01:39  IMPO\n",
       "       5 │ 1241749379565879297  1241749379565879297  2020-03-22 12:31:37  IMPO ⋯\n",
       "       6 │ 1241149847866130433  1241149847866130433  2020-03-20 20:49:17  IMPO\n",
       "       7 │ 1241169325601546241  1241169325601546241  2020-03-20 22:06:41  IMPO\n",
       "       8 │ 1241387717910503425  1241387717910503425  2020-03-21 12:34:30  IMPO\n",
       "       9 │ 1241375166455853059  1241375166455853059  2020-03-21 11:44:37  ATEN ⋯\n",
       "      10 │ 1241021059123511299  1241006090860584962  2020-03-20 12:17:32  @roj\n",
       "      11 │ 1242594831379169280  1242594831379169280  2020-03-24 20:31:08  ❌ -\n",
       "    ⋮    │          ⋮                    ⋮                    ⋮                ⋱\n",
       " 6155835 │ 1301309825595445255  1301290573370884096  2020-09-02 21:03:34  @bru\n",
       " 6155836 │ 1301309826019069953  1301307901382885377  2020-09-02 21:03:34  @ren ⋯\n",
       " 6155837 │ 1301309874156994560  1301309874156994560  2020-09-02 21:03:45  Resf\n",
       " 6155838 │ 1301309887826272259  1301309887826272259  2020-09-02 21:03:49  que\n",
       " 6155839 │ 1301309893220216833  1301309893220216833  2020-09-02 21:03:50  Que\n",
       " 6155840 │ 1301309897217368064  1301309897217368064  2020-09-02 21:03:51  Mano ⋯\n",
       " 6155841 │ 1301309948094304262  1301309948094304262  2020-09-02 21:04:03  Agor\n",
       " 6155842 │ 1301309950292090880  1301309950292090880  2020-09-02 21:04:03  Come\n",
       " 6155843 │ 1301309965894848513  1301309965894848513  2020-09-02 21:04:07  @Cen\n",
       " 6155844 │ 1344478186059415553  1344470824888143872  2020-12-30 23:59:13  @Mat ⋯\n",
       "\u001b[36m                                             23 columns and 6155823 rows omitted\u001b[0m"
      ]
     },
     "execution_count": 10,
     "metadata": {},
     "output_type": "execute_result"
    }
   ],
   "source": [
    "df = DataFrametweet = DataFrame(CSV.File(\"Brazil_Portuguese_COVID19_Tweets2020.csv\"))"
   ]
  },
  {
   "cell_type": "code",
   "execution_count": null,
   "id": "69dd4931",
   "metadata": {},
   "outputs": [],
   "source": []
  },
  {
   "cell_type": "code",
   "execution_count": null,
   "id": "dd2b0d7a",
   "metadata": {},
   "outputs": [],
   "source": []
  }
 ],
 "metadata": {
  "kernelspec": {
   "display_name": "Julia 1.6.3",
   "language": "julia",
   "name": "julia-1.6"
  },
  "language_info": {
   "file_extension": ".jl",
   "mimetype": "application/julia",
   "name": "julia",
   "version": "1.6.3"
  }
 },
 "nbformat": 4,
 "nbformat_minor": 5
}
