{
 "cells": [
  {
   "cell_type": "code",
   "execution_count": 1,
   "metadata": {},
   "outputs": [
    {
     "data": {
      "text/plain": [
       "\"This is Julia\""
      ]
     },
     "execution_count": 1,
     "metadata": {},
     "output_type": "execute_result"
    }
   ],
   "source": [
    "s1 = \"This is Julia\""
   ]
  },
  {
   "cell_type": "code",
   "execution_count": 2,
   "metadata": {},
   "outputs": [
    {
     "data": {
      "text/plain": [
       "String"
      ]
     },
     "execution_count": 2,
     "metadata": {},
     "output_type": "execute_result"
    }
   ],
   "source": [
    "typeof(s1)"
   ]
  },
  {
   "cell_type": "code",
   "execution_count": 9,
   "metadata": {},
   "outputs": [
    {
     "data": {
      "text/plain": [
       "\"This is 1st line\\nThis is 2nd\\nThis is 3rd\""
      ]
     },
     "execution_count": 9,
     "metadata": {},
     "output_type": "execute_result"
    }
   ],
   "source": [
    "# Usar 3 aspas para colocar em diferentes linhas\n",
    "s2 = \"\"\"This is 1st line\n",
    "This is 2nd\n",
    "This is 3rd\"\"\"\n",
    "print(s2)"
   ]
  },
  {
   "cell_type": "code",
   "execution_count": 13,
   "metadata": {},
   "outputs": [
    {
     "name": "stdout",
     "output_type": "stream",
     "text": [
      " It \"is\" raining outside \n"
     ]
    }
   ],
   "source": [
    "# Usar 3 aspas quando precisar coloar palavras entre aspas em uma string\n",
    "s3 = \"\"\" It \"is\" raining outside \"\"\";\n",
    "println(s3)"
   ]
  },
  {
   "cell_type": "code",
   "execution_count": 16,
   "metadata": {},
   "outputs": [
    {
     "data": {
      "text/plain": [
       "34"
      ]
     },
     "execution_count": 16,
     "metadata": {},
     "output_type": "execute_result"
    }
   ],
   "source": [
    "grade = 34"
   ]
  },
  {
   "cell_type": "code",
   "execution_count": 17,
   "metadata": {},
   "outputs": [
    {
     "name": "stdout",
     "output_type": "stream",
     "text": [
      "My grade is 12\n",
      "My grade is 34\n"
     ]
    }
   ],
   "source": [
    "println(\"My grade is 12\")\n",
    "println(\"My grade is $grade\")  # Usar o cifrão para indicar que a direita é uma variável e não um texto"
   ]
  },
  {
   "cell_type": "code",
   "execution_count": 20,
   "metadata": {},
   "outputs": [],
   "source": [
    "m1 = \"I love\"\n",
    "m2 = \" Julia\";"
   ]
  },
  {
   "cell_type": "code",
   "execution_count": 22,
   "metadata": {},
   "outputs": [
    {
     "data": {
      "text/plain": [
       "\"I love Classic Julia\""
      ]
     },
     "execution_count": 22,
     "metadata": {},
     "output_type": "execute_result"
    }
   ],
   "source": [
    "string(m1, m2)\n",
    "string(m1, \" Classic\", m2)"
   ]
  },
  {
   "cell_type": "code",
   "execution_count": 23,
   "metadata": {},
   "outputs": [
    {
     "data": {
      "text/plain": [
       "\" Julia Julia Julia Julia Julia Julia Julia Julia Julia Julia Julia Julia Julia Julia Julia Julia Julia Julia Julia Julia Julia Julia Julia Julia Julia Julia Julia Julia Julia Julia Julia Julia Julia Julia Julia Julia Julia Julia Julia Julia Julia Julia Julia Julia Julia Julia Julia Julia Julia Julia Julia Julia Julia Julia Julia Julia Julia Julia Julia Julia Julia Julia Julia Julia Julia Julia Julia Julia Julia Julia Julia Julia Julia Julia Julia Julia Julia Julia Julia Julia Julia Julia Julia Julia Julia Julia Julia Julia Julia Julia Julia Julia Julia Julia Julia Julia Julia Julia Julia Julia\""
      ]
     },
     "execution_count": 23,
     "metadata": {},
     "output_type": "execute_result"
    }
   ],
   "source": [
    "m2 ^ 100"
   ]
  },
  {
   "cell_type": "code",
   "execution_count": 25,
   "metadata": {},
   "outputs": [
    {
     "data": {
      "text/plain": [
       "\"André André André André André André André André André André André André André André André André André André André André André André André André André André André André André André André André André André André André André André André André André André André André André André André André André André André André André André André André André André André André André André André André André André André André André André André André André André André André André André André André André André André André André André André André André André André André André André André André André André André André \""
      ]
     },
     "execution_count": 25,
     "metadata": {},
     "output_type": "execute_result"
    }
   ],
   "source": [
    "\"André \" ^ 100"
   ]
  },
  {
   "cell_type": "code",
   "execution_count": 31,
   "metadata": {},
   "outputs": [
    {
     "name": "stdout",
     "output_type": "stream",
     "text": [
      "I\n",
      "l\n",
      "love\n"
     ]
    }
   ],
   "source": [
    "println(m1[1])\n",
    "println(m1[3])\n",
    "println(m1[3:6])"
   ]
  },
  {
   "cell_type": "code",
   "execution_count": 33,
   "metadata": {},
   "outputs": [
    {
     "data": {
      "text/plain": [
       "Char"
      ]
     },
     "execution_count": 33,
     "metadata": {},
     "output_type": "execute_result"
    }
   ],
   "source": [
    "ch = 'm'\n",
    "typeof(ch)"
   ]
  }
 ],
 "metadata": {
  "kernelspec": {
   "display_name": "Julia 1.4.0",
   "language": "julia",
   "name": "julia-1.4"
  },
  "language_info": {
   "file_extension": ".jl",
   "mimetype": "application/julia",
   "name": "julia",
   "version": "1.4.0"
  }
 },
 "nbformat": 4,
 "nbformat_minor": 4
}
