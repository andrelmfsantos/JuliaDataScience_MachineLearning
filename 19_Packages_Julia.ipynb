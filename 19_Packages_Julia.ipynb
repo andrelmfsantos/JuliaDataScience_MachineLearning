{
 "cells": [
  {
   "cell_type": "markdown",
   "metadata": {},
   "source": [
    "# Packages"
   ]
  },
  {
   "cell_type": "code",
   "execution_count": 1,
   "metadata": {},
   "outputs": [],
   "source": [
    "using Pkg          # pacote para instalar packages em Julia"
   ]
  },
  {
   "cell_type": "code",
   "execution_count": 2,
   "metadata": {},
   "outputs": [
    {
     "name": "stderr",
     "output_type": "stream",
     "text": [
      "┌ Warning: Pkg.installed() is deprecated\n",
      "└ @ Pkg C:\\Users\\julia\\AppData\\Local\\Julia-1.4.0\\share\\julia\\stdlib\\v1.4\\Pkg\\src\\Pkg.jl:531\n"
     ]
    },
    {
     "data": {
      "text/plain": [
       "Dict{String,VersionNumber} with 5 entries:\n",
       "  \"Juno\"              => v\"0.8.1\"\n",
       "  \"IJulia\"            => v\"1.20.0\"\n",
       "  \"DataFrames\"        => v\"0.20.2\"\n",
       "  \"Atom\"              => v\"0.12.10\"\n",
       "  \"PkgAuthentication\" => v\"0.1.2\""
      ]
     },
     "execution_count": 2,
     "metadata": {},
     "output_type": "execute_result"
    }
   ],
   "source": [
    "Pkg.installed()    # verifica os pacotes instalados"
   ]
  },
  {
   "cell_type": "code",
   "execution_count": 3,
   "metadata": {},
   "outputs": [],
   "source": [
    "#=\n",
    "Pkg.rm(\"DataFrames\")   # remove o pacote\n",
    "Pkg.add(\"DataFrames\")  # instala o pacote\n",
    "=#"
   ]
  },
  {
   "cell_type": "code",
   "execution_count": 4,
   "metadata": {},
   "outputs": [
    {
     "name": "stderr",
     "output_type": "stream",
     "text": [
      "\u001b[32m\u001b[1m   Updating\u001b[22m\u001b[39m registry at `C:\\Users\\andre\\.juliapro\\JuliaPro_v1.4.0-1\\registries\\JuliaPro`\n",
      "\u001b[32m\u001b[1m  Resolving\u001b[22m\u001b[39m package versions...\n",
      "\u001b[32m\u001b[1m  Installed\u001b[22m\u001b[39m MbedTLS_jll ─ v2.16.0+2\n",
      "\u001b[32m\u001b[1m  Installed\u001b[22m\u001b[39m ZeroMQ_jll ── v4.3.2+4\n",
      "\u001b[32m\u001b[1m   Updating\u001b[22m\u001b[39m `C:\\Users\\andre\\.juliapro\\JuliaPro_v1.4.0-1\\environments\\v1.4\\Project.toml`\n",
      " \u001b[90m [10745b16]\u001b[39m\u001b[92m + Statistics \u001b[39m\n",
      "\u001b[32m\u001b[1m   Updating\u001b[22m\u001b[39m `C:\\Users\\andre\\.juliapro\\JuliaPro_v1.4.0-1\\environments\\v1.4\\Manifest.toml`\n",
      " \u001b[90m [c8ffd9c3]\u001b[39m\u001b[93m ↑ MbedTLS_jll v2.16.0+1 ⇒ v2.16.0+2\u001b[39m\n",
      " \u001b[90m [8f1865be]\u001b[39m\u001b[93m ↑ ZeroMQ_jll v4.3.2+1 ⇒ v4.3.2+4\u001b[39m\n"
     ]
    }
   ],
   "source": [
    "Pkg.add(\"Statistics\")"
   ]
  },
  {
   "cell_type": "code",
   "execution_count": null,
   "metadata": {},
   "outputs": [],
   "source": [
    "using Statistics"
   ]
  },
  {
   "cell_type": "code",
   "execution_count": null,
   "metadata": {},
   "outputs": [],
   "source": [
    "mean([3, 7, 9])"
   ]
  }
 ],
 "metadata": {
  "kernelspec": {
   "display_name": "Julia 1.4.0",
   "language": "julia",
   "name": "julia-1.4"
  },
  "language_info": {
   "file_extension": ".jl",
   "mimetype": "application/julia",
   "name": "julia",
   "version": "1.4.0"
  }
 },
 "nbformat": 4,
 "nbformat_minor": 4
}
