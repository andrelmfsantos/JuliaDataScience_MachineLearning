{
 "cells": [
  {
   "cell_type": "markdown",
   "metadata": {},
   "source": [
    "# Linear Regression Part - 1"
   ]
  },
  {
   "cell_type": "code",
   "execution_count": 5,
   "metadata": {},
   "outputs": [
    {
     "name": "stderr",
     "output_type": "stream",
     "text": [
      "┌ Info: Precompiling DataFrames [a93c6f00-e57d-5684-b7b6-d8193f3e46c0]\n",
      "└ @ Base loading.jl:1260\n"
     ]
    }
   ],
   "source": [
    "using DataFrames"
   ]
  },
  {
   "cell_type": "code",
   "execution_count": 7,
   "metadata": {},
   "outputs": [
    {
     "data": {
      "text/html": [
       "<table class=\"data-frame\"><thead><tr><th></th><th>Promote</th><th>Sales</th></tr><tr><th></th><th>Int64</th><th>Int64</th></tr></thead><tbody><p>19 rows × 2 columns</p><tr><th>1</th><td>23</td><td>554</td></tr><tr><th>2</th><td>56</td><td>1339</td></tr><tr><th>3</th><td>34</td><td>815</td></tr><tr><th>4</th><td>25</td><td>609</td></tr><tr><th>5</th><td>67</td><td>1600</td></tr><tr><th>6</th><td>82</td><td>2000</td></tr><tr><th>7</th><td>46</td><td>1000</td></tr><tr><th>8</th><td>14</td><td>300</td></tr><tr><th>9</th><td>6</td><td>150</td></tr><tr><th>10</th><td>47</td><td>1150</td></tr><tr><th>11</th><td>52</td><td>1200</td></tr><tr><th>12</th><td>88</td><td>2000</td></tr><tr><th>13</th><td>71</td><td>1750</td></tr><tr><th>14</th><td>78</td><td>2000</td></tr><tr><th>15</th><td>66</td><td>1500</td></tr><tr><th>16</th><td>44</td><td>1000</td></tr><tr><th>17</th><td>68</td><td>1600</td></tr><tr><th>18</th><td>90</td><td>2000</td></tr><tr><th>19</th><td>22</td><td>550</td></tr></tbody></table>"
      ],
      "text/latex": [
       "\\begin{tabular}{r|cc}\n",
       "\t& Promote & Sales\\\\\n",
       "\t\\hline\n",
       "\t& Int64 & Int64\\\\\n",
       "\t\\hline\n",
       "\t1 & 23 & 554 \\\\\n",
       "\t2 & 56 & 1339 \\\\\n",
       "\t3 & 34 & 815 \\\\\n",
       "\t4 & 25 & 609 \\\\\n",
       "\t5 & 67 & 1600 \\\\\n",
       "\t6 & 82 & 2000 \\\\\n",
       "\t7 & 46 & 1000 \\\\\n",
       "\t8 & 14 & 300 \\\\\n",
       "\t9 & 6 & 150 \\\\\n",
       "\t10 & 47 & 1150 \\\\\n",
       "\t11 & 52 & 1200 \\\\\n",
       "\t12 & 88 & 2000 \\\\\n",
       "\t13 & 71 & 1750 \\\\\n",
       "\t14 & 78 & 2000 \\\\\n",
       "\t15 & 66 & 1500 \\\\\n",
       "\t16 & 44 & 1000 \\\\\n",
       "\t17 & 68 & 1600 \\\\\n",
       "\t18 & 90 & 2000 \\\\\n",
       "\t19 & 22 & 550 \\\\\n",
       "\\end{tabular}\n"
      ],
      "text/plain": [
       "19×2 DataFrame\n",
       "│ Row │ Promote │ Sales │\n",
       "│     │ \u001b[90mInt64\u001b[39m   │ \u001b[90mInt64\u001b[39m │\n",
       "├─────┼─────────┼───────┤\n",
       "│ 1   │ 23      │ 554   │\n",
       "│ 2   │ 56      │ 1339  │\n",
       "│ 3   │ 34      │ 815   │\n",
       "│ 4   │ 25      │ 609   │\n",
       "│ 5   │ 67      │ 1600  │\n",
       "│ 6   │ 82      │ 2000  │\n",
       "│ 7   │ 46      │ 1000  │\n",
       "│ 8   │ 14      │ 300   │\n",
       "│ 9   │ 6       │ 150   │\n",
       "│ 10  │ 47      │ 1150  │\n",
       "│ 11  │ 52      │ 1200  │\n",
       "│ 12  │ 88      │ 2000  │\n",
       "│ 13  │ 71      │ 1750  │\n",
       "│ 14  │ 78      │ 2000  │\n",
       "│ 15  │ 66      │ 1500  │\n",
       "│ 16  │ 44      │ 1000  │\n",
       "│ 17  │ 68      │ 1600  │\n",
       "│ 18  │ 90      │ 2000  │\n",
       "│ 19  │ 22      │ 550   │"
      ]
     },
     "execution_count": 7,
     "metadata": {},
     "output_type": "execute_result"
    }
   ],
   "source": [
    "dataset = DataFrame(Promote = [23, 56, 34, 25, 67, 82, 46, 14, 6, 47, 52, 88, 71, 78, 66, 44, 68, 90, 22], \n",
    "    Sales = [554, 1339, 815, 609, 1600, 2000, 1000, 300, 150, 1150, 1200, 2000, 1750, 2000, 1500, 1000, 1600, 2000, 550])"
   ]
  },
  {
   "cell_type": "code",
   "execution_count": 14,
   "metadata": {},
   "outputs": [
    {
     "name": "stderr",
     "output_type": "stream",
     "text": [
      "┌ Warning: `getindex(df::DataFrame, col_ind::ColumnIndex)` is deprecated, use `df[!, col_ind]` instead.\n",
      "│   caller = top-level scope at In[14]:1\n",
      "└ @ Core In[14]:1\n",
      "┌ Warning: `getindex(df::DataFrame, col_ind::ColumnIndex)` is deprecated, use `df[!, col_ind]` instead.\n",
      "│   caller = top-level scope at In[14]:2\n",
      "└ @ Core In[14]:2\n"
     ]
    }
   ],
   "source": [
    "X = dataset[:Promote]\n",
    "Y = dataset[:Sales];"
   ]
  },
  {
   "cell_type": "code",
   "execution_count": 10,
   "metadata": {},
   "outputs": [],
   "source": [
    "#Pkg.add(\"Plots\")\n",
    "using Plots;"
   ]
  },
  {
   "cell_type": "code",
   "execution_count": 11,
   "metadata": {},
   "outputs": [
    {
     "data": {
      "image/svg+xml": [
       "<?xml version=\"1.0\" encoding=\"utf-8\"?>\n",
       "<svg xmlns=\"http://www.w3.org/2000/svg\" xmlns:xlink=\"http://www.w3.org/1999/xlink\" width=\"600\" height=\"400\" viewBox=\"0 0 2400 1600\">\n",
       "<defs>\n",
       "  <clipPath id=\"clip2600\">\n",
       "    <rect x=\"0\" y=\"0\" width=\"2400\" height=\"1600\"/>\n",
       "  </clipPath>\n",
       "</defs>\n",
       "<path clip-path=\"url(#clip2600)\" d=\"\n",
       "M0 1600 L2400 1600 L2400 0 L0 0  Z\n",
       "  \" fill=\"#ffffff\" fill-rule=\"evenodd\" fill-opacity=\"1\"/>\n",
       "<defs>\n",
       "  <clipPath id=\"clip2601\">\n",
       "    <rect x=\"480\" y=\"0\" width=\"1681\" height=\"1600\"/>\n",
       "  </clipPath>\n",
       "</defs>\n",
       "<path clip-path=\"url(#clip2600)\" d=\"\n",
       "M234.579 1486.61 L2352.76 1486.61 L2352.76 47.2441 L234.579 47.2441  Z\n",
       "  \" fill=\"#ffffff\" fill-rule=\"evenodd\" fill-opacity=\"1\"/>\n",
       "<defs>\n",
       "  <clipPath id=\"clip2602\">\n",
       "    <rect x=\"234\" y=\"47\" width=\"2119\" height=\"1440\"/>\n",
       "  </clipPath>\n",
       "</defs>\n",
       "<polyline clip-path=\"url(#clip2602)\" style=\"stroke:#000000; stroke-width:2; stroke-opacity:0.1; fill:none\" points=\"\n",
       "  627.574,1486.61 627.574,47.2441 \n",
       "  \"/>\n",
       "<polyline clip-path=\"url(#clip2602)\" style=\"stroke:#000000; stroke-width:2; stroke-opacity:0.1; fill:none\" points=\"\n",
       "  1103.36,1486.61 1103.36,47.2441 \n",
       "  \"/>\n",
       "<polyline clip-path=\"url(#clip2602)\" style=\"stroke:#000000; stroke-width:2; stroke-opacity:0.1; fill:none\" points=\"\n",
       "  1579.14,1486.61 1579.14,47.2441 \n",
       "  \"/>\n",
       "<polyline clip-path=\"url(#clip2602)\" style=\"stroke:#000000; stroke-width:2; stroke-opacity:0.1; fill:none\" points=\"\n",
       "  2054.92,1486.61 2054.92,47.2441 \n",
       "  \"/>\n",
       "<polyline clip-path=\"url(#clip2602)\" style=\"stroke:#000000; stroke-width:2; stroke-opacity:0.1; fill:none\" points=\"\n",
       "  234.579,1188.98 2352.76,1188.98 \n",
       "  \"/>\n",
       "<polyline clip-path=\"url(#clip2602)\" style=\"stroke:#000000; stroke-width:2; stroke-opacity:0.1; fill:none\" points=\"\n",
       "  234.579,821.978 2352.76,821.978 \n",
       "  \"/>\n",
       "<polyline clip-path=\"url(#clip2602)\" style=\"stroke:#000000; stroke-width:2; stroke-opacity:0.1; fill:none\" points=\"\n",
       "  234.579,454.979 2352.76,454.979 \n",
       "  \"/>\n",
       "<polyline clip-path=\"url(#clip2602)\" style=\"stroke:#000000; stroke-width:2; stroke-opacity:0.1; fill:none\" points=\"\n",
       "  234.579,87.9809 2352.76,87.9809 \n",
       "  \"/>\n",
       "<polyline clip-path=\"url(#clip2600)\" style=\"stroke:#000000; stroke-width:4; stroke-opacity:1; fill:none\" points=\"\n",
       "  234.579,1486.61 2352.76,1486.61 \n",
       "  \"/>\n",
       "<polyline clip-path=\"url(#clip2600)\" style=\"stroke:#000000; stroke-width:4; stroke-opacity:1; fill:none\" points=\"\n",
       "  234.579,1486.61 234.579,47.2441 \n",
       "  \"/>\n",
       "<polyline clip-path=\"url(#clip2600)\" style=\"stroke:#000000; stroke-width:4; stroke-opacity:1; fill:none\" points=\"\n",
       "  627.574,1486.61 627.574,1469.34 \n",
       "  \"/>\n",
       "<polyline clip-path=\"url(#clip2600)\" style=\"stroke:#000000; stroke-width:4; stroke-opacity:1; fill:none\" points=\"\n",
       "  1103.36,1486.61 1103.36,1469.34 \n",
       "  \"/>\n",
       "<polyline clip-path=\"url(#clip2600)\" style=\"stroke:#000000; stroke-width:4; stroke-opacity:1; fill:none\" points=\"\n",
       "  1579.14,1486.61 1579.14,1469.34 \n",
       "  \"/>\n",
       "<polyline clip-path=\"url(#clip2600)\" style=\"stroke:#000000; stroke-width:4; stroke-opacity:1; fill:none\" points=\"\n",
       "  2054.92,1486.61 2054.92,1469.34 \n",
       "  \"/>\n",
       "<polyline clip-path=\"url(#clip2600)\" style=\"stroke:#000000; stroke-width:4; stroke-opacity:1; fill:none\" points=\"\n",
       "  234.579,1188.98 259.997,1188.98 \n",
       "  \"/>\n",
       "<polyline clip-path=\"url(#clip2600)\" style=\"stroke:#000000; stroke-width:4; stroke-opacity:1; fill:none\" points=\"\n",
       "  234.579,821.978 259.997,821.978 \n",
       "  \"/>\n",
       "<polyline clip-path=\"url(#clip2600)\" style=\"stroke:#000000; stroke-width:4; stroke-opacity:1; fill:none\" points=\"\n",
       "  234.579,454.979 259.997,454.979 \n",
       "  \"/>\n",
       "<polyline clip-path=\"url(#clip2600)\" style=\"stroke:#000000; stroke-width:4; stroke-opacity:1; fill:none\" points=\"\n",
       "  234.579,87.9809 259.997,87.9809 \n",
       "  \"/>\n",
       "<polyline clip-path=\"url(#clip2600)\" style=\"stroke:#000000; stroke-width:3.2; stroke-opacity:1; fill:none\" points=\"\n",
       "  612.332,1512.62 612.332,1510.97 613.978,1510.97 613.978,1514.26 610.686,1514.26 610.686,1510.97 612.332,1507.68 613.978,1506.03 618.915,1504.39 623.852,1504.39 \n",
       "  628.789,1506.03 630.435,1509.33 630.435,1512.62 628.789,1515.91 625.498,1519.2 609.041,1529.07 605.749,1532.37 602.458,1538.95 \n",
       "  \"/>\n",
       "<polyline clip-path=\"url(#clip2600)\" style=\"stroke:#000000; stroke-width:3.2; stroke-opacity:1; fill:none\" points=\"\n",
       "  627.143,1506.03 628.789,1509.33 628.789,1512.62 627.143,1515.91 623.852,1519.2 618.915,1522.49 \n",
       "  \"/>\n",
       "<polyline clip-path=\"url(#clip2600)\" style=\"stroke:#000000; stroke-width:3.2; stroke-opacity:1; fill:none\" points=\"\n",
       "  623.852,1504.39 625.498,1506.03 627.143,1509.33 627.143,1512.62 625.498,1515.91 622.206,1519.2 609.041,1529.07 \n",
       "  \"/>\n",
       "<polyline clip-path=\"url(#clip2600)\" style=\"stroke:#000000; stroke-width:3.2; stroke-opacity:1; fill:none\" points=\"\n",
       "  604.103,1535.66 605.749,1534.01 609.041,1534.01 617.269,1535.66 625.498,1535.66 627.143,1534.01 \n",
       "  \"/>\n",
       "<polyline clip-path=\"url(#clip2600)\" style=\"stroke:#000000; stroke-width:3.2; stroke-opacity:1; fill:none\" points=\"\n",
       "  609.041,1534.01 617.269,1537.3 625.498,1537.3 \n",
       "  \"/>\n",
       "<polyline clip-path=\"url(#clip2600)\" style=\"stroke:#000000; stroke-width:3.2; stroke-opacity:1; fill:none\" points=\"\n",
       "  609.041,1534.01 617.269,1538.95 622.206,1538.95 625.498,1537.3 627.143,1534.01 627.143,1532.37 \n",
       "  \"/>\n",
       "<polyline clip-path=\"url(#clip2600)\" style=\"stroke:#000000; stroke-width:3.2; stroke-opacity:1; fill:none\" points=\"\n",
       "  647.323,1504.39 642.386,1506.03 639.094,1509.33 635.803,1514.26 634.157,1519.2 632.511,1525.78 632.511,1530.72 634.157,1535.66 635.803,1537.3 639.094,1538.95 \n",
       "  642.386,1538.95 647.323,1537.3 650.614,1534.01 653.906,1529.07 655.551,1524.14 657.197,1517.55 657.197,1512.62 655.551,1507.68 653.906,1506.03 650.614,1504.39 \n",
       "  647.323,1504.39 \n",
       "  \"/>\n",
       "<polyline clip-path=\"url(#clip2600)\" style=\"stroke:#000000; stroke-width:3.2; stroke-opacity:1; fill:none\" points=\"\n",
       "  642.386,1507.68 639.094,1510.97 637.449,1514.26 635.803,1519.2 634.157,1525.78 634.157,1532.37 635.803,1535.66 \n",
       "  \"/>\n",
       "<polyline clip-path=\"url(#clip2600)\" style=\"stroke:#000000; stroke-width:3.2; stroke-opacity:1; fill:none\" points=\"\n",
       "  647.323,1535.66 650.614,1532.37 652.26,1529.07 653.906,1524.14 655.551,1517.55 655.551,1510.97 653.906,1507.68 \n",
       "  \"/>\n",
       "<polyline clip-path=\"url(#clip2600)\" style=\"stroke:#000000; stroke-width:3.2; stroke-opacity:1; fill:none\" points=\"\n",
       "  647.323,1504.39 644.031,1506.03 640.74,1510.97 639.094,1514.26 637.449,1519.2 635.803,1525.78 635.803,1534.01 637.449,1537.3 639.094,1538.95 \n",
       "  \"/>\n",
       "<polyline clip-path=\"url(#clip2600)\" style=\"stroke:#000000; stroke-width:3.2; stroke-opacity:1; fill:none\" points=\"\n",
       "  642.386,1538.95 645.677,1537.3 648.969,1532.37 650.614,1529.07 652.26,1524.14 653.906,1517.55 653.906,1509.33 652.26,1506.03 650.614,1504.39 \n",
       "  \"/>\n",
       "<polyline clip-path=\"url(#clip2600)\" style=\"stroke:#000000; stroke-width:3.2; stroke-opacity:1; fill:none\" points=\"\n",
       "  1101.28,1510.97 1093.05,1538.95 1096.34,1538.95 \n",
       "  \"/>\n",
       "<polyline clip-path=\"url(#clip2600)\" style=\"stroke:#000000; stroke-width:3.2; stroke-opacity:1; fill:none\" points=\"\n",
       "  1106.22,1504.39 1102.92,1510.97 1094.7,1538.95 \n",
       "  \"/>\n",
       "<polyline clip-path=\"url(#clip2600)\" style=\"stroke:#000000; stroke-width:3.2; stroke-opacity:1; fill:none\" points=\"\n",
       "  1106.22,1504.39 1096.34,1538.95 \n",
       "  \"/>\n",
       "<polyline clip-path=\"url(#clip2600)\" style=\"stroke:#000000; stroke-width:3.2; stroke-opacity:1; fill:none\" points=\"\n",
       "  1106.22,1504.39 1079.88,1529.07 1106.22,1529.07 \n",
       "  \"/>\n",
       "<polyline clip-path=\"url(#clip2600)\" style=\"stroke:#000000; stroke-width:3.2; stroke-opacity:1; fill:none\" points=\"\n",
       "  1123.1,1504.39 1118.17,1506.03 1114.88,1509.33 1111.58,1514.26 1109.94,1519.2 1108.29,1525.78 1108.29,1530.72 1109.94,1535.66 1111.58,1537.3 1114.88,1538.95 \n",
       "  1118.17,1538.95 1123.1,1537.3 1126.4,1534.01 1129.69,1529.07 1131.33,1524.14 1132.98,1517.55 1132.98,1512.62 1131.33,1507.68 1129.69,1506.03 1126.4,1504.39 \n",
       "  1123.1,1504.39 \n",
       "  \"/>\n",
       "<polyline clip-path=\"url(#clip2600)\" style=\"stroke:#000000; stroke-width:3.2; stroke-opacity:1; fill:none\" points=\"\n",
       "  1118.17,1507.68 1114.88,1510.97 1113.23,1514.26 1111.58,1519.2 1109.94,1525.78 1109.94,1532.37 1111.58,1535.66 \n",
       "  \"/>\n",
       "<polyline clip-path=\"url(#clip2600)\" style=\"stroke:#000000; stroke-width:3.2; stroke-opacity:1; fill:none\" points=\"\n",
       "  1123.1,1535.66 1126.4,1532.37 1128.04,1529.07 1129.69,1524.14 1131.33,1517.55 1131.33,1510.97 1129.69,1507.68 \n",
       "  \"/>\n",
       "<polyline clip-path=\"url(#clip2600)\" style=\"stroke:#000000; stroke-width:3.2; stroke-opacity:1; fill:none\" points=\"\n",
       "  1123.1,1504.39 1119.81,1506.03 1116.52,1510.97 1114.88,1514.26 1113.23,1519.2 1111.58,1525.78 1111.58,1534.01 1113.23,1537.3 1114.88,1538.95 \n",
       "  \"/>\n",
       "<polyline clip-path=\"url(#clip2600)\" style=\"stroke:#000000; stroke-width:3.2; stroke-opacity:1; fill:none\" points=\"\n",
       "  1118.17,1538.95 1121.46,1537.3 1124.75,1532.37 1126.4,1529.07 1128.04,1524.14 1129.69,1517.55 1129.69,1509.33 1128.04,1506.03 1126.4,1504.39 \n",
       "  \"/>\n",
       "<polyline clip-path=\"url(#clip2600)\" style=\"stroke:#000000; stroke-width:3.2; stroke-opacity:1; fill:none\" points=\"\n",
       "  1580.35,1510.97 1580.35,1509.33 1578.71,1509.33 1578.71,1512.62 1582,1512.62 1582,1509.33 1580.35,1506.03 1577.06,1504.39 1572.12,1504.39 1567.19,1506.03 \n",
       "  1563.89,1509.33 1560.6,1514.26 1558.96,1519.2 1557.31,1525.78 1557.31,1530.72 1558.96,1535.66 1560.6,1537.3 1563.89,1538.95 1568.83,1538.95 1573.77,1537.3 \n",
       "  1577.06,1534.01 1578.71,1530.72 1578.71,1525.78 1577.06,1522.49 1575.41,1520.85 1572.12,1519.2 1567.19,1519.2 1563.89,1520.85 1562.25,1522.49 1560.6,1525.78 \n",
       "  \n",
       "  \"/>\n",
       "<polyline clip-path=\"url(#clip2600)\" style=\"stroke:#000000; stroke-width:3.2; stroke-opacity:1; fill:none\" points=\"\n",
       "  1565.54,1509.33 1562.25,1514.26 1560.6,1519.2 1558.96,1525.78 1558.96,1532.37 1560.6,1535.66 \n",
       "  \"/>\n",
       "<polyline clip-path=\"url(#clip2600)\" style=\"stroke:#000000; stroke-width:3.2; stroke-opacity:1; fill:none\" points=\"\n",
       "  1575.41,1534.01 1577.06,1530.72 1577.06,1525.78 1575.41,1522.49 \n",
       "  \"/>\n",
       "<polyline clip-path=\"url(#clip2600)\" style=\"stroke:#000000; stroke-width:3.2; stroke-opacity:1; fill:none\" points=\"\n",
       "  1572.12,1504.39 1568.83,1506.03 1565.54,1510.97 1563.89,1514.26 1562.25,1519.2 1560.6,1525.78 1560.6,1534.01 1562.25,1537.3 1563.89,1538.95 \n",
       "  \"/>\n",
       "<polyline clip-path=\"url(#clip2600)\" style=\"stroke:#000000; stroke-width:3.2; stroke-opacity:1; fill:none\" points=\"\n",
       "  1568.83,1538.95 1572.12,1537.3 1573.77,1535.66 1575.41,1530.72 1575.41,1524.14 1573.77,1520.85 1572.12,1519.2 \n",
       "  \"/>\n",
       "<polyline clip-path=\"url(#clip2600)\" style=\"stroke:#000000; stroke-width:3.2; stroke-opacity:1; fill:none\" points=\"\n",
       "  1598.88,1504.39 1593.95,1506.03 1590.66,1509.33 1587.36,1514.26 1585.72,1519.2 1584.07,1525.78 1584.07,1530.72 1585.72,1535.66 1587.36,1537.3 1590.66,1538.95 \n",
       "  1593.95,1538.95 1598.88,1537.3 1602.18,1534.01 1605.47,1529.07 1607.11,1524.14 1608.76,1517.55 1608.76,1512.62 1607.11,1507.68 1605.47,1506.03 1602.18,1504.39 \n",
       "  1598.88,1504.39 \n",
       "  \"/>\n",
       "<polyline clip-path=\"url(#clip2600)\" style=\"stroke:#000000; stroke-width:3.2; stroke-opacity:1; fill:none\" points=\"\n",
       "  1593.95,1507.68 1590.66,1510.97 1589.01,1514.26 1587.36,1519.2 1585.72,1525.78 1585.72,1532.37 1587.36,1535.66 \n",
       "  \"/>\n",
       "<polyline clip-path=\"url(#clip2600)\" style=\"stroke:#000000; stroke-width:3.2; stroke-opacity:1; fill:none\" points=\"\n",
       "  1598.88,1535.66 1602.18,1532.37 1603.82,1529.07 1605.47,1524.14 1607.11,1517.55 1607.11,1510.97 1605.47,1507.68 \n",
       "  \"/>\n",
       "<polyline clip-path=\"url(#clip2600)\" style=\"stroke:#000000; stroke-width:3.2; stroke-opacity:1; fill:none\" points=\"\n",
       "  1598.88,1504.39 1595.59,1506.03 1592.3,1510.97 1590.66,1514.26 1589.01,1519.2 1587.36,1525.78 1587.36,1534.01 1589.01,1537.3 1590.66,1538.95 \n",
       "  \"/>\n",
       "<polyline clip-path=\"url(#clip2600)\" style=\"stroke:#000000; stroke-width:3.2; stroke-opacity:1; fill:none\" points=\"\n",
       "  1593.95,1538.95 1597.24,1537.3 1600.53,1532.37 1602.18,1529.07 1603.82,1524.14 1605.47,1517.55 1605.47,1509.33 1603.82,1506.03 1602.18,1504.39 \n",
       "  \"/>\n",
       "<polyline clip-path=\"url(#clip2600)\" style=\"stroke:#000000; stroke-width:3.2; stroke-opacity:1; fill:none\" points=\"\n",
       "  2046.26,1504.39 2041.32,1506.03 2039.67,1507.68 2038.03,1510.97 2038.03,1515.91 2039.67,1519.2 2042.97,1520.85 2047.9,1520.85 2052.84,1519.2 2056.13,1517.55 \n",
       "  2057.78,1514.26 2057.78,1509.33 2056.13,1506.03 2052.84,1504.39 2046.26,1504.39 \n",
       "  \"/>\n",
       "<polyline clip-path=\"url(#clip2600)\" style=\"stroke:#000000; stroke-width:3.2; stroke-opacity:1; fill:none\" points=\"\n",
       "  2049.55,1504.39 2041.32,1506.03 \n",
       "  \"/>\n",
       "<polyline clip-path=\"url(#clip2600)\" style=\"stroke:#000000; stroke-width:3.2; stroke-opacity:1; fill:none\" points=\"\n",
       "  2041.32,1507.68 2039.67,1510.97 2039.67,1517.55 2041.32,1519.2 \n",
       "  \"/>\n",
       "<polyline clip-path=\"url(#clip2600)\" style=\"stroke:#000000; stroke-width:3.2; stroke-opacity:1; fill:none\" points=\"\n",
       "  2039.67,1519.2 2044.61,1520.85 \n",
       "  \"/>\n",
       "<polyline clip-path=\"url(#clip2600)\" style=\"stroke:#000000; stroke-width:3.2; stroke-opacity:1; fill:none\" points=\"\n",
       "  2046.26,1520.85 2052.84,1519.2 \n",
       "  \"/>\n",
       "<polyline clip-path=\"url(#clip2600)\" style=\"stroke:#000000; stroke-width:3.2; stroke-opacity:1; fill:none\" points=\"\n",
       "  2054.49,1517.55 2056.13,1514.26 2056.13,1509.33 2054.49,1506.03 \n",
       "  \"/>\n",
       "<polyline clip-path=\"url(#clip2600)\" style=\"stroke:#000000; stroke-width:3.2; stroke-opacity:1; fill:none\" points=\"\n",
       "  2056.13,1506.03 2049.55,1504.39 \n",
       "  \"/>\n",
       "<polyline clip-path=\"url(#clip2600)\" style=\"stroke:#000000; stroke-width:3.2; stroke-opacity:1; fill:none\" points=\"\n",
       "  2046.26,1504.39 2042.97,1507.68 2041.32,1510.97 2041.32,1517.55 2042.97,1520.85 \n",
       "  \"/>\n",
       "<polyline clip-path=\"url(#clip2600)\" style=\"stroke:#000000; stroke-width:3.2; stroke-opacity:1; fill:none\" points=\"\n",
       "  2047.9,1520.85 2051.19,1519.2 2052.84,1517.55 2054.49,1514.26 2054.49,1507.68 2052.84,1504.39 \n",
       "  \"/>\n",
       "<polyline clip-path=\"url(#clip2600)\" style=\"stroke:#000000; stroke-width:3.2; stroke-opacity:1; fill:none\" points=\"\n",
       "  2042.97,1520.85 2036.38,1522.49 2033.09,1525.78 2031.45,1529.07 2031.45,1534.01 2033.09,1537.3 2038.03,1538.95 2044.61,1538.95 2051.19,1537.3 2052.84,1535.66 \n",
       "  2054.49,1532.37 2054.49,1527.43 2052.84,1524.14 2051.19,1522.49 2047.9,1520.85 \n",
       "  \"/>\n",
       "<polyline clip-path=\"url(#clip2600)\" style=\"stroke:#000000; stroke-width:3.2; stroke-opacity:1; fill:none\" points=\"\n",
       "  2044.61,1520.85 2036.38,1522.49 \n",
       "  \"/>\n",
       "<polyline clip-path=\"url(#clip2600)\" style=\"stroke:#000000; stroke-width:3.2; stroke-opacity:1; fill:none\" points=\"\n",
       "  2038.03,1522.49 2034.74,1525.78 2033.09,1529.07 2033.09,1534.01 2034.74,1537.3 \n",
       "  \"/>\n",
       "<polyline clip-path=\"url(#clip2600)\" style=\"stroke:#000000; stroke-width:3.2; stroke-opacity:1; fill:none\" points=\"\n",
       "  2033.09,1537.3 2041.32,1538.95 2051.19,1537.3 \n",
       "  \"/>\n",
       "<polyline clip-path=\"url(#clip2600)\" style=\"stroke:#000000; stroke-width:3.2; stroke-opacity:1; fill:none\" points=\"\n",
       "  2051.19,1535.66 2052.84,1532.37 2052.84,1527.43 2051.19,1524.14 \n",
       "  \"/>\n",
       "<polyline clip-path=\"url(#clip2600)\" style=\"stroke:#000000; stroke-width:3.2; stroke-opacity:1; fill:none\" points=\"\n",
       "  2051.19,1522.49 2046.26,1520.85 \n",
       "  \"/>\n",
       "<polyline clip-path=\"url(#clip2600)\" style=\"stroke:#000000; stroke-width:3.2; stroke-opacity:1; fill:none\" points=\"\n",
       "  2042.97,1520.85 2039.67,1522.49 2036.38,1525.78 2034.74,1529.07 2034.74,1534.01 2036.38,1537.3 2038.03,1538.95 \n",
       "  \"/>\n",
       "<polyline clip-path=\"url(#clip2600)\" style=\"stroke:#000000; stroke-width:3.2; stroke-opacity:1; fill:none\" points=\"\n",
       "  2044.61,1538.95 2047.9,1537.3 2049.55,1535.66 2051.19,1532.37 2051.19,1525.78 2049.55,1522.49 2047.9,1520.85 \n",
       "  \"/>\n",
       "<polyline clip-path=\"url(#clip2600)\" style=\"stroke:#000000; stroke-width:3.2; stroke-opacity:1; fill:none\" points=\"\n",
       "  2074.67,1504.39 2069.73,1506.03 2066.44,1509.33 2063.15,1514.26 2061.5,1519.2 2059.85,1525.78 2059.85,1530.72 2061.5,1535.66 2063.15,1537.3 2066.44,1538.95 \n",
       "  2069.73,1538.95 2074.67,1537.3 2077.96,1534.01 2081.25,1529.07 2082.89,1524.14 2084.54,1517.55 2084.54,1512.62 2082.89,1507.68 2081.25,1506.03 2077.96,1504.39 \n",
       "  2074.67,1504.39 \n",
       "  \"/>\n",
       "<polyline clip-path=\"url(#clip2600)\" style=\"stroke:#000000; stroke-width:3.2; stroke-opacity:1; fill:none\" points=\"\n",
       "  2069.73,1507.68 2066.44,1510.97 2064.79,1514.26 2063.15,1519.2 2061.5,1525.78 2061.5,1532.37 2063.15,1535.66 \n",
       "  \"/>\n",
       "<polyline clip-path=\"url(#clip2600)\" style=\"stroke:#000000; stroke-width:3.2; stroke-opacity:1; fill:none\" points=\"\n",
       "  2074.67,1535.66 2077.96,1532.37 2079.6,1529.07 2081.25,1524.14 2082.89,1517.55 2082.89,1510.97 2081.25,1507.68 \n",
       "  \"/>\n",
       "<polyline clip-path=\"url(#clip2600)\" style=\"stroke:#000000; stroke-width:3.2; stroke-opacity:1; fill:none\" points=\"\n",
       "  2074.67,1504.39 2071.37,1506.03 2068.08,1510.97 2066.44,1514.26 2064.79,1519.2 2063.15,1525.78 2063.15,1534.01 2064.79,1537.3 2066.44,1538.95 \n",
       "  \"/>\n",
       "<polyline clip-path=\"url(#clip2600)\" style=\"stroke:#000000; stroke-width:3.2; stroke-opacity:1; fill:none\" points=\"\n",
       "  2069.73,1538.95 2073.02,1537.3 2076.31,1532.37 2077.96,1529.07 2079.6,1524.14 2081.25,1517.55 2081.25,1509.33 2079.6,1506.03 2077.96,1504.39 \n",
       "  \"/>\n",
       "<polyline clip-path=\"url(#clip2600)\" style=\"stroke:#000000; stroke-width:3.2; stroke-opacity:1; fill:none\" points=\"\n",
       "  145.104,1171.7 136.875,1188.15 \n",
       "  \"/>\n",
       "<polyline clip-path=\"url(#clip2600)\" style=\"stroke:#000000; stroke-width:3.2; stroke-opacity:1; fill:none\" points=\"\n",
       "  145.104,1171.7 161.561,1171.7 \n",
       "  \"/>\n",
       "<polyline clip-path=\"url(#clip2600)\" style=\"stroke:#000000; stroke-width:3.2; stroke-opacity:1; fill:none\" points=\"\n",
       "  145.104,1173.34 158.269,1173.34 \n",
       "  \"/>\n",
       "<polyline clip-path=\"url(#clip2600)\" style=\"stroke:#000000; stroke-width:3.2; stroke-opacity:1; fill:none\" points=\"\n",
       "  143.458,1174.99 151.687,1174.99 158.269,1173.34 161.561,1171.7 \n",
       "  \"/>\n",
       "<polyline clip-path=\"url(#clip2600)\" style=\"stroke:#000000; stroke-width:3.2; stroke-opacity:1; fill:none\" points=\"\n",
       "  136.875,1188.15 138.521,1186.51 143.458,1184.86 148.395,1184.86 153.332,1186.51 154.978,1188.15 156.624,1191.44 156.624,1196.38 154.978,1201.32 151.687,1204.61 \n",
       "  145.104,1206.26 140.167,1206.26 136.875,1204.61 135.229,1202.96 133.584,1199.67 133.584,1196.38 136.875,1196.38 136.875,1199.67 135.229,1199.67 135.229,1198.03 \n",
       "  \n",
       "  \"/>\n",
       "<polyline clip-path=\"url(#clip2600)\" style=\"stroke:#000000; stroke-width:3.2; stroke-opacity:1; fill:none\" points=\"\n",
       "  153.332,1188.15 154.978,1191.44 154.978,1196.38 153.332,1201.32 150.041,1204.61 \n",
       "  \"/>\n",
       "<polyline clip-path=\"url(#clip2600)\" style=\"stroke:#000000; stroke-width:3.2; stroke-opacity:1; fill:none\" points=\"\n",
       "  148.395,1184.86 151.687,1186.51 153.332,1189.8 153.332,1196.38 151.687,1201.32 148.395,1204.61 145.104,1206.26 \n",
       "  \"/>\n",
       "<polyline clip-path=\"url(#clip2600)\" style=\"stroke:#000000; stroke-width:3.2; stroke-opacity:1; fill:none\" points=\"\n",
       "  176.803,1171.7 171.866,1173.34 168.575,1176.63 165.283,1181.57 163.637,1186.51 161.992,1193.09 161.992,1198.03 163.637,1202.96 165.283,1204.61 168.575,1206.26 \n",
       "  171.866,1206.26 176.803,1204.61 180.095,1201.32 183.386,1196.38 185.032,1191.44 186.677,1184.86 186.677,1179.92 185.032,1174.99 183.386,1173.34 180.095,1171.7 \n",
       "  176.803,1171.7 \n",
       "  \"/>\n",
       "<polyline clip-path=\"url(#clip2600)\" style=\"stroke:#000000; stroke-width:3.2; stroke-opacity:1; fill:none\" points=\"\n",
       "  171.866,1174.99 168.575,1178.28 166.929,1181.57 165.283,1186.51 163.637,1193.09 163.637,1199.67 165.283,1202.96 \n",
       "  \"/>\n",
       "<polyline clip-path=\"url(#clip2600)\" style=\"stroke:#000000; stroke-width:3.2; stroke-opacity:1; fill:none\" points=\"\n",
       "  176.803,1202.96 180.095,1199.67 181.74,1196.38 183.386,1191.44 185.032,1184.86 185.032,1178.28 183.386,1174.99 \n",
       "  \"/>\n",
       "<polyline clip-path=\"url(#clip2600)\" style=\"stroke:#000000; stroke-width:3.2; stroke-opacity:1; fill:none\" points=\"\n",
       "  176.803,1171.7 173.512,1173.34 170.22,1178.28 168.575,1181.57 166.929,1186.51 165.283,1193.09 165.283,1201.32 166.929,1204.61 168.575,1206.26 \n",
       "  \"/>\n",
       "<polyline clip-path=\"url(#clip2600)\" style=\"stroke:#000000; stroke-width:3.2; stroke-opacity:1; fill:none\" points=\"\n",
       "  171.866,1206.26 175.157,1204.61 178.449,1199.67 180.095,1196.38 181.74,1191.44 183.386,1184.86 183.386,1176.63 181.74,1173.34 180.095,1171.7 \n",
       "  \"/>\n",
       "<polyline clip-path=\"url(#clip2600)\" style=\"stroke:#000000; stroke-width:3.2; stroke-opacity:1; fill:none\" points=\"\n",
       "  203.566,1171.7 198.628,1173.34 195.337,1176.63 192.046,1181.57 190.4,1186.51 188.754,1193.09 188.754,1198.03 190.4,1202.96 192.046,1204.61 195.337,1206.26 \n",
       "  198.628,1206.26 203.566,1204.61 206.857,1201.32 210.148,1196.38 211.794,1191.44 213.44,1184.86 213.44,1179.92 211.794,1174.99 210.148,1173.34 206.857,1171.7 \n",
       "  203.566,1171.7 \n",
       "  \"/>\n",
       "<polyline clip-path=\"url(#clip2600)\" style=\"stroke:#000000; stroke-width:3.2; stroke-opacity:1; fill:none\" points=\"\n",
       "  198.628,1174.99 195.337,1178.28 193.691,1181.57 192.046,1186.51 190.4,1193.09 190.4,1199.67 192.046,1202.96 \n",
       "  \"/>\n",
       "<polyline clip-path=\"url(#clip2600)\" style=\"stroke:#000000; stroke-width:3.2; stroke-opacity:1; fill:none\" points=\"\n",
       "  203.566,1202.96 206.857,1199.67 208.503,1196.38 210.148,1191.44 211.794,1184.86 211.794,1178.28 210.148,1174.99 \n",
       "  \"/>\n",
       "<polyline clip-path=\"url(#clip2600)\" style=\"stroke:#000000; stroke-width:3.2; stroke-opacity:1; fill:none\" points=\"\n",
       "  203.566,1171.7 200.274,1173.34 196.983,1178.28 195.337,1181.57 193.691,1186.51 192.046,1193.09 192.046,1201.32 193.691,1204.61 195.337,1206.26 \n",
       "  \"/>\n",
       "<polyline clip-path=\"url(#clip2600)\" style=\"stroke:#000000; stroke-width:3.2; stroke-opacity:1; fill:none\" points=\"\n",
       "  198.628,1206.26 201.92,1204.61 205.211,1199.67 206.857,1196.38 208.503,1191.44 210.148,1184.86 210.148,1176.63 208.503,1173.34 206.857,1171.7 \n",
       "  \"/>\n",
       "<polyline clip-path=\"url(#clip2600)\" style=\"stroke:#000000; stroke-width:3.2; stroke-opacity:1; fill:none\" points=\"\n",
       "  123.279,811.281 115.05,839.258 118.341,839.258 \n",
       "  \"/>\n",
       "<polyline clip-path=\"url(#clip2600)\" style=\"stroke:#000000; stroke-width:3.2; stroke-opacity:1; fill:none\" points=\"\n",
       "  128.216,804.698 124.924,811.281 116.696,839.258 \n",
       "  \"/>\n",
       "<polyline clip-path=\"url(#clip2600)\" style=\"stroke:#000000; stroke-width:3.2; stroke-opacity:1; fill:none\" points=\"\n",
       "  128.216,804.698 118.341,839.258 \n",
       "  \"/>\n",
       "<polyline clip-path=\"url(#clip2600)\" style=\"stroke:#000000; stroke-width:3.2; stroke-opacity:1; fill:none\" points=\"\n",
       "  128.216,804.698 123.279,809.635 118.341,812.926 115.05,814.572 \n",
       "  \"/>\n",
       "<polyline clip-path=\"url(#clip2600)\" style=\"stroke:#000000; stroke-width:3.2; stroke-opacity:1; fill:none\" points=\"\n",
       "  123.279,811.281 119.987,812.926 115.05,814.572 \n",
       "  \"/>\n",
       "<polyline clip-path=\"url(#clip2600)\" style=\"stroke:#000000; stroke-width:3.2; stroke-opacity:1; fill:none\" points=\"\n",
       "  150.041,804.698 145.104,806.343 141.812,809.635 138.521,814.572 136.875,819.509 135.229,826.092 135.229,831.029 136.875,835.966 138.521,837.612 141.812,839.258 \n",
       "  145.104,839.258 150.041,837.612 153.332,834.321 156.624,829.383 158.269,824.446 159.915,817.863 159.915,812.926 158.269,807.989 156.624,806.343 153.332,804.698 \n",
       "  150.041,804.698 \n",
       "  \"/>\n",
       "<polyline clip-path=\"url(#clip2600)\" style=\"stroke:#000000; stroke-width:3.2; stroke-opacity:1; fill:none\" points=\"\n",
       "  145.104,807.989 141.812,811.281 140.167,814.572 138.521,819.509 136.875,826.092 136.875,832.675 138.521,835.966 \n",
       "  \"/>\n",
       "<polyline clip-path=\"url(#clip2600)\" style=\"stroke:#000000; stroke-width:3.2; stroke-opacity:1; fill:none\" points=\"\n",
       "  150.041,835.966 153.332,832.675 154.978,829.383 156.624,824.446 158.269,817.863 158.269,811.281 156.624,807.989 \n",
       "  \"/>\n",
       "<polyline clip-path=\"url(#clip2600)\" style=\"stroke:#000000; stroke-width:3.2; stroke-opacity:1; fill:none\" points=\"\n",
       "  150.041,804.698 146.749,806.343 143.458,811.281 141.812,814.572 140.167,819.509 138.521,826.092 138.521,834.321 140.167,837.612 141.812,839.258 \n",
       "  \"/>\n",
       "<polyline clip-path=\"url(#clip2600)\" style=\"stroke:#000000; stroke-width:3.2; stroke-opacity:1; fill:none\" points=\"\n",
       "  145.104,839.258 148.395,837.612 151.687,832.675 153.332,829.383 154.978,824.446 156.624,817.863 156.624,809.635 154.978,806.343 153.332,804.698 \n",
       "  \"/>\n",
       "<polyline clip-path=\"url(#clip2600)\" style=\"stroke:#000000; stroke-width:3.2; stroke-opacity:1; fill:none\" points=\"\n",
       "  176.803,804.698 171.866,806.343 168.575,809.635 165.283,814.572 163.637,819.509 161.992,826.092 161.992,831.029 163.637,835.966 165.283,837.612 168.575,839.258 \n",
       "  171.866,839.258 176.803,837.612 180.095,834.321 183.386,829.383 185.032,824.446 186.677,817.863 186.677,812.926 185.032,807.989 183.386,806.343 180.095,804.698 \n",
       "  176.803,804.698 \n",
       "  \"/>\n",
       "<polyline clip-path=\"url(#clip2600)\" style=\"stroke:#000000; stroke-width:3.2; stroke-opacity:1; fill:none\" points=\"\n",
       "  171.866,807.989 168.575,811.281 166.929,814.572 165.283,819.509 163.637,826.092 163.637,832.675 165.283,835.966 \n",
       "  \"/>\n",
       "<polyline clip-path=\"url(#clip2600)\" style=\"stroke:#000000; stroke-width:3.2; stroke-opacity:1; fill:none\" points=\"\n",
       "  176.803,835.966 180.095,832.675 181.74,829.383 183.386,824.446 185.032,817.863 185.032,811.281 183.386,807.989 \n",
       "  \"/>\n",
       "<polyline clip-path=\"url(#clip2600)\" style=\"stroke:#000000; stroke-width:3.2; stroke-opacity:1; fill:none\" points=\"\n",
       "  176.803,804.698 173.512,806.343 170.22,811.281 168.575,814.572 166.929,819.509 165.283,826.092 165.283,834.321 166.929,837.612 168.575,839.258 \n",
       "  \"/>\n",
       "<polyline clip-path=\"url(#clip2600)\" style=\"stroke:#000000; stroke-width:3.2; stroke-opacity:1; fill:none\" points=\"\n",
       "  171.866,839.258 175.157,837.612 178.449,832.675 180.095,829.383 181.74,824.446 183.386,817.863 183.386,809.635 181.74,806.343 180.095,804.698 \n",
       "  \"/>\n",
       "<polyline clip-path=\"url(#clip2600)\" style=\"stroke:#000000; stroke-width:3.2; stroke-opacity:1; fill:none\" points=\"\n",
       "  203.566,804.698 198.628,806.343 195.337,809.635 192.046,814.572 190.4,819.509 188.754,826.092 188.754,831.029 190.4,835.966 192.046,837.612 195.337,839.258 \n",
       "  198.628,839.258 203.566,837.612 206.857,834.321 210.148,829.383 211.794,824.446 213.44,817.863 213.44,812.926 211.794,807.989 210.148,806.343 206.857,804.698 \n",
       "  203.566,804.698 \n",
       "  \"/>\n",
       "<polyline clip-path=\"url(#clip2600)\" style=\"stroke:#000000; stroke-width:3.2; stroke-opacity:1; fill:none\" points=\"\n",
       "  198.628,807.989 195.337,811.281 193.691,814.572 192.046,819.509 190.4,826.092 190.4,832.675 192.046,835.966 \n",
       "  \"/>\n",
       "<polyline clip-path=\"url(#clip2600)\" style=\"stroke:#000000; stroke-width:3.2; stroke-opacity:1; fill:none\" points=\"\n",
       "  203.566,835.966 206.857,832.675 208.503,829.383 210.148,824.446 211.794,817.863 211.794,811.281 210.148,807.989 \n",
       "  \"/>\n",
       "<polyline clip-path=\"url(#clip2600)\" style=\"stroke:#000000; stroke-width:3.2; stroke-opacity:1; fill:none\" points=\"\n",
       "  203.566,804.698 200.274,806.343 196.983,811.281 195.337,814.572 193.691,819.509 192.046,826.092 192.046,834.321 193.691,837.612 195.337,839.258 \n",
       "  \"/>\n",
       "<polyline clip-path=\"url(#clip2600)\" style=\"stroke:#000000; stroke-width:3.2; stroke-opacity:1; fill:none\" points=\"\n",
       "  198.628,839.258 201.92,837.612 205.211,832.675 206.857,829.383 208.503,824.446 210.148,817.863 210.148,809.635 208.503,806.343 206.857,804.698 \n",
       "  \"/>\n",
       "<polyline clip-path=\"url(#clip2600)\" style=\"stroke:#000000; stroke-width:3.2; stroke-opacity:1; fill:none\" points=\"\n",
       "  123.279,444.282 115.05,472.259 118.341,472.259 \n",
       "  \"/>\n",
       "<polyline clip-path=\"url(#clip2600)\" style=\"stroke:#000000; stroke-width:3.2; stroke-opacity:1; fill:none\" points=\"\n",
       "  128.216,437.699 124.924,444.282 116.696,472.259 \n",
       "  \"/>\n",
       "<polyline clip-path=\"url(#clip2600)\" style=\"stroke:#000000; stroke-width:3.2; stroke-opacity:1; fill:none\" points=\"\n",
       "  128.216,437.699 118.341,472.259 \n",
       "  \"/>\n",
       "<polyline clip-path=\"url(#clip2600)\" style=\"stroke:#000000; stroke-width:3.2; stroke-opacity:1; fill:none\" points=\"\n",
       "  128.216,437.699 123.279,442.636 118.341,445.928 115.05,447.574 \n",
       "  \"/>\n",
       "<polyline clip-path=\"url(#clip2600)\" style=\"stroke:#000000; stroke-width:3.2; stroke-opacity:1; fill:none\" points=\"\n",
       "  123.279,444.282 119.987,445.928 115.05,447.574 \n",
       "  \"/>\n",
       "<polyline clip-path=\"url(#clip2600)\" style=\"stroke:#000000; stroke-width:3.2; stroke-opacity:1; fill:none\" points=\"\n",
       "  145.104,437.699 136.875,454.156 \n",
       "  \"/>\n",
       "<polyline clip-path=\"url(#clip2600)\" style=\"stroke:#000000; stroke-width:3.2; stroke-opacity:1; fill:none\" points=\"\n",
       "  145.104,437.699 161.561,437.699 \n",
       "  \"/>\n",
       "<polyline clip-path=\"url(#clip2600)\" style=\"stroke:#000000; stroke-width:3.2; stroke-opacity:1; fill:none\" points=\"\n",
       "  145.104,439.345 158.269,439.345 \n",
       "  \"/>\n",
       "<polyline clip-path=\"url(#clip2600)\" style=\"stroke:#000000; stroke-width:3.2; stroke-opacity:1; fill:none\" points=\"\n",
       "  143.458,440.991 151.687,440.991 158.269,439.345 161.561,437.699 \n",
       "  \"/>\n",
       "<polyline clip-path=\"url(#clip2600)\" style=\"stroke:#000000; stroke-width:3.2; stroke-opacity:1; fill:none\" points=\"\n",
       "  136.875,454.156 138.521,452.511 143.458,450.865 148.395,450.865 153.332,452.511 154.978,454.156 156.624,457.448 156.624,462.385 154.978,467.322 151.687,470.614 \n",
       "  145.104,472.259 140.167,472.259 136.875,470.614 135.229,468.968 133.584,465.676 133.584,462.385 136.875,462.385 136.875,465.676 135.229,465.676 135.229,464.031 \n",
       "  \n",
       "  \"/>\n",
       "<polyline clip-path=\"url(#clip2600)\" style=\"stroke:#000000; stroke-width:3.2; stroke-opacity:1; fill:none\" points=\"\n",
       "  153.332,454.156 154.978,457.448 154.978,462.385 153.332,467.322 150.041,470.614 \n",
       "  \"/>\n",
       "<polyline clip-path=\"url(#clip2600)\" style=\"stroke:#000000; stroke-width:3.2; stroke-opacity:1; fill:none\" points=\"\n",
       "  148.395,450.865 151.687,452.511 153.332,455.802 153.332,462.385 151.687,467.322 148.395,470.614 145.104,472.259 \n",
       "  \"/>\n",
       "<polyline clip-path=\"url(#clip2600)\" style=\"stroke:#000000; stroke-width:3.2; stroke-opacity:1; fill:none\" points=\"\n",
       "  176.803,437.699 171.866,439.345 168.575,442.636 165.283,447.574 163.637,452.511 161.992,459.094 161.992,464.031 163.637,468.968 165.283,470.614 168.575,472.259 \n",
       "  171.866,472.259 176.803,470.614 180.095,467.322 183.386,462.385 185.032,457.448 186.677,450.865 186.677,445.928 185.032,440.991 183.386,439.345 180.095,437.699 \n",
       "  176.803,437.699 \n",
       "  \"/>\n",
       "<polyline clip-path=\"url(#clip2600)\" style=\"stroke:#000000; stroke-width:3.2; stroke-opacity:1; fill:none\" points=\"\n",
       "  171.866,440.991 168.575,444.282 166.929,447.574 165.283,452.511 163.637,459.094 163.637,465.676 165.283,468.968 \n",
       "  \"/>\n",
       "<polyline clip-path=\"url(#clip2600)\" style=\"stroke:#000000; stroke-width:3.2; stroke-opacity:1; fill:none\" points=\"\n",
       "  176.803,468.968 180.095,465.676 181.74,462.385 183.386,457.448 185.032,450.865 185.032,444.282 183.386,440.991 \n",
       "  \"/>\n",
       "<polyline clip-path=\"url(#clip2600)\" style=\"stroke:#000000; stroke-width:3.2; stroke-opacity:1; fill:none\" points=\"\n",
       "  176.803,437.699 173.512,439.345 170.22,444.282 168.575,447.574 166.929,452.511 165.283,459.094 165.283,467.322 166.929,470.614 168.575,472.259 \n",
       "  \"/>\n",
       "<polyline clip-path=\"url(#clip2600)\" style=\"stroke:#000000; stroke-width:3.2; stroke-opacity:1; fill:none\" points=\"\n",
       "  171.866,472.259 175.157,470.614 178.449,465.676 180.095,462.385 181.74,457.448 183.386,450.865 183.386,442.636 181.74,439.345 180.095,437.699 \n",
       "  \"/>\n",
       "<polyline clip-path=\"url(#clip2600)\" style=\"stroke:#000000; stroke-width:3.2; stroke-opacity:1; fill:none\" points=\"\n",
       "  203.566,437.699 198.628,439.345 195.337,442.636 192.046,447.574 190.4,452.511 188.754,459.094 188.754,464.031 190.4,468.968 192.046,470.614 195.337,472.259 \n",
       "  198.628,472.259 203.566,470.614 206.857,467.322 210.148,462.385 211.794,457.448 213.44,450.865 213.44,445.928 211.794,440.991 210.148,439.345 206.857,437.699 \n",
       "  203.566,437.699 \n",
       "  \"/>\n",
       "<polyline clip-path=\"url(#clip2600)\" style=\"stroke:#000000; stroke-width:3.2; stroke-opacity:1; fill:none\" points=\"\n",
       "  198.628,440.991 195.337,444.282 193.691,447.574 192.046,452.511 190.4,459.094 190.4,465.676 192.046,468.968 \n",
       "  \"/>\n",
       "<polyline clip-path=\"url(#clip2600)\" style=\"stroke:#000000; stroke-width:3.2; stroke-opacity:1; fill:none\" points=\"\n",
       "  203.566,468.968 206.857,465.676 208.503,462.385 210.148,457.448 211.794,450.865 211.794,444.282 210.148,440.991 \n",
       "  \"/>\n",
       "<polyline clip-path=\"url(#clip2600)\" style=\"stroke:#000000; stroke-width:3.2; stroke-opacity:1; fill:none\" points=\"\n",
       "  203.566,437.699 200.274,439.345 196.983,444.282 195.337,447.574 193.691,452.511 192.046,459.094 192.046,467.322 193.691,470.614 195.337,472.259 \n",
       "  \"/>\n",
       "<polyline clip-path=\"url(#clip2600)\" style=\"stroke:#000000; stroke-width:3.2; stroke-opacity:1; fill:none\" points=\"\n",
       "  198.628,472.259 201.92,470.614 205.211,465.676 206.857,462.385 208.503,457.448 210.148,450.865 210.148,442.636 208.503,439.345 206.857,437.699 \n",
       "  \"/>\n",
       "<polyline clip-path=\"url(#clip2600)\" style=\"stroke:#000000; stroke-width:3.2; stroke-opacity:1; fill:none\" points=\"\n",
       "  115.05,78.9295 115.05,77.2838 116.696,77.2838 116.696,80.5752 113.404,80.5752 113.404,77.2838 115.05,73.9923 116.696,72.3466 121.633,70.7009 126.57,70.7009 \n",
       "  131.507,72.3466 133.153,75.6381 133.153,78.9295 131.507,82.2209 128.216,85.5123 111.759,95.3866 108.467,98.6781 105.176,105.261 \n",
       "  \"/>\n",
       "<polyline clip-path=\"url(#clip2600)\" style=\"stroke:#000000; stroke-width:3.2; stroke-opacity:1; fill:none\" points=\"\n",
       "  129.861,72.3466 131.507,75.6381 131.507,78.9295 129.861,82.2209 126.57,85.5123 121.633,88.8038 \n",
       "  \"/>\n",
       "<polyline clip-path=\"url(#clip2600)\" style=\"stroke:#000000; stroke-width:3.2; stroke-opacity:1; fill:none\" points=\"\n",
       "  126.57,70.7009 128.216,72.3466 129.861,75.6381 129.861,78.9295 128.216,82.2209 124.924,85.5123 111.759,95.3866 \n",
       "  \"/>\n",
       "<polyline clip-path=\"url(#clip2600)\" style=\"stroke:#000000; stroke-width:3.2; stroke-opacity:1; fill:none\" points=\"\n",
       "  106.821,101.969 108.467,100.324 111.759,100.324 119.987,101.969 128.216,101.969 129.861,100.324 \n",
       "  \"/>\n",
       "<polyline clip-path=\"url(#clip2600)\" style=\"stroke:#000000; stroke-width:3.2; stroke-opacity:1; fill:none\" points=\"\n",
       "  111.759,100.324 119.987,103.615 128.216,103.615 \n",
       "  \"/>\n",
       "<polyline clip-path=\"url(#clip2600)\" style=\"stroke:#000000; stroke-width:3.2; stroke-opacity:1; fill:none\" points=\"\n",
       "  111.759,100.324 119.987,105.261 124.924,105.261 128.216,103.615 129.861,100.324 129.861,98.6781 \n",
       "  \"/>\n",
       "<polyline clip-path=\"url(#clip2600)\" style=\"stroke:#000000; stroke-width:3.2; stroke-opacity:1; fill:none\" points=\"\n",
       "  150.041,70.7009 145.104,72.3466 141.812,75.6381 138.521,80.5752 136.875,85.5123 135.229,92.0952 135.229,97.0323 136.875,101.969 138.521,103.615 141.812,105.261 \n",
       "  145.104,105.261 150.041,103.615 153.332,100.324 156.624,95.3866 158.269,90.4495 159.915,83.8666 159.915,78.9295 158.269,73.9923 156.624,72.3466 153.332,70.7009 \n",
       "  150.041,70.7009 \n",
       "  \"/>\n",
       "<polyline clip-path=\"url(#clip2600)\" style=\"stroke:#000000; stroke-width:3.2; stroke-opacity:1; fill:none\" points=\"\n",
       "  145.104,73.9923 141.812,77.2838 140.167,80.5752 138.521,85.5123 136.875,92.0952 136.875,98.6781 138.521,101.969 \n",
       "  \"/>\n",
       "<polyline clip-path=\"url(#clip2600)\" style=\"stroke:#000000; stroke-width:3.2; stroke-opacity:1; fill:none\" points=\"\n",
       "  150.041,101.969 153.332,98.6781 154.978,95.3866 156.624,90.4495 158.269,83.8666 158.269,77.2838 156.624,73.9923 \n",
       "  \"/>\n",
       "<polyline clip-path=\"url(#clip2600)\" style=\"stroke:#000000; stroke-width:3.2; stroke-opacity:1; fill:none\" points=\"\n",
       "  150.041,70.7009 146.749,72.3466 143.458,77.2838 141.812,80.5752 140.167,85.5123 138.521,92.0952 138.521,100.324 140.167,103.615 141.812,105.261 \n",
       "  \"/>\n",
       "<polyline clip-path=\"url(#clip2600)\" style=\"stroke:#000000; stroke-width:3.2; stroke-opacity:1; fill:none\" points=\"\n",
       "  145.104,105.261 148.395,103.615 151.687,98.6781 153.332,95.3866 154.978,90.4495 156.624,83.8666 156.624,75.6381 154.978,72.3466 153.332,70.7009 \n",
       "  \"/>\n",
       "<polyline clip-path=\"url(#clip2600)\" style=\"stroke:#000000; stroke-width:3.2; stroke-opacity:1; fill:none\" points=\"\n",
       "  176.803,70.7009 171.866,72.3466 168.575,75.6381 165.283,80.5752 163.637,85.5123 161.992,92.0952 161.992,97.0323 163.637,101.969 165.283,103.615 168.575,105.261 \n",
       "  171.866,105.261 176.803,103.615 180.095,100.324 183.386,95.3866 185.032,90.4495 186.677,83.8666 186.677,78.9295 185.032,73.9923 183.386,72.3466 180.095,70.7009 \n",
       "  176.803,70.7009 \n",
       "  \"/>\n",
       "<polyline clip-path=\"url(#clip2600)\" style=\"stroke:#000000; stroke-width:3.2; stroke-opacity:1; fill:none\" points=\"\n",
       "  171.866,73.9923 168.575,77.2838 166.929,80.5752 165.283,85.5123 163.637,92.0952 163.637,98.6781 165.283,101.969 \n",
       "  \"/>\n",
       "<polyline clip-path=\"url(#clip2600)\" style=\"stroke:#000000; stroke-width:3.2; stroke-opacity:1; fill:none\" points=\"\n",
       "  176.803,101.969 180.095,98.6781 181.74,95.3866 183.386,90.4495 185.032,83.8666 185.032,77.2838 183.386,73.9923 \n",
       "  \"/>\n",
       "<polyline clip-path=\"url(#clip2600)\" style=\"stroke:#000000; stroke-width:3.2; stroke-opacity:1; fill:none\" points=\"\n",
       "  176.803,70.7009 173.512,72.3466 170.22,77.2838 168.575,80.5752 166.929,85.5123 165.283,92.0952 165.283,100.324 166.929,103.615 168.575,105.261 \n",
       "  \"/>\n",
       "<polyline clip-path=\"url(#clip2600)\" style=\"stroke:#000000; stroke-width:3.2; stroke-opacity:1; fill:none\" points=\"\n",
       "  171.866,105.261 175.157,103.615 178.449,98.6781 180.095,95.3866 181.74,90.4495 183.386,83.8666 183.386,75.6381 181.74,72.3466 180.095,70.7009 \n",
       "  \"/>\n",
       "<polyline clip-path=\"url(#clip2600)\" style=\"stroke:#000000; stroke-width:3.2; stroke-opacity:1; fill:none\" points=\"\n",
       "  203.566,70.7009 198.628,72.3466 195.337,75.6381 192.046,80.5752 190.4,85.5123 188.754,92.0952 188.754,97.0323 190.4,101.969 192.046,103.615 195.337,105.261 \n",
       "  198.628,105.261 203.566,103.615 206.857,100.324 210.148,95.3866 211.794,90.4495 213.44,83.8666 213.44,78.9295 211.794,73.9923 210.148,72.3466 206.857,70.7009 \n",
       "  203.566,70.7009 \n",
       "  \"/>\n",
       "<polyline clip-path=\"url(#clip2600)\" style=\"stroke:#000000; stroke-width:3.2; stroke-opacity:1; fill:none\" points=\"\n",
       "  198.628,73.9923 195.337,77.2838 193.691,80.5752 192.046,85.5123 190.4,92.0952 190.4,98.6781 192.046,101.969 \n",
       "  \"/>\n",
       "<polyline clip-path=\"url(#clip2600)\" style=\"stroke:#000000; stroke-width:3.2; stroke-opacity:1; fill:none\" points=\"\n",
       "  203.566,101.969 206.857,98.6781 208.503,95.3866 210.148,90.4495 211.794,83.8666 211.794,77.2838 210.148,73.9923 \n",
       "  \"/>\n",
       "<polyline clip-path=\"url(#clip2600)\" style=\"stroke:#000000; stroke-width:3.2; stroke-opacity:1; fill:none\" points=\"\n",
       "  203.566,70.7009 200.274,72.3466 196.983,77.2838 195.337,80.5752 193.691,85.5123 192.046,92.0952 192.046,100.324 193.691,103.615 195.337,105.261 \n",
       "  \"/>\n",
       "<polyline clip-path=\"url(#clip2600)\" style=\"stroke:#000000; stroke-width:3.2; stroke-opacity:1; fill:none\" points=\"\n",
       "  198.628,105.261 201.92,103.615 205.211,98.6781 206.857,95.3866 208.503,90.4495 210.148,83.8666 210.148,75.6381 208.503,72.3466 206.857,70.7009 \n",
       "  \"/>\n",
       "<circle clip-path=\"url(#clip2602)\" cx=\"698.941\" cy=\"1149.34\" r=\"14\" fill=\"#009af9\" fill-rule=\"evenodd\" fill-opacity=\"1\" stroke=\"#000000\" stroke-opacity=\"1\" stroke-width=\"3.2\"/>\n",
       "<circle clip-path=\"url(#clip2602)\" cx=\"1483.98\" cy=\"573.153\" r=\"14\" fill=\"#009af9\" fill-rule=\"evenodd\" fill-opacity=\"1\" stroke=\"#000000\" stroke-opacity=\"1\" stroke-width=\"3.2\"/>\n",
       "<circle clip-path=\"url(#clip2602)\" cx=\"960.621\" cy=\"957.767\" r=\"14\" fill=\"#009af9\" fill-rule=\"evenodd\" fill-opacity=\"1\" stroke=\"#000000\" stroke-opacity=\"1\" stroke-width=\"3.2\"/>\n",
       "<circle clip-path=\"url(#clip2602)\" cx=\"746.52\" cy=\"1108.97\" r=\"14\" fill=\"#009af9\" fill-rule=\"evenodd\" fill-opacity=\"1\" stroke=\"#000000\" stroke-opacity=\"1\" stroke-width=\"3.2\"/>\n",
       "<circle clip-path=\"url(#clip2602)\" cx=\"1745.66\" cy=\"381.58\" r=\"14\" fill=\"#009af9\" fill-rule=\"evenodd\" fill-opacity=\"1\" stroke=\"#000000\" stroke-opacity=\"1\" stroke-width=\"3.2\"/>\n",
       "<circle clip-path=\"url(#clip2602)\" cx=\"2102.5\" cy=\"87.9809\" r=\"14\" fill=\"#009af9\" fill-rule=\"evenodd\" fill-opacity=\"1\" stroke=\"#000000\" stroke-opacity=\"1\" stroke-width=\"3.2\"/>\n",
       "<circle clip-path=\"url(#clip2602)\" cx=\"1246.09\" cy=\"821.978\" r=\"14\" fill=\"#009af9\" fill-rule=\"evenodd\" fill-opacity=\"1\" stroke=\"#000000\" stroke-opacity=\"1\" stroke-width=\"3.2\"/>\n",
       "<circle clip-path=\"url(#clip2602)\" cx=\"484.84\" cy=\"1335.78\" r=\"14\" fill=\"#009af9\" fill-rule=\"evenodd\" fill-opacity=\"1\" stroke=\"#000000\" stroke-opacity=\"1\" stroke-width=\"3.2\"/>\n",
       "<circle clip-path=\"url(#clip2602)\" cx=\"294.528\" cy=\"1445.88\" r=\"14\" fill=\"#009af9\" fill-rule=\"evenodd\" fill-opacity=\"1\" stroke=\"#000000\" stroke-opacity=\"1\" stroke-width=\"3.2\"/>\n",
       "<circle clip-path=\"url(#clip2602)\" cx=\"1269.88\" cy=\"711.878\" r=\"14\" fill=\"#009af9\" fill-rule=\"evenodd\" fill-opacity=\"1\" stroke=\"#000000\" stroke-opacity=\"1\" stroke-width=\"3.2\"/>\n",
       "<circle clip-path=\"url(#clip2602)\" cx=\"1388.82\" cy=\"675.178\" r=\"14\" fill=\"#009af9\" fill-rule=\"evenodd\" fill-opacity=\"1\" stroke=\"#000000\" stroke-opacity=\"1\" stroke-width=\"3.2\"/>\n",
       "<circle clip-path=\"url(#clip2602)\" cx=\"2245.23\" cy=\"87.9809\" r=\"14\" fill=\"#009af9\" fill-rule=\"evenodd\" fill-opacity=\"1\" stroke=\"#000000\" stroke-opacity=\"1\" stroke-width=\"3.2\"/>\n",
       "<circle clip-path=\"url(#clip2602)\" cx=\"1840.82\" cy=\"271.48\" r=\"14\" fill=\"#009af9\" fill-rule=\"evenodd\" fill-opacity=\"1\" stroke=\"#000000\" stroke-opacity=\"1\" stroke-width=\"3.2\"/>\n",
       "<circle clip-path=\"url(#clip2602)\" cx=\"2007.34\" cy=\"87.9809\" r=\"14\" fill=\"#009af9\" fill-rule=\"evenodd\" fill-opacity=\"1\" stroke=\"#000000\" stroke-opacity=\"1\" stroke-width=\"3.2\"/>\n",
       "<circle clip-path=\"url(#clip2602)\" cx=\"1721.87\" cy=\"454.979\" r=\"14\" fill=\"#009af9\" fill-rule=\"evenodd\" fill-opacity=\"1\" stroke=\"#000000\" stroke-opacity=\"1\" stroke-width=\"3.2\"/>\n",
       "<circle clip-path=\"url(#clip2602)\" cx=\"1198.51\" cy=\"821.978\" r=\"14\" fill=\"#009af9\" fill-rule=\"evenodd\" fill-opacity=\"1\" stroke=\"#000000\" stroke-opacity=\"1\" stroke-width=\"3.2\"/>\n",
       "<circle clip-path=\"url(#clip2602)\" cx=\"1769.45\" cy=\"381.58\" r=\"14\" fill=\"#009af9\" fill-rule=\"evenodd\" fill-opacity=\"1\" stroke=\"#000000\" stroke-opacity=\"1\" stroke-width=\"3.2\"/>\n",
       "<circle clip-path=\"url(#clip2602)\" cx=\"2292.81\" cy=\"87.9809\" r=\"14\" fill=\"#009af9\" fill-rule=\"evenodd\" fill-opacity=\"1\" stroke=\"#000000\" stroke-opacity=\"1\" stroke-width=\"3.2\"/>\n",
       "<circle clip-path=\"url(#clip2602)\" cx=\"675.152\" cy=\"1152.28\" r=\"14\" fill=\"#009af9\" fill-rule=\"evenodd\" fill-opacity=\"1\" stroke=\"#000000\" stroke-opacity=\"1\" stroke-width=\"3.2\"/>\n",
       "<path clip-path=\"url(#clip2600)\" d=\"\n",
       "M1966.96 251.724 L2280.76 251.724 L2280.76 130.764 L1966.96 130.764  Z\n",
       "  \" fill=\"#ffffff\" fill-rule=\"evenodd\" fill-opacity=\"1\"/>\n",
       "<polyline clip-path=\"url(#clip2600)\" style=\"stroke:#000000; stroke-width:4; stroke-opacity:1; fill:none\" points=\"\n",
       "  1966.96,251.724 2280.76,251.724 2280.76,130.764 1966.96,130.764 1966.96,251.724 \n",
       "  \"/>\n",
       "<circle clip-path=\"url(#clip2600)\" cx=\"2074.96\" cy=\"191.244\" r=\"21\" fill=\"#009af9\" fill-rule=\"evenodd\" fill-opacity=\"1\" stroke=\"#000000\" stroke-opacity=\"1\" stroke-width=\"3.2\"/>\n",
       "<polyline clip-path=\"url(#clip2600)\" style=\"stroke:#000000; stroke-width:3.2; stroke-opacity:1; fill:none\" points=\"\n",
       "  2160.61,192.067 2162.25,188.776 2165.55,185.484 2168.84,185.484 2170.48,187.13 2172.13,190.421 2172.13,195.358 2168.84,203.587 \n",
       "  \"/>\n",
       "<polyline clip-path=\"url(#clip2600)\" style=\"stroke:#000000; stroke-width:3.2; stroke-opacity:1; fill:none\" points=\"\n",
       "  2170.48,187.13 2170.48,193.713 2168.84,200.296 2168.84,206.878 \n",
       "  \"/>\n",
       "<polyline clip-path=\"url(#clip2600)\" style=\"stroke:#000000; stroke-width:3.2; stroke-opacity:1; fill:none\" points=\"\n",
       "  2170.48,190.421 2167.19,198.65 2167.19,203.587 2168.84,206.878 2172.13,208.524 2175.42,208.524 2178.71,206.878 2182,203.587 2185.29,197.004 \n",
       "  \"/>\n",
       "<polyline clip-path=\"url(#clip2600)\" style=\"stroke:#000000; stroke-width:3.2; stroke-opacity:1; fill:none\" points=\"\n",
       "  2188.59,185.484 2182,208.524 2180.36,213.461 2177.07,218.398 2173.77,220.044 \n",
       "  \"/>\n",
       "<polyline clip-path=\"url(#clip2600)\" style=\"stroke:#000000; stroke-width:3.2; stroke-opacity:1; fill:none\" points=\"\n",
       "  2190.23,185.484 2183.65,208.524 2180.36,215.107 \n",
       "  \"/>\n",
       "<polyline clip-path=\"url(#clip2600)\" style=\"stroke:#000000; stroke-width:3.2; stroke-opacity:1; fill:none\" points=\"\n",
       "  2188.59,185.484 2191.88,185.484 2185.29,208.524 2182,215.107 2178.71,218.398 2173.77,220.044 2168.84,220.044 2165.55,218.398 2163.9,216.753 2163.9,213.461 \n",
       "  2167.19,213.461 2167.19,216.753 2165.55,216.753 2165.55,215.107 \n",
       "  \"/>\n",
       "<polyline clip-path=\"url(#clip2600)\" style=\"stroke:#000000; stroke-width:3.2; stroke-opacity:1; fill:none\" points=\"\n",
       "  2205.47,180.547 2197.24,208.524 2200.54,208.524 \n",
       "  \"/>\n",
       "<polyline clip-path=\"url(#clip2600)\" style=\"stroke:#000000; stroke-width:3.2; stroke-opacity:1; fill:none\" points=\"\n",
       "  2210.41,173.964 2207.12,180.547 2198.89,208.524 \n",
       "  \"/>\n",
       "<polyline clip-path=\"url(#clip2600)\" style=\"stroke:#000000; stroke-width:3.2; stroke-opacity:1; fill:none\" points=\"\n",
       "  2210.41,173.964 2200.54,208.524 \n",
       "  \"/>\n",
       "<polyline clip-path=\"url(#clip2600)\" style=\"stroke:#000000; stroke-width:3.2; stroke-opacity:1; fill:none\" points=\"\n",
       "  2210.41,173.964 2205.47,178.901 2200.54,182.193 2197.24,183.838 \n",
       "  \"/>\n",
       "<polyline clip-path=\"url(#clip2600)\" style=\"stroke:#000000; stroke-width:3.2; stroke-opacity:1; fill:none\" points=\"\n",
       "  2205.47,180.547 2202.18,182.193 2197.24,183.838 \n",
       "  \"/>\n",
       "</svg>\n"
      ]
     },
     "execution_count": 11,
     "metadata": {},
     "output_type": "execute_result"
    }
   ],
   "source": [
    "scatter(dataset.Promote, dataset.Sales)"
   ]
  },
  {
   "cell_type": "code",
   "execution_count": null,
   "metadata": {},
   "outputs": [],
   "source": [
    "#=\n",
    "y = mx + c\n",
    "\n",
    "Sales = m * promote + c\n",
    "\n",
    "Sales = Slope * promote + Intercept\n",
    "=#"
   ]
  },
  {
   "cell_type": "markdown",
   "metadata": {},
   "source": [
    "# Linear Regression Part - 2"
   ]
  },
  {
   "cell_type": "markdown",
   "metadata": {},
   "source": [
    "## Method 1"
   ]
  },
  {
   "cell_type": "markdown",
   "metadata": {},
   "source": [
    "$$y=c+mx$$\n",
    "\n",
    "$$m = \\frac{\\sum{(x-\\bar{x})(y-\\bar{y})}}{\\sum{(x-\\bar{x})}^2} $$\n",
    "\n",
    "$$c= \\bar{y}-m\\bar{x} $$"
   ]
  },
  {
   "cell_type": "code",
   "execution_count": 12,
   "metadata": {},
   "outputs": [],
   "source": [
    "using Statistics"
   ]
  },
  {
   "cell_type": "code",
   "execution_count": 15,
   "metadata": {},
   "outputs": [],
   "source": [
    "m = sum((X .- mean(X)) .* (Y .- mean(Y))) / sum((X .- mean(X)) .* (X .- mean(X)))\n",
    "c = mean(Y) - m .* mean(X);"
   ]
  },
  {
   "cell_type": "code",
   "execution_count": 16,
   "metadata": {},
   "outputs": [
    {
     "data": {
      "text/plain": [
       "(23.50640302155077, 5.485865363252515)"
      ]
     },
     "execution_count": 16,
     "metadata": {},
     "output_type": "execute_result"
    }
   ],
   "source": [
    "m, c"
   ]
  },
  {
   "cell_type": "code",
   "execution_count": null,
   "metadata": {},
   "outputs": [],
   "source": [
    "Sales = 23.5 * promote + 5.48"
   ]
  },
  {
   "cell_type": "code",
   "execution_count": 17,
   "metadata": {},
   "outputs": [
    {
     "data": {
      "text/plain": [
       "1180.48"
      ]
     },
     "execution_count": 17,
     "metadata": {},
     "output_type": "execute_result"
    }
   ],
   "source": [
    "23.5 * 50 + 5.48"
   ]
  },
  {
   "cell_type": "markdown",
   "metadata": {},
   "source": [
    "## Method 2"
   ]
  },
  {
   "cell_type": "code",
   "execution_count": 19,
   "metadata": {
    "collapsed": true
   },
   "outputs": [
    {
     "name": "stderr",
     "output_type": "stream",
     "text": [
      "\u001b[32m\u001b[1m   Updating\u001b[22m\u001b[39m registry at `C:\\Users\\andre\\.juliapro\\JuliaPro_v1.4.0-1\\registries\\JuliaPro`\n",
      "\u001b[32m\u001b[1m  Resolving\u001b[22m\u001b[39m package versions...\n",
      "\u001b[32m\u001b[1m  Installed\u001b[22m\u001b[39m Rmath ──────────────────────── v0.6.1\n",
      "\u001b[32m\u001b[1m  Installed\u001b[22m\u001b[39m QuadGK ─────────────────────── v2.3.1\n",
      "\u001b[32m\u001b[1m  Installed\u001b[22m\u001b[39m CompilerSupportLibraries_jll ─ v0.3.3+0\n",
      "\u001b[32m\u001b[1m  Installed\u001b[22m\u001b[39m Arpack_jll ─────────────────── v3.5.0+3\n",
      "\u001b[32m\u001b[1m  Installed\u001b[22m\u001b[39m Arpack ─────────────────────── v0.4.0\n",
      "\u001b[32m\u001b[1m  Installed\u001b[22m\u001b[39m StatsFuns ──────────────────── v0.9.5\n",
      "\u001b[32m\u001b[1m  Installed\u001b[22m\u001b[39m GLM ────────────────────────── v1.3.9\n",
      "\u001b[32m\u001b[1m  Installed\u001b[22m\u001b[39m Distributions ──────────────── v0.23.4\n",
      "\u001b[32m\u001b[1m  Installed\u001b[22m\u001b[39m Rmath_jll ──────────────────── v0.2.2+1\n",
      "\u001b[32m\u001b[1m  Installed\u001b[22m\u001b[39m PDMats ─────────────────────── v0.9.12\n",
      "\u001b[32m\u001b[1m  Installed\u001b[22m\u001b[39m OpenSpecFun_jll ────────────── v0.5.3+3\n",
      "\u001b[32m\u001b[1m  Installed\u001b[22m\u001b[39m OpenBLAS_jll ───────────────── v0.3.9+4\n",
      "\u001b[32m\u001b[1m  Installed\u001b[22m\u001b[39m ShiftedArrays ──────────────── v1.0.0\n",
      "\u001b[32m\u001b[1m  Installed\u001b[22m\u001b[39m StatsModels ────────────────── v0.6.11\n",
      "\u001b[32m\u001b[1m  Installed\u001b[22m\u001b[39m SpecialFunctions ───────────── v0.10.3\n",
      "\u001b[32m\u001b[1m  Installed\u001b[22m\u001b[39m FillArrays ─────────────────── v0.8.11\n",
      "\u001b[32m\u001b[1m   Updating\u001b[22m\u001b[39m `C:\\Users\\andre\\.juliapro\\JuliaPro_v1.4.0-1\\environments\\v1.4\\Project.toml`\n",
      " \u001b[90m [38e38edf]\u001b[39m\u001b[92m + GLM v1.3.9\u001b[39m\n",
      "\u001b[32m\u001b[1m   Updating\u001b[22m\u001b[39m `C:\\Users\\andre\\.juliapro\\JuliaPro_v1.4.0-1\\environments\\v1.4\\Manifest.toml`\n",
      " \u001b[90m [7d9fca2a]\u001b[39m\u001b[92m + Arpack v0.4.0\u001b[39m\n",
      " \u001b[90m [68821587]\u001b[39m\u001b[92m + Arpack_jll v3.5.0+3\u001b[39m\n",
      " \u001b[90m [e66e0078]\u001b[39m\u001b[92m + CompilerSupportLibraries_jll v0.3.3+0\u001b[39m\n",
      " \u001b[90m [31c24e10]\u001b[39m\u001b[92m + Distributions v0.23.4\u001b[39m\n",
      " \u001b[90m [1a297f60]\u001b[39m\u001b[92m + FillArrays v0.8.11\u001b[39m\n",
      " \u001b[90m [38e38edf]\u001b[39m\u001b[92m + GLM v1.3.9\u001b[39m\n",
      " \u001b[90m [4536629a]\u001b[39m\u001b[92m + OpenBLAS_jll v0.3.9+4\u001b[39m\n",
      " \u001b[90m [efe28fd5]\u001b[39m\u001b[92m + OpenSpecFun_jll v0.5.3+3\u001b[39m\n",
      " \u001b[90m [90014a1f]\u001b[39m\u001b[92m + PDMats v0.9.12\u001b[39m\n",
      " \u001b[90m [1fd47b50]\u001b[39m\u001b[92m + QuadGK v2.3.1\u001b[39m\n",
      " \u001b[90m [79098fc4]\u001b[39m\u001b[92m + Rmath v0.6.1\u001b[39m\n",
      " \u001b[90m [f50d1b31]\u001b[39m\u001b[92m + Rmath_jll v0.2.2+1\u001b[39m\n",
      " \u001b[90m [1277b4bf]\u001b[39m\u001b[92m + ShiftedArrays v1.0.0\u001b[39m\n",
      " \u001b[90m [276daf66]\u001b[39m\u001b[92m + SpecialFunctions v0.10.3\u001b[39m\n",
      " \u001b[90m [4c63d2b9]\u001b[39m\u001b[92m + StatsFuns v0.9.5\u001b[39m\n",
      " \u001b[90m [3eaba693]\u001b[39m\u001b[92m + StatsModels v0.6.11\u001b[39m\n",
      " \u001b[90m [4607b0f0]\u001b[39m\u001b[92m + SuiteSparse \u001b[39m\n",
      "┌ Info: Precompiling GLM [38e38edf-8417-5370-95a0-9cbb8c7f171a]\n",
      "└ @ Base loading.jl:1260\n"
     ]
    }
   ],
   "source": [
    "Pkg.add(\"GLM\")\n",
    "using GLM"
   ]
  },
  {
   "cell_type": "code",
   "execution_count": 20,
   "metadata": {},
   "outputs": [
    {
     "data": {
      "text/plain": [
       "2-element Array{Symbol,1}:\n",
       " :Promote\n",
       " :Sales"
      ]
     },
     "execution_count": 20,
     "metadata": {},
     "output_type": "execute_result"
    }
   ],
   "source": [
    "names(dataset)"
   ]
  },
  {
   "cell_type": "code",
   "execution_count": 21,
   "metadata": {},
   "outputs": [
    {
     "data": {
      "text/plain": [
       "StatsModels.TableRegressionModel{LinearModel{GLM.LmResp{Array{Float64,1}},GLM.DensePredChol{Float64,LinearAlgebra.Cholesky{Float64,Array{Float64,2}}}},Array{Float64,2}}\n",
       "\n",
       "Sales ~ 1 + Promote\n",
       "\n",
       "Coefficients:\n",
       "────────────────────────────────────────────────────────────────────────────\n",
       "             Estimate  Std. Error    t value  Pr(>|t|)  Lower 95%  Upper 95%\n",
       "────────────────────────────────────────────────────────────────────────────\n",
       "(Intercept)   5.48587   34.718      0.158012    0.8763   -67.7627    78.7344\n",
       "Promote      23.5064     0.606353  38.7668      <1e-17    22.2271    24.7857\n",
       "────────────────────────────────────────────────────────────────────────────"
      ]
     },
     "execution_count": 21,
     "metadata": {},
     "output_type": "execute_result"
    }
   ],
   "source": [
    "ols = lm(@formula(Sales ~ Promote), dataset)  # ordinary linear square"
   ]
  },
  {
   "cell_type": "code",
   "execution_count": 22,
   "metadata": {},
   "outputs": [],
   "source": [
    "using DataFrames"
   ]
  },
  {
   "cell_type": "code",
   "execution_count": 23,
   "metadata": {},
   "outputs": [
    {
     "data": {
      "text/plain": [
       "1-element Array{Union{Missing, Float64},1}:\n",
       " 1180.806016440791"
      ]
     },
     "execution_count": 23,
     "metadata": {},
     "output_type": "execute_result"
    }
   ],
   "source": [
    "predict(ols, DataFrame(Promote = [50]))"
   ]
  },
  {
   "cell_type": "markdown",
   "metadata": {},
   "source": [
    "# Multiple Linear Regression"
   ]
  },
  {
   "cell_type": "code",
   "execution_count": 24,
   "metadata": {},
   "outputs": [
    {
     "name": "stderr",
     "output_type": "stream",
     "text": [
      "┌ Info: Precompiling CSV [336ed68f-0bac-5ca0-87d4-7b16caf5d00b]\n",
      "└ @ Base loading.jl:1260\n"
     ]
    }
   ],
   "source": [
    "using CSV"
   ]
  },
  {
   "cell_type": "code",
   "execution_count": 25,
   "metadata": {
    "scrolled": true
   },
   "outputs": [
    {
     "data": {
      "text/html": [
       "<table class=\"data-frame\"><thead><tr><th></th><th>Salary</th><th>Years_Previous_Experience</th><th>Years_Employed</th><th>Years_Education</th><th>Gender</th><th>Department</th></tr><tr><th></th><th>Int64</th><th>Int64</th><th>Int64</th><th>Int64</th><th>String</th><th>String</th></tr></thead><tbody><p>46 rows × 7 columns (omitted printing of 1 columns)</p><tr><th>1</th><td>32782</td><td>1</td><td>0</td><td>7</td><td>Male</td><td>A</td></tr><tr><th>2</th><td>32920</td><td>3</td><td>15</td><td>9</td><td>Female</td><td>A</td></tr><tr><th>3</th><td>29548</td><td>6</td><td>5</td><td>1</td><td>Male</td><td>A</td></tr><tr><th>4</th><td>39828</td><td>6</td><td>18</td><td>5</td><td>Female</td><td>A</td></tr><tr><th>5</th><td>31528</td><td>11</td><td>3</td><td>3</td><td>Male</td><td>A</td></tr><tr><th>6</th><td>38985</td><td>7</td><td>18</td><td>9</td><td>Male</td><td>A</td></tr><tr><th>7</th><td>41889</td><td>16</td><td>22</td><td>7</td><td>Male</td><td>A</td></tr><tr><th>8</th><td>38791</td><td>4</td><td>21</td><td>5</td><td>Male</td><td>A</td></tr><tr><th>9</th><td>28985</td><td>1</td><td>0</td><td>4</td><td>Female</td><td>A</td></tr><tr><th>10</th><td>24749</td><td>2</td><td>6</td><td>0</td><td>Female</td><td>A</td></tr><tr><th>11</th><td>35467</td><td>6</td><td>3</td><td>6</td><td>Female</td><td>B</td></tr><tr><th>12</th><td>35468</td><td>5</td><td>9</td><td>4</td><td>Female</td><td>B</td></tr><tr><th>13</th><td>29876</td><td>0</td><td>2</td><td>3</td><td>Female</td><td>B</td></tr><tr><th>14</th><td>43674</td><td>9</td><td>6</td><td>4</td><td>Male</td><td>B</td></tr><tr><th>15</th><td>36431</td><td>4</td><td>9</td><td>4</td><td>Female</td><td>B</td></tr><tr><th>16</th><td>26578</td><td>6</td><td>0</td><td>2</td><td>Female</td><td>B</td></tr><tr><th>17</th><td>36571</td><td>1</td><td>6</td><td>4</td><td>Male</td><td>B</td></tr><tr><th>18</th><td>56326</td><td>3</td><td>12</td><td>8</td><td>Male</td><td>B</td></tr><tr><th>19</th><td>23654</td><td>0</td><td>0</td><td>0</td><td>Female</td><td>C</td></tr><tr><th>20</th><td>36578</td><td>4</td><td>4</td><td>8</td><td>Male</td><td>C</td></tr><tr><th>21</th><td>37548</td><td>9</td><td>19</td><td>4</td><td>Male</td><td>C</td></tr><tr><th>22</th><td>53234</td><td>0</td><td>25</td><td>6</td><td>Male</td><td>C</td></tr><tr><th>23</th><td>54679</td><td>3</td><td>20</td><td>6</td><td>Female</td><td>C</td></tr><tr><th>24</th><td>47536</td><td>5</td><td>15</td><td>6</td><td>Male</td><td>C</td></tr><tr><th>25</th><td>31425</td><td>6</td><td>7</td><td>5</td><td>Female</td><td>C</td></tr><tr><th>26</th><td>65487</td><td>0</td><td>27</td><td>12</td><td>Female</td><td>D</td></tr><tr><th>27</th><td>46184</td><td>3</td><td>20</td><td>4</td><td>Male</td><td>D</td></tr><tr><th>28</th><td>54899</td><td>5</td><td>12</td><td>8</td><td>Female</td><td>D</td></tr><tr><th>29</th><td>34869</td><td>5</td><td>7</td><td>4</td><td>Female</td><td>D</td></tr><tr><th>30</th><td>35487</td><td>2</td><td>8</td><td>2</td><td>Female</td><td>D</td></tr><tr><th>&vellip;</th><td>&vellip;</td><td>&vellip;</td><td>&vellip;</td><td>&vellip;</td><td>&vellip;</td><td>&vellip;</td></tr></tbody></table>"
      ],
      "text/latex": [
       "\\begin{tabular}{r|ccccccc}\n",
       "\t& Salary & Years\\_Previous\\_Experience & Years\\_Employed & Years\\_Education & Gender & Department & \\\\\n",
       "\t\\hline\n",
       "\t& Int64 & Int64 & Int64 & Int64 & String & String & \\\\\n",
       "\t\\hline\n",
       "\t1 & 32782 & 1 & 0 & 7 & Male & A & $\\dots$ \\\\\n",
       "\t2 & 32920 & 3 & 15 & 9 & Female & A & $\\dots$ \\\\\n",
       "\t3 & 29548 & 6 & 5 & 1 & Male & A & $\\dots$ \\\\\n",
       "\t4 & 39828 & 6 & 18 & 5 & Female & A & $\\dots$ \\\\\n",
       "\t5 & 31528 & 11 & 3 & 3 & Male & A & $\\dots$ \\\\\n",
       "\t6 & 38985 & 7 & 18 & 9 & Male & A & $\\dots$ \\\\\n",
       "\t7 & 41889 & 16 & 22 & 7 & Male & A & $\\dots$ \\\\\n",
       "\t8 & 38791 & 4 & 21 & 5 & Male & A & $\\dots$ \\\\\n",
       "\t9 & 28985 & 1 & 0 & 4 & Female & A & $\\dots$ \\\\\n",
       "\t10 & 24749 & 2 & 6 & 0 & Female & A & $\\dots$ \\\\\n",
       "\t11 & 35467 & 6 & 3 & 6 & Female & B & $\\dots$ \\\\\n",
       "\t12 & 35468 & 5 & 9 & 4 & Female & B & $\\dots$ \\\\\n",
       "\t13 & 29876 & 0 & 2 & 3 & Female & B & $\\dots$ \\\\\n",
       "\t14 & 43674 & 9 & 6 & 4 & Male & B & $\\dots$ \\\\\n",
       "\t15 & 36431 & 4 & 9 & 4 & Female & B & $\\dots$ \\\\\n",
       "\t16 & 26578 & 6 & 0 & 2 & Female & B & $\\dots$ \\\\\n",
       "\t17 & 36571 & 1 & 6 & 4 & Male & B & $\\dots$ \\\\\n",
       "\t18 & 56326 & 3 & 12 & 8 & Male & B & $\\dots$ \\\\\n",
       "\t19 & 23654 & 0 & 0 & 0 & Female & C & $\\dots$ \\\\\n",
       "\t20 & 36578 & 4 & 4 & 8 & Male & C & $\\dots$ \\\\\n",
       "\t21 & 37548 & 9 & 19 & 4 & Male & C & $\\dots$ \\\\\n",
       "\t22 & 53234 & 0 & 25 & 6 & Male & C & $\\dots$ \\\\\n",
       "\t23 & 54679 & 3 & 20 & 6 & Female & C & $\\dots$ \\\\\n",
       "\t24 & 47536 & 5 & 15 & 6 & Male & C & $\\dots$ \\\\\n",
       "\t25 & 31425 & 6 & 7 & 5 & Female & C & $\\dots$ \\\\\n",
       "\t26 & 65487 & 0 & 27 & 12 & Female & D & $\\dots$ \\\\\n",
       "\t27 & 46184 & 3 & 20 & 4 & Male & D & $\\dots$ \\\\\n",
       "\t28 & 54899 & 5 & 12 & 8 & Female & D & $\\dots$ \\\\\n",
       "\t29 & 34869 & 5 & 7 & 4 & Female & D & $\\dots$ \\\\\n",
       "\t30 & 35487 & 2 & 8 & 2 & Female & D & $\\dots$ \\\\\n",
       "\t$\\dots$ & $\\dots$ & $\\dots$ & $\\dots$ & $\\dots$ & $\\dots$ & $\\dots$ &  \\\\\n",
       "\\end{tabular}\n"
      ],
      "text/plain": [
       "46×7 DataFrame. Omitted printing of 3 columns\n",
       "│ Row │ Salary │ Years_Previous_Experience │ Years_Employed │ Years_Education │\n",
       "│     │ \u001b[90mInt64\u001b[39m  │ \u001b[90mInt64\u001b[39m                     │ \u001b[90mInt64\u001b[39m          │ \u001b[90mInt64\u001b[39m           │\n",
       "├─────┼────────┼───────────────────────────┼────────────────┼─────────────────┤\n",
       "│ 1   │ 32782  │ 1                         │ 0              │ 7               │\n",
       "│ 2   │ 32920  │ 3                         │ 15             │ 9               │\n",
       "│ 3   │ 29548  │ 6                         │ 5              │ 1               │\n",
       "│ 4   │ 39828  │ 6                         │ 18             │ 5               │\n",
       "│ 5   │ 31528  │ 11                        │ 3              │ 3               │\n",
       "│ 6   │ 38985  │ 7                         │ 18             │ 9               │\n",
       "│ 7   │ 41889  │ 16                        │ 22             │ 7               │\n",
       "│ 8   │ 38791  │ 4                         │ 21             │ 5               │\n",
       "│ 9   │ 28985  │ 1                         │ 0              │ 4               │\n",
       "│ 10  │ 24749  │ 2                         │ 6              │ 0               │\n",
       "⋮\n",
       "│ 36  │ 36487  │ 5                         │ 6              │ 2               │\n",
       "│ 37  │ 34632  │ 4                         │ 5              │ 4               │\n",
       "│ 38  │ 46211  │ 5                         │ 14             │ 6               │\n",
       "│ 39  │ 51698  │ 6                         │ 18             │ 6               │\n",
       "│ 40  │ 69246  │ 3                         │ 22             │ 10              │\n",
       "│ 41  │ 48695  │ 19                        │ 6              │ 8               │\n",
       "│ 42  │ 34987  │ 6                         │ 9              │ 2               │\n",
       "│ 43  │ 35631  │ 4                         │ 6              │ 4               │\n",
       "│ 44  │ 39743  │ 6                         │ 9              │ 5               │\n",
       "│ 45  │ 41255  │ 4                         │ 9              │ 6               │\n",
       "│ 46  │ 26452  │ 3                         │ 1              │ 2               │"
      ]
     },
     "execution_count": 25,
     "metadata": {},
     "output_type": "execute_result"
    }
   ],
   "source": [
    "s2 = CSV.read(\"salary.csv\")"
   ]
  },
  {
   "cell_type": "code",
   "execution_count": 26,
   "metadata": {},
   "outputs": [
    {
     "data": {
      "text/plain": [
       "7-element Array{Symbol,1}:\n",
       " :Salary\n",
       " :Years_Previous_Experience\n",
       " :Years_Employed\n",
       " :Years_Education\n",
       " :Gender\n",
       " :Department\n",
       " :Number_Supervised"
      ]
     },
     "execution_count": 26,
     "metadata": {},
     "output_type": "execute_result"
    }
   ],
   "source": [
    "names(s2)"
   ]
  },
  {
   "cell_type": "code",
   "execution_count": 28,
   "metadata": {},
   "outputs": [
    {
     "data": {
      "text/plain": [
       "StatsModels.TableRegressionModel{LinearModel{GLM.LmResp{Array{Float64,1}},GLM.DensePredChol{Float64,LinearAlgebra.Cholesky{Float64,Array{Float64,2}}}},Array{Float64,2}}\n",
       "\n",
       "Salary ~ 1 + Years_Previous_Experience + Years_Employed + Years_Education + Gender\n",
       "\n",
       "Coefficients:\n",
       "───────────────────────────────────────────────────────────────────────────────────────────\n",
       "                            Estimate  Std. Error    t value  Pr(>|t|)  Lower 95%  Upper 95%\n",
       "───────────────────────────────────────────────────────────────────────────────────────────\n",
       "(Intercept)                23167.1      2072.0    11.181       <1e-13   18982.6   27351.6\n",
       "Years_Previous_Experience   -114.747     239.075  -0.479963    0.6338    -597.57    368.075\n",
       "Years_Employed               656.497     144.942   4.52937     <1e-4      363.78    949.214\n",
       "Years_Education             1903.99      386.932   4.92072     <1e-4     1122.56   2685.41\n",
       "Gender: Male                1468.1      1804.27    0.813682    0.4205   -2175.69   5111.9\n",
       "───────────────────────────────────────────────────────────────────────────────────────────"
      ]
     },
     "execution_count": 28,
     "metadata": {},
     "output_type": "execute_result"
    }
   ],
   "source": [
    "ols2 = lm(@formula(Salary ~ Years_Previous_Experience + Years_Employed + Years_Education + Gender), s2)"
   ]
  },
  {
   "cell_type": "code",
   "execution_count": 29,
   "metadata": {},
   "outputs": [
    {
     "data": {
      "text/plain": [
       "1-element Array{Union{Missing, Float64},1}:\n",
       " 51504.78590840764"
      ]
     },
     "execution_count": 29,
     "metadata": {},
     "output_type": "execute_result"
    }
   ],
   "source": [
    "predict(ols2, DataFrame(Years_Previous_Experience = [5], Years_Employed = [7], Years_Education = [12], Gender = [\"Male\"]))"
   ]
  },
  {
   "cell_type": "code",
   "execution_count": 30,
   "metadata": {},
   "outputs": [
    {
     "data": {
      "text/plain": [
       "1-element Array{Union{Missing, Float64},1}:\n",
       " 50036.68417086605"
      ]
     },
     "execution_count": 30,
     "metadata": {},
     "output_type": "execute_result"
    }
   ],
   "source": [
    "predict(ols2, DataFrame(Years_Previous_Experience = [5], Years_Employed = [7], Years_Education = [12], Gender = [\"Female\"]))"
   ]
  },
  {
   "cell_type": "code",
   "execution_count": 31,
   "metadata": {},
   "outputs": [
    {
     "data": {
      "text/plain": [
       "2-element Array{Union{Missing, Float64},1}:\n",
       " 51504.78590840764\n",
       " 57176.38183377373"
      ]
     },
     "execution_count": 31,
     "metadata": {},
     "output_type": "execute_result"
    }
   ],
   "source": [
    "predict(ols2, DataFrame(Years_Previous_Experience = [5,4], Years_Employed = [7,9], Years_Education = [12,15], \n",
    "        Gender = [\"Male\",\"Female\"]))"
   ]
  }
 ],
 "metadata": {
  "kernelspec": {
   "display_name": "Julia 1.4.0",
   "language": "julia",
   "name": "julia-1.4"
  },
  "language_info": {
   "file_extension": ".jl",
   "mimetype": "application/julia",
   "name": "julia",
   "version": "1.4.0"
  }
 },
 "nbformat": 4,
 "nbformat_minor": 4
}
