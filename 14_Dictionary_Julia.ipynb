{
 "cells": [
  {
   "cell_type": "markdown",
   "metadata": {},
   "source": [
    "# Dictionary"
   ]
  },
  {
   "cell_type": "code",
   "execution_count": 3,
   "metadata": {},
   "outputs": [
    {
     "data": {
      "text/plain": [
       "Dict{String,String} with 3 entries:\n",
       "  \"John\"  => \"555\"\n",
       "  \"Alice\" => \"111\"\n",
       "  \"Bob\"   => \"333\""
      ]
     },
     "execution_count": 3,
     "metadata": {},
     "output_type": "execute_result"
    }
   ],
   "source": [
    "#=\n",
    "John = 555\n",
    "Alice = 111\n",
    "Bob = 333\n",
    "=#\n",
    "phonebook = Dict(\"John\" => \"555\", \"Alice\" => \"111\", \"Bob\" => \"333\")"
   ]
  },
  {
   "cell_type": "code",
   "execution_count": 5,
   "metadata": {},
   "outputs": [
    {
     "name": "stdout",
     "output_type": "stream",
     "text": [
      "[\"John\", \"Alice\", \"Bob\"]\n",
      "[\"555\", \"111\", \"333\"]\n"
     ]
    }
   ],
   "source": [
    "println(keys(phonebook))\n",
    "println(values(phonebook))"
   ]
  },
  {
   "cell_type": "code",
   "execution_count": 12,
   "metadata": {},
   "outputs": [
    {
     "ename": "KeyError",
     "evalue": "KeyError: key (\"John\", \"Alice\") not found",
     "output_type": "error",
     "traceback": [
      "KeyError: key (\"John\", \"Alice\") not found",
      "",
      "Stacktrace:",
      " [1] getindex at .\\dict.jl:477 [inlined]",
      " [2] getindex(::Dict{String,String}, ::String, ::String) at .\\abstractdict.jl:478",
      " [3] top-level scope at In[12]:1"
     ]
    }
   ],
   "source": [
    "phonebook[\"John\"]  # exibe os valores da respectiva chave"
   ]
  },
  {
   "cell_type": "code",
   "execution_count": 8,
   "metadata": {},
   "outputs": [
    {
     "name": "stdout",
     "output_type": "stream",
     "text": [
      "John, 555\n",
      "Alice, 111\n",
      "Bob, 333\n"
     ]
    }
   ],
   "source": [
    "for (k,v) in phonebook   # retorna todas chaves e seus valores\n",
    "    println(\"$k, $v\")\n",
    "end"
   ]
  },
  {
   "cell_type": "code",
   "execution_count": 10,
   "metadata": {},
   "outputs": [
    {
     "data": {
      "text/plain": [
       "3-element Array{String,1}:\n",
       " \"John\"\n",
       " \"Alice\"\n",
       " \"Bob\""
      ]
     },
     "execution_count": 10,
     "metadata": {},
     "output_type": "execute_result"
    }
   ],
   "source": [
    "collect(keys(phonebook))  # retorna todas as chaves do dicionário"
   ]
  },
  {
   "cell_type": "code",
   "execution_count": 11,
   "metadata": {},
   "outputs": [
    {
     "data": {
      "text/plain": [
       "true"
      ]
     },
     "execution_count": 11,
     "metadata": {},
     "output_type": "execute_result"
    }
   ],
   "source": [
    "haskey(phonebook, \"John\")  # verifica se a chave existe no dicionário"
   ]
  }
 ],
 "metadata": {
  "kernelspec": {
   "display_name": "Julia 1.4.0",
   "language": "julia",
   "name": "julia-1.4"
  },
  "language_info": {
   "file_extension": ".jl",
   "mimetype": "application/julia",
   "name": "julia",
   "version": "1.4.0"
  }
 },
 "nbformat": 4,
 "nbformat_minor": 4
}
