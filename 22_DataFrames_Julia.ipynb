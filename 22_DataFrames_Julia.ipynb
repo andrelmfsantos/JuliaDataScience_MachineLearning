{
 "cells": [
  {
   "cell_type": "markdown",
   "metadata": {},
   "source": [
    "# Dataframes"
   ]
  },
  {
   "cell_type": "code",
   "execution_count": 1,
   "metadata": {},
   "outputs": [],
   "source": [
    "using Pkg"
   ]
  },
  {
   "cell_type": "code",
   "execution_count": 2,
   "metadata": {},
   "outputs": [
    {
     "name": "stderr",
     "output_type": "stream",
     "text": [
      "\u001b[32m\u001b[1m   Updating\u001b[22m\u001b[39m registry at `C:\\Users\\andre\\.juliapro\\JuliaPro_v1.4.0-1\\registries\\JuliaPro`\n",
      "\u001b[32m\u001b[1m  Resolving\u001b[22m\u001b[39m package versions...\n",
      "\u001b[32m\u001b[1m   Updating\u001b[22m\u001b[39m `C:\\Users\\andre\\.juliapro\\JuliaPro_v1.4.0-1\\environments\\v1.4\\Project.toml`\n",
      "\u001b[90m [no changes]\u001b[39m\n",
      "\u001b[32m\u001b[1m   Updating\u001b[22m\u001b[39m `C:\\Users\\andre\\.juliapro\\JuliaPro_v1.4.0-1\\environments\\v1.4\\Manifest.toml`\n",
      "\u001b[90m [no changes]\u001b[39m\n"
     ]
    }
   ],
   "source": [
    "Pkg.add(\"DataFrames\")"
   ]
  },
  {
   "cell_type": "code",
   "execution_count": 3,
   "metadata": {},
   "outputs": [],
   "source": [
    "using DataFrames"
   ]
  },
  {
   "cell_type": "code",
   "execution_count": 4,
   "metadata": {},
   "outputs": [
    {
     "data": {
      "text/html": [
       "<table class=\"data-frame\"><thead><tr><th></th></tr><tr><th></th></tr></thead><tbody><p>0 rows × 0 columns</p></tbody></table>"
      ],
      "text/latex": [
       "\\begin{tabular}{r|}\n",
       "\t& \\\\\n",
       "\t\\hline\n",
       "\t& \\\\\n",
       "\t\\hline\n",
       "\\end{tabular}\n"
      ],
      "text/plain": [
       "0×0 DataFrame\n"
      ]
     },
     "execution_count": 4,
     "metadata": {},
     "output_type": "execute_result"
    }
   ],
   "source": [
    "DataFrame()"
   ]
  },
  {
   "cell_type": "code",
   "execution_count": 6,
   "metadata": {},
   "outputs": [
    {
     "data": {
      "text/html": [
       "<table class=\"data-frame\"><thead><tr><th></th><th>x1</th><th>x2</th><th>x3</th></tr><tr><th></th><th>Float64</th><th>Float64</th><th>Float64</th></tr></thead><tbody><p>10 rows × 3 columns</p><tr><th>1</th><td>0.131363</td><td>0.791276</td><td>0.250266</td></tr><tr><th>2</th><td>0.423987</td><td>0.0443301</td><td>0.509525</td></tr><tr><th>3</th><td>0.154283</td><td>0.283214</td><td>0.775237</td></tr><tr><th>4</th><td>0.277096</td><td>0.407768</td><td>0.885585</td></tr><tr><th>5</th><td>0.00390208</td><td>0.930367</td><td>0.879516</td></tr><tr><th>6</th><td>0.790064</td><td>0.452076</td><td>0.0585666</td></tr><tr><th>7</th><td>0.58016</td><td>0.712528</td><td>0.856193</td></tr><tr><th>8</th><td>0.551387</td><td>0.0376462</td><td>0.0611385</td></tr><tr><th>9</th><td>0.654827</td><td>0.916377</td><td>0.270355</td></tr><tr><th>10</th><td>0.3924</td><td>0.327314</td><td>0.892125</td></tr></tbody></table>"
      ],
      "text/latex": [
       "\\begin{tabular}{r|ccc}\n",
       "\t& x1 & x2 & x3\\\\\n",
       "\t\\hline\n",
       "\t& Float64 & Float64 & Float64\\\\\n",
       "\t\\hline\n",
       "\t1 & 0.131363 & 0.791276 & 0.250266 \\\\\n",
       "\t2 & 0.423987 & 0.0443301 & 0.509525 \\\\\n",
       "\t3 & 0.154283 & 0.283214 & 0.775237 \\\\\n",
       "\t4 & 0.277096 & 0.407768 & 0.885585 \\\\\n",
       "\t5 & 0.00390208 & 0.930367 & 0.879516 \\\\\n",
       "\t6 & 0.790064 & 0.452076 & 0.0585666 \\\\\n",
       "\t7 & 0.58016 & 0.712528 & 0.856193 \\\\\n",
       "\t8 & 0.551387 & 0.0376462 & 0.0611385 \\\\\n",
       "\t9 & 0.654827 & 0.916377 & 0.270355 \\\\\n",
       "\t10 & 0.3924 & 0.327314 & 0.892125 \\\\\n",
       "\\end{tabular}\n"
      ],
      "text/plain": [
       "10×3 DataFrame\n",
       "│ Row │ x1         │ x2        │ x3        │\n",
       "│     │ \u001b[90mFloat64\u001b[39m    │ \u001b[90mFloat64\u001b[39m   │ \u001b[90mFloat64\u001b[39m   │\n",
       "├─────┼────────────┼───────────┼───────────┤\n",
       "│ 1   │ 0.131363   │ 0.791276  │ 0.250266  │\n",
       "│ 2   │ 0.423987   │ 0.0443301 │ 0.509525  │\n",
       "│ 3   │ 0.154283   │ 0.283214  │ 0.775237  │\n",
       "│ 4   │ 0.277096   │ 0.407768  │ 0.885585  │\n",
       "│ 5   │ 0.00390208 │ 0.930367  │ 0.879516  │\n",
       "│ 6   │ 0.790064   │ 0.452076  │ 0.0585666 │\n",
       "│ 7   │ 0.58016    │ 0.712528  │ 0.856193  │\n",
       "│ 8   │ 0.551387   │ 0.0376462 │ 0.0611385 │\n",
       "│ 9   │ 0.654827   │ 0.916377  │ 0.270355  │\n",
       "│ 10  │ 0.3924     │ 0.327314  │ 0.892125  │"
      ]
     },
     "execution_count": 6,
     "metadata": {},
     "output_type": "execute_result"
    }
   ],
   "source": [
    "DataFrame(A = 1:4, B = rand(4))\n",
    "DataFrame(rand(10,3))"
   ]
  },
  {
   "cell_type": "code",
   "execution_count": 7,
   "metadata": {},
   "outputs": [
    {
     "data": {
      "text/plain": [
       "10×3 Array{Float64,2}:\n",
       " 0.242525    0.0914409  0.570112\n",
       " 0.501636    0.249798   0.422371\n",
       " 0.120085    0.399494   0.0246585\n",
       " 0.545258    0.567345   0.133669\n",
       " 0.113375    0.569485   0.801874\n",
       " 0.946264    0.959738   0.747452\n",
       " 0.018456    0.804218   0.989967\n",
       " 0.00370103  0.616141   0.435864\n",
       " 0.913528    0.0816975  0.119135\n",
       " 0.369114    0.942798   0.650666"
      ]
     },
     "execution_count": 7,
     "metadata": {},
     "output_type": "execute_result"
    }
   ],
   "source": [
    "X1 = DataFrame(rand(10,3))     # Transforma o dataframe em matriz\n",
    "Matrix(X1)"
   ]
  },
  {
   "cell_type": "code",
   "execution_count": 8,
   "metadata": {},
   "outputs": [
    {
     "name": "stderr",
     "output_type": "stream",
     "text": [
      "\u001b[32m\u001b[1m  Resolving\u001b[22m\u001b[39m package versions...\n",
      "\u001b[32m\u001b[1m  Installed\u001b[22m\u001b[39m Tables ─ v1.0.4\n",
      "\u001b[32m\u001b[1m   Updating\u001b[22m\u001b[39m `C:\\Users\\andre\\.juliapro\\JuliaPro_v1.4.0-1\\environments\\v1.4\\Project.toml`\n",
      " \u001b[90m [bd369af6]\u001b[39m\u001b[92m + Tables v1.0.4\u001b[39m\n",
      "\u001b[32m\u001b[1m   Updating\u001b[22m\u001b[39m `C:\\Users\\andre\\.juliapro\\JuliaPro_v1.4.0-1\\environments\\v1.4\\Manifest.toml`\n",
      " \u001b[90m [bd369af6]\u001b[39m\u001b[93m ↑ Tables v1.0.2 ⇒ v1.0.4\u001b[39m\n"
     ]
    }
   ],
   "source": [
    "Pkg.add(\"Tables\")\n",
    "using Tables"
   ]
  },
  {
   "cell_type": "code",
   "execution_count": 9,
   "metadata": {},
   "outputs": [
    {
     "data": {
      "text/plain": [
       "(x1 = [0.24252452480593067, 0.5016360570114096, 0.12008467673551437, 0.5452579642833022, 0.11337525185239228, 0.9462640601455545, 0.01845604831421377, 0.00370103380201825, 0.9135277916232323, 0.36911378027884845], x2 = [0.0914409289362319, 0.24979779032235117, 0.39949414719397414, 0.5673450637477135, 0.5694849516404021, 0.959738069452454, 0.8042177398164447, 0.6161410945403709, 0.08169746625565977, 0.9427975949975698], x3 = [0.570112009992457, 0.42237086315716765, 0.024658476968361098, 0.13366853429144432, 0.8018744451165767, 0.7474519590657092, 0.9899668287885108, 0.4358635020013484, 0.11913534261342629, 0.6506661244390164])"
      ]
     },
     "execution_count": 9,
     "metadata": {},
     "output_type": "execute_result"
    }
   ],
   "source": [
    "tb = Tables.columntable(X1)"
   ]
  },
  {
   "cell_type": "code",
   "execution_count": 10,
   "metadata": {},
   "outputs": [
    {
     "data": {
      "text/plain": [
       "NamedTuple{(:x1, :x2, :x3),Tuple{Array{Float64,1},Array{Float64,1},Array{Float64,1}}}"
      ]
     },
     "execution_count": 10,
     "metadata": {},
     "output_type": "execute_result"
    }
   ],
   "source": [
    "typeof(tb)"
   ]
  },
  {
   "cell_type": "code",
   "execution_count": 12,
   "metadata": {},
   "outputs": [
    {
     "data": {
      "text/plain": [
       "10-element Array{Float64,1}:\n",
       " 0.570112009992457\n",
       " 0.42237086315716765\n",
       " 0.024658476968361098\n",
       " 0.13366853429144432\n",
       " 0.8018744451165767\n",
       " 0.7474519590657092\n",
       " 0.9899668287885108\n",
       " 0.4358635020013484\n",
       " 0.11913534261342629\n",
       " 0.6506661244390164"
      ]
     },
     "execution_count": 12,
     "metadata": {},
     "output_type": "execute_result"
    }
   ],
   "source": [
    "tb.x1\n",
    "tb.x2\n",
    "tb.x3"
   ]
  },
  {
   "cell_type": "markdown",
   "metadata": {},
   "source": [
    "# More on DataFrames"
   ]
  },
  {
   "cell_type": "code",
   "execution_count": 13,
   "metadata": {},
   "outputs": [
    {
     "data": {
      "text/plain": [
       "3-element Array{Symbol,1}:\n",
       " :x1\n",
       " :x2\n",
       " :x3"
      ]
     },
     "execution_count": 13,
     "metadata": {},
     "output_type": "execute_result"
    }
   ],
   "source": [
    "names(X1)  # nomes das colunas"
   ]
  },
  {
   "cell_type": "code",
   "execution_count": 14,
   "metadata": {},
   "outputs": [
    {
     "data": {
      "text/plain": [
       "(10, 3)"
      ]
     },
     "execution_count": 14,
     "metadata": {},
     "output_type": "execute_result"
    }
   ],
   "source": [
    "size(X1)  # dimensões do dataframe (linhas, colunas)"
   ]
  },
  {
   "cell_type": "code",
   "execution_count": 16,
   "metadata": {},
   "outputs": [
    {
     "data": {
      "text/plain": [
       "(10, 3)"
      ]
     },
     "execution_count": 16,
     "metadata": {},
     "output_type": "execute_result"
    }
   ],
   "source": [
    "size(X1, 1), size(X1, 2)"
   ]
  },
  {
   "cell_type": "code",
   "execution_count": 17,
   "metadata": {},
   "outputs": [
    {
     "data": {
      "text/plain": [
       "3"
      ]
     },
     "execution_count": 17,
     "metadata": {},
     "output_type": "execute_result"
    }
   ],
   "source": [
    "nrow(X1)\n",
    "ncol(X1)"
   ]
  },
  {
   "cell_type": "code",
   "execution_count": 18,
   "metadata": {},
   "outputs": [
    {
     "data": {
      "text/html": [
       "<table class=\"data-frame\"><thead><tr><th></th><th>variable</th><th>mean</th><th>min</th><th>median</th><th>max</th><th>nunique</th><th>nmissing</th><th>eltype</th></tr><tr><th></th><th>Symbol</th><th>Float64</th><th>Float64</th><th>Float64</th><th>Float64</th><th>Nothing</th><th>Nothing</th><th>DataType</th></tr></thead><tbody><p>3 rows × 8 columns</p><tr><th>1</th><td>x1</td><td>0.377394</td><td>0.00370103</td><td>0.305819</td><td>0.946264</td><td></td><td></td><td>Float64</td></tr><tr><th>2</th><td>x2</td><td>0.528215</td><td>0.0816975</td><td>0.568415</td><td>0.959738</td><td></td><td></td><td>Float64</td></tr><tr><th>3</th><td>x3</td><td>0.489577</td><td>0.0246585</td><td>0.502988</td><td>0.989967</td><td></td><td></td><td>Float64</td></tr></tbody></table>"
      ],
      "text/latex": [
       "\\begin{tabular}{r|cccccccc}\n",
       "\t& variable & mean & min & median & max & nunique & nmissing & eltype\\\\\n",
       "\t\\hline\n",
       "\t& Symbol & Float64 & Float64 & Float64 & Float64 & Nothing & Nothing & DataType\\\\\n",
       "\t\\hline\n",
       "\t1 & x1 & 0.377394 & 0.00370103 & 0.305819 & 0.946264 &  &  & Float64 \\\\\n",
       "\t2 & x2 & 0.528215 & 0.0816975 & 0.568415 & 0.959738 &  &  & Float64 \\\\\n",
       "\t3 & x3 & 0.489577 & 0.0246585 & 0.502988 & 0.989967 &  &  & Float64 \\\\\n",
       "\\end{tabular}\n"
      ],
      "text/plain": [
       "3×8 DataFrame. Omitted printing of 2 columns\n",
       "│ Row │ variable │ mean     │ min        │ median   │ max      │ nunique │\n",
       "│     │ \u001b[90mSymbol\u001b[39m   │ \u001b[90mFloat64\u001b[39m  │ \u001b[90mFloat64\u001b[39m    │ \u001b[90mFloat64\u001b[39m  │ \u001b[90mFloat64\u001b[39m  │ \u001b[90mNothing\u001b[39m │\n",
       "├─────┼──────────┼──────────┼────────────┼──────────┼──────────┼─────────┤\n",
       "│ 1   │ x1       │ 0.377394 │ 0.00370103 │ 0.305819 │ 0.946264 │         │\n",
       "│ 2   │ x2       │ 0.528215 │ 0.0816975  │ 0.568415 │ 0.959738 │         │\n",
       "│ 3   │ x3       │ 0.489577 │ 0.0246585  │ 0.502988 │ 0.989967 │         │"
      ]
     },
     "execution_count": 18,
     "metadata": {},
     "output_type": "execute_result"
    }
   ],
   "source": [
    "describe(X1)"
   ]
  },
  {
   "cell_type": "code",
   "execution_count": 19,
   "metadata": {},
   "outputs": [
    {
     "data": {
      "text/html": [
       "<table class=\"data-frame\"><thead><tr><th></th><th>variable</th><th>mean</th><th>min</th><th>median</th><th>max</th><th>nunique</th><th>nmissing</th><th>eltype</th></tr><tr><th></th><th>Symbol</th><th>Float64</th><th>Float64</th><th>Float64</th><th>Float64</th><th>Nothing</th><th>Nothing</th><th>DataType</th></tr></thead><tbody><p>2 rows × 8 columns</p><tr><th>1</th><td>x1</td><td>0.377394</td><td>0.00370103</td><td>0.305819</td><td>0.946264</td><td></td><td></td><td>Float64</td></tr><tr><th>2</th><td>x2</td><td>0.528215</td><td>0.0816975</td><td>0.568415</td><td>0.959738</td><td></td><td></td><td>Float64</td></tr></tbody></table>"
      ],
      "text/latex": [
       "\\begin{tabular}{r|cccccccc}\n",
       "\t& variable & mean & min & median & max & nunique & nmissing & eltype\\\\\n",
       "\t\\hline\n",
       "\t& Symbol & Float64 & Float64 & Float64 & Float64 & Nothing & Nothing & DataType\\\\\n",
       "\t\\hline\n",
       "\t1 & x1 & 0.377394 & 0.00370103 & 0.305819 & 0.946264 &  &  & Float64 \\\\\n",
       "\t2 & x2 & 0.528215 & 0.0816975 & 0.568415 & 0.959738 &  &  & Float64 \\\\\n",
       "\\end{tabular}\n"
      ],
      "text/plain": [
       "2×8 DataFrame. Omitted printing of 2 columns\n",
       "│ Row │ variable │ mean     │ min        │ median   │ max      │ nunique │\n",
       "│     │ \u001b[90mSymbol\u001b[39m   │ \u001b[90mFloat64\u001b[39m  │ \u001b[90mFloat64\u001b[39m    │ \u001b[90mFloat64\u001b[39m  │ \u001b[90mFloat64\u001b[39m  │ \u001b[90mNothing\u001b[39m │\n",
       "├─────┼──────────┼──────────┼────────────┼──────────┼──────────┼─────────┤\n",
       "│ 1   │ x1       │ 0.377394 │ 0.00370103 │ 0.305819 │ 0.946264 │         │\n",
       "│ 2   │ x2       │ 0.528215 │ 0.0816975  │ 0.568415 │ 0.959738 │         │"
      ]
     },
     "execution_count": 19,
     "metadata": {},
     "output_type": "execute_result"
    }
   ],
   "source": [
    "describe(X1, cols = 1:2)"
   ]
  },
  {
   "cell_type": "code",
   "execution_count": 20,
   "metadata": {},
   "outputs": [
    {
     "data": {
      "text/plain": [
       "3-element Array{DataType,1}:\n",
       " Float64\n",
       " Float64\n",
       " Float64"
      ]
     },
     "execution_count": 20,
     "metadata": {},
     "output_type": "execute_result"
    }
   ],
   "source": [
    "eltype.(eachcol(X1))"
   ]
  },
  {
   "cell_type": "code",
   "execution_count": 21,
   "metadata": {},
   "outputs": [
    {
     "data": {
      "text/html": [
       "<p>DataFrameRow (3 columns)</p><table class=\"data-frame\"><thead><tr><th></th><th>x1</th><th>x2</th><th>x3</th></tr><tr><th></th><th>Float64</th><th>Float64</th><th>Float64</th></tr></thead><tbody><tr><th>1</th><td>0.242525</td><td>0.0914409</td><td>0.570112</td></tr></tbody></table>"
      ],
      "text/latex": [
       "\\begin{tabular}{r|ccc}\n",
       "\t& x1 & x2 & x3\\\\\n",
       "\t\\hline\n",
       "\t& Float64 & Float64 & Float64\\\\\n",
       "\t\\hline\n",
       "\t1 & 0.242525 & 0.0914409 & 0.570112 \\\\\n",
       "\\end{tabular}\n"
      ],
      "text/plain": [
       "DataFrameRow\n",
       "│ Row │ x1       │ x2        │ x3       │\n",
       "│     │ \u001b[90mFloat64\u001b[39m  │ \u001b[90mFloat64\u001b[39m   │ \u001b[90mFloat64\u001b[39m  │\n",
       "├─────┼──────────┼───────────┼──────────┤\n",
       "│ 1   │ 0.242525 │ 0.0914409 │ 0.570112 │"
      ]
     },
     "execution_count": 21,
     "metadata": {},
     "output_type": "execute_result"
    }
   ],
   "source": [
    "first(X1)  # igual ao head() do python, exibe a primeira linha do dataframe"
   ]
  },
  {
   "cell_type": "code",
   "execution_count": 22,
   "metadata": {},
   "outputs": [
    {
     "data": {
      "text/html": [
       "<table class=\"data-frame\"><thead><tr><th></th><th>x1</th><th>x2</th><th>x3</th></tr><tr><th></th><th>Float64</th><th>Float64</th><th>Float64</th></tr></thead><tbody><p>5 rows × 3 columns</p><tr><th>1</th><td>0.242525</td><td>0.0914409</td><td>0.570112</td></tr><tr><th>2</th><td>0.501636</td><td>0.249798</td><td>0.422371</td></tr><tr><th>3</th><td>0.120085</td><td>0.399494</td><td>0.0246585</td></tr><tr><th>4</th><td>0.545258</td><td>0.567345</td><td>0.133669</td></tr><tr><th>5</th><td>0.113375</td><td>0.569485</td><td>0.801874</td></tr></tbody></table>"
      ],
      "text/latex": [
       "\\begin{tabular}{r|ccc}\n",
       "\t& x1 & x2 & x3\\\\\n",
       "\t\\hline\n",
       "\t& Float64 & Float64 & Float64\\\\\n",
       "\t\\hline\n",
       "\t1 & 0.242525 & 0.0914409 & 0.570112 \\\\\n",
       "\t2 & 0.501636 & 0.249798 & 0.422371 \\\\\n",
       "\t3 & 0.120085 & 0.399494 & 0.0246585 \\\\\n",
       "\t4 & 0.545258 & 0.567345 & 0.133669 \\\\\n",
       "\t5 & 0.113375 & 0.569485 & 0.801874 \\\\\n",
       "\\end{tabular}\n"
      ],
      "text/plain": [
       "5×3 DataFrame\n",
       "│ Row │ x1       │ x2        │ x3        │\n",
       "│     │ \u001b[90mFloat64\u001b[39m  │ \u001b[90mFloat64\u001b[39m   │ \u001b[90mFloat64\u001b[39m   │\n",
       "├─────┼──────────┼───────────┼───────────┤\n",
       "│ 1   │ 0.242525 │ 0.0914409 │ 0.570112  │\n",
       "│ 2   │ 0.501636 │ 0.249798  │ 0.422371  │\n",
       "│ 3   │ 0.120085 │ 0.399494  │ 0.0246585 │\n",
       "│ 4   │ 0.545258 │ 0.567345  │ 0.133669  │\n",
       "│ 5   │ 0.113375 │ 0.569485  │ 0.801874  │"
      ]
     },
     "execution_count": 22,
     "metadata": {},
     "output_type": "execute_result"
    }
   ],
   "source": [
    "first(X1, 5)"
   ]
  },
  {
   "cell_type": "code",
   "execution_count": 23,
   "metadata": {},
   "outputs": [
    {
     "data": {
      "text/html": [
       "<p>DataFrameRow (3 columns)</p><table class=\"data-frame\"><thead><tr><th></th><th>x1</th><th>x2</th><th>x3</th></tr><tr><th></th><th>Float64</th><th>Float64</th><th>Float64</th></tr></thead><tbody><tr><th>10</th><td>0.369114</td><td>0.942798</td><td>0.650666</td></tr></tbody></table>"
      ],
      "text/latex": [
       "\\begin{tabular}{r|ccc}\n",
       "\t& x1 & x2 & x3\\\\\n",
       "\t\\hline\n",
       "\t& Float64 & Float64 & Float64\\\\\n",
       "\t\\hline\n",
       "\t10 & 0.369114 & 0.942798 & 0.650666 \\\\\n",
       "\\end{tabular}\n"
      ],
      "text/plain": [
       "DataFrameRow\n",
       "│ Row │ x1       │ x2       │ x3       │\n",
       "│     │ \u001b[90mFloat64\u001b[39m  │ \u001b[90mFloat64\u001b[39m  │ \u001b[90mFloat64\u001b[39m  │\n",
       "├─────┼──────────┼──────────┼──────────┤\n",
       "│ 10  │ 0.369114 │ 0.942798 │ 0.650666 │"
      ]
     },
     "execution_count": 23,
     "metadata": {},
     "output_type": "execute_result"
    }
   ],
   "source": [
    "last(X1) # similar ao tail() exibe a última linha do dataframe"
   ]
  },
  {
   "cell_type": "code",
   "execution_count": 24,
   "metadata": {},
   "outputs": [
    {
     "data": {
      "text/html": [
       "<table class=\"data-frame\"><thead><tr><th></th><th>x1</th><th>x2</th><th>x3</th></tr><tr><th></th><th>Float64</th><th>Float64</th><th>Float64</th></tr></thead><tbody><p>10 rows × 3 columns</p><tr><th>1</th><td>0.242525</td><td>0.0914409</td><td>0.570112</td></tr><tr><th>2</th><td>0.501636</td><td>0.249798</td><td>0.422371</td></tr><tr><th>3</th><td>0.120085</td><td>0.399494</td><td>0.0246585</td></tr><tr><th>4</th><td>0.545258</td><td>0.567345</td><td>0.133669</td></tr><tr><th>5</th><td>0.113375</td><td>0.569485</td><td>0.801874</td></tr><tr><th>6</th><td>0.946264</td><td>0.959738</td><td>0.747452</td></tr><tr><th>7</th><td>0.018456</td><td>0.804218</td><td>0.989967</td></tr><tr><th>8</th><td>0.00370103</td><td>0.616141</td><td>0.435864</td></tr><tr><th>9</th><td>0.913528</td><td>0.0816975</td><td>0.119135</td></tr><tr><th>10</th><td>0.369114</td><td>0.942798</td><td>0.650666</td></tr></tbody></table>"
      ],
      "text/latex": [
       "\\begin{tabular}{r|ccc}\n",
       "\t& x1 & x2 & x3\\\\\n",
       "\t\\hline\n",
       "\t& Float64 & Float64 & Float64\\\\\n",
       "\t\\hline\n",
       "\t1 & 0.242525 & 0.0914409 & 0.570112 \\\\\n",
       "\t2 & 0.501636 & 0.249798 & 0.422371 \\\\\n",
       "\t3 & 0.120085 & 0.399494 & 0.0246585 \\\\\n",
       "\t4 & 0.545258 & 0.567345 & 0.133669 \\\\\n",
       "\t5 & 0.113375 & 0.569485 & 0.801874 \\\\\n",
       "\t6 & 0.946264 & 0.959738 & 0.747452 \\\\\n",
       "\t7 & 0.018456 & 0.804218 & 0.989967 \\\\\n",
       "\t8 & 0.00370103 & 0.616141 & 0.435864 \\\\\n",
       "\t9 & 0.913528 & 0.0816975 & 0.119135 \\\\\n",
       "\t10 & 0.369114 & 0.942798 & 0.650666 \\\\\n",
       "\\end{tabular}\n"
      ],
      "text/plain": [
       "10×3 DataFrame\n",
       "│ Row │ x1         │ x2        │ x3        │\n",
       "│     │ \u001b[90mFloat64\u001b[39m    │ \u001b[90mFloat64\u001b[39m   │ \u001b[90mFloat64\u001b[39m   │\n",
       "├─────┼────────────┼───────────┼───────────┤\n",
       "│ 1   │ 0.242525   │ 0.0914409 │ 0.570112  │\n",
       "│ 2   │ 0.501636   │ 0.249798  │ 0.422371  │\n",
       "│ 3   │ 0.120085   │ 0.399494  │ 0.0246585 │\n",
       "│ 4   │ 0.545258   │ 0.567345  │ 0.133669  │\n",
       "│ 5   │ 0.113375   │ 0.569485  │ 0.801874  │\n",
       "│ 6   │ 0.946264   │ 0.959738  │ 0.747452  │\n",
       "│ 7   │ 0.018456   │ 0.804218  │ 0.989967  │\n",
       "│ 8   │ 0.00370103 │ 0.616141  │ 0.435864  │\n",
       "│ 9   │ 0.913528   │ 0.0816975 │ 0.119135  │\n",
       "│ 10  │ 0.369114   │ 0.942798  │ 0.650666  │"
      ]
     },
     "execution_count": 24,
     "metadata": {},
     "output_type": "execute_result"
    }
   ],
   "source": [
    "X1"
   ]
  },
  {
   "cell_type": "code",
   "execution_count": 25,
   "metadata": {},
   "outputs": [
    {
     "data": {
      "text/html": [
       "<table class=\"data-frame\"><thead><tr><th></th><th>x1</th><th>x2</th></tr><tr><th></th><th>Float64</th><th>Float64</th></tr></thead><tbody><p>7 rows × 2 columns</p><tr><th>1</th><td>0.242525</td><td>0.0914409</td></tr><tr><th>2</th><td>0.501636</td><td>0.249798</td></tr><tr><th>3</th><td>0.120085</td><td>0.399494</td></tr><tr><th>4</th><td>0.545258</td><td>0.567345</td></tr><tr><th>5</th><td>0.113375</td><td>0.569485</td></tr><tr><th>6</th><td>0.946264</td><td>0.959738</td></tr><tr><th>7</th><td>0.018456</td><td>0.804218</td></tr></tbody></table>"
      ],
      "text/latex": [
       "\\begin{tabular}{r|cc}\n",
       "\t& x1 & x2\\\\\n",
       "\t\\hline\n",
       "\t& Float64 & Float64\\\\\n",
       "\t\\hline\n",
       "\t1 & 0.242525 & 0.0914409 \\\\\n",
       "\t2 & 0.501636 & 0.249798 \\\\\n",
       "\t3 & 0.120085 & 0.399494 \\\\\n",
       "\t4 & 0.545258 & 0.567345 \\\\\n",
       "\t5 & 0.113375 & 0.569485 \\\\\n",
       "\t6 & 0.946264 & 0.959738 \\\\\n",
       "\t7 & 0.018456 & 0.804218 \\\\\n",
       "\\end{tabular}\n"
      ],
      "text/plain": [
       "7×2 DataFrame\n",
       "│ Row │ x1       │ x2        │\n",
       "│     │ \u001b[90mFloat64\u001b[39m  │ \u001b[90mFloat64\u001b[39m   │\n",
       "├─────┼──────────┼───────────┤\n",
       "│ 1   │ 0.242525 │ 0.0914409 │\n",
       "│ 2   │ 0.501636 │ 0.249798  │\n",
       "│ 3   │ 0.120085 │ 0.399494  │\n",
       "│ 4   │ 0.545258 │ 0.567345  │\n",
       "│ 5   │ 0.113375 │ 0.569485  │\n",
       "│ 6   │ 0.946264 │ 0.959738  │\n",
       "│ 7   │ 0.018456 │ 0.804218  │"
      ]
     },
     "execution_count": 25,
     "metadata": {},
     "output_type": "execute_result"
    }
   ],
   "source": [
    "# X1[ Row, Column]\n",
    "\n",
    "X1[1:7, 1:2]  # pega as linhas selecionadas (1 a 7) e as colunas selecionadas (1 e 2)"
   ]
  },
  {
   "cell_type": "code",
   "execution_count": 26,
   "metadata": {},
   "outputs": [
    {
     "data": {
      "text/html": [
       "<table class=\"data-frame\"><thead><tr><th></th><th>x1</th><th>x2</th><th>x3</th></tr><tr><th></th><th>Float64</th><th>Float64</th><th>Float64</th></tr></thead><tbody><p>7 rows × 3 columns</p><tr><th>1</th><td>0.242525</td><td>0.0914409</td><td>0.570112</td></tr><tr><th>2</th><td>0.501636</td><td>0.249798</td><td>0.422371</td></tr><tr><th>3</th><td>0.120085</td><td>0.399494</td><td>0.0246585</td></tr><tr><th>4</th><td>0.545258</td><td>0.567345</td><td>0.133669</td></tr><tr><th>5</th><td>0.113375</td><td>0.569485</td><td>0.801874</td></tr><tr><th>6</th><td>0.946264</td><td>0.959738</td><td>0.747452</td></tr><tr><th>7</th><td>0.018456</td><td>0.804218</td><td>0.989967</td></tr></tbody></table>"
      ],
      "text/latex": [
       "\\begin{tabular}{r|ccc}\n",
       "\t& x1 & x2 & x3\\\\\n",
       "\t\\hline\n",
       "\t& Float64 & Float64 & Float64\\\\\n",
       "\t\\hline\n",
       "\t1 & 0.242525 & 0.0914409 & 0.570112 \\\\\n",
       "\t2 & 0.501636 & 0.249798 & 0.422371 \\\\\n",
       "\t3 & 0.120085 & 0.399494 & 0.0246585 \\\\\n",
       "\t4 & 0.545258 & 0.567345 & 0.133669 \\\\\n",
       "\t5 & 0.113375 & 0.569485 & 0.801874 \\\\\n",
       "\t6 & 0.946264 & 0.959738 & 0.747452 \\\\\n",
       "\t7 & 0.018456 & 0.804218 & 0.989967 \\\\\n",
       "\\end{tabular}\n"
      ],
      "text/plain": [
       "7×3 DataFrame\n",
       "│ Row │ x1       │ x2        │ x3        │\n",
       "│     │ \u001b[90mFloat64\u001b[39m  │ \u001b[90mFloat64\u001b[39m   │ \u001b[90mFloat64\u001b[39m   │\n",
       "├─────┼──────────┼───────────┼───────────┤\n",
       "│ 1   │ 0.242525 │ 0.0914409 │ 0.570112  │\n",
       "│ 2   │ 0.501636 │ 0.249798  │ 0.422371  │\n",
       "│ 3   │ 0.120085 │ 0.399494  │ 0.0246585 │\n",
       "│ 4   │ 0.545258 │ 0.567345  │ 0.133669  │\n",
       "│ 5   │ 0.113375 │ 0.569485  │ 0.801874  │\n",
       "│ 6   │ 0.946264 │ 0.959738  │ 0.747452  │\n",
       "│ 7   │ 0.018456 │ 0.804218  │ 0.989967  │"
      ]
     },
     "execution_count": 26,
     "metadata": {},
     "output_type": "execute_result"
    }
   ],
   "source": [
    "X1[1:7,:]  # pegas as linhas selecionadas (1 a 7) de todas as colunas"
   ]
  },
  {
   "cell_type": "code",
   "execution_count": 27,
   "metadata": {},
   "outputs": [
    {
     "data": {
      "text/html": [
       "<table class=\"data-frame\"><thead><tr><th></th><th>x1</th><th>x2</th></tr><tr><th></th><th>Float64</th><th>Float64</th></tr></thead><tbody><p>10 rows × 2 columns</p><tr><th>1</th><td>0.242525</td><td>0.0914409</td></tr><tr><th>2</th><td>0.501636</td><td>0.249798</td></tr><tr><th>3</th><td>0.120085</td><td>0.399494</td></tr><tr><th>4</th><td>0.545258</td><td>0.567345</td></tr><tr><th>5</th><td>0.113375</td><td>0.569485</td></tr><tr><th>6</th><td>0.946264</td><td>0.959738</td></tr><tr><th>7</th><td>0.018456</td><td>0.804218</td></tr><tr><th>8</th><td>0.00370103</td><td>0.616141</td></tr><tr><th>9</th><td>0.913528</td><td>0.0816975</td></tr><tr><th>10</th><td>0.369114</td><td>0.942798</td></tr></tbody></table>"
      ],
      "text/latex": [
       "\\begin{tabular}{r|cc}\n",
       "\t& x1 & x2\\\\\n",
       "\t\\hline\n",
       "\t& Float64 & Float64\\\\\n",
       "\t\\hline\n",
       "\t1 & 0.242525 & 0.0914409 \\\\\n",
       "\t2 & 0.501636 & 0.249798 \\\\\n",
       "\t3 & 0.120085 & 0.399494 \\\\\n",
       "\t4 & 0.545258 & 0.567345 \\\\\n",
       "\t5 & 0.113375 & 0.569485 \\\\\n",
       "\t6 & 0.946264 & 0.959738 \\\\\n",
       "\t7 & 0.018456 & 0.804218 \\\\\n",
       "\t8 & 0.00370103 & 0.616141 \\\\\n",
       "\t9 & 0.913528 & 0.0816975 \\\\\n",
       "\t10 & 0.369114 & 0.942798 \\\\\n",
       "\\end{tabular}\n"
      ],
      "text/plain": [
       "10×2 DataFrame\n",
       "│ Row │ x1         │ x2        │\n",
       "│     │ \u001b[90mFloat64\u001b[39m    │ \u001b[90mFloat64\u001b[39m   │\n",
       "├─────┼────────────┼───────────┤\n",
       "│ 1   │ 0.242525   │ 0.0914409 │\n",
       "│ 2   │ 0.501636   │ 0.249798  │\n",
       "│ 3   │ 0.120085   │ 0.399494  │\n",
       "│ 4   │ 0.545258   │ 0.567345  │\n",
       "│ 5   │ 0.113375   │ 0.569485  │\n",
       "│ 6   │ 0.946264   │ 0.959738  │\n",
       "│ 7   │ 0.018456   │ 0.804218  │\n",
       "│ 8   │ 0.00370103 │ 0.616141  │\n",
       "│ 9   │ 0.913528   │ 0.0816975 │\n",
       "│ 10  │ 0.369114   │ 0.942798  │"
      ]
     },
     "execution_count": 27,
     "metadata": {},
     "output_type": "execute_result"
    }
   ],
   "source": [
    "X1[:, 1:2] # pega todas linhas das colunas selecionadas (1 e 2)"
   ]
  },
  {
   "cell_type": "code",
   "execution_count": 28,
   "metadata": {},
   "outputs": [
    {
     "data": {
      "text/plain": [
       "10-element Array{Float64,1}:\n",
       " 0.570112009992457\n",
       " 0.42237086315716765\n",
       " 0.024658476968361098\n",
       " 0.13366853429144432\n",
       " 0.8018744451165767\n",
       " 0.7474519590657092\n",
       " 0.9899668287885108\n",
       " 0.4358635020013484\n",
       " 0.11913534261342629\n",
       " 0.6506661244390164"
      ]
     },
     "execution_count": 28,
     "metadata": {},
     "output_type": "execute_result"
    }
   ],
   "source": [
    "X1[:, 3]   # Pega todas linhas da terceira coluna"
   ]
  },
  {
   "cell_type": "code",
   "execution_count": 29,
   "metadata": {},
   "outputs": [
    {
     "data": {
      "text/plain": [
       "10-element Array{Float64,1}:\n",
       " 0.570112009992457\n",
       " 0.42237086315716765\n",
       " 0.024658476968361098\n",
       " 0.13366853429144432\n",
       " 0.8018744451165767\n",
       " 0.7474519590657092\n",
       " 0.9899668287885108\n",
       " 0.4358635020013484\n",
       " 0.11913534261342629\n",
       " 0.6506661244390164"
      ]
     },
     "execution_count": 29,
     "metadata": {},
     "output_type": "execute_result"
    }
   ],
   "source": [
    "X1[:, end]  # Pega todas linhas da última coluna"
   ]
  },
  {
   "cell_type": "code",
   "execution_count": 30,
   "metadata": {},
   "outputs": [
    {
     "data": {
      "text/html": [
       "<table class=\"data-frame\"><thead><tr><th></th><th>x1</th><th>x2</th><th>x3</th></tr><tr><th></th><th>Float64</th><th>Float64</th><th>Float64</th></tr></thead><tbody><p>10 rows × 3 columns</p><tr><th>1</th><td>0.242525</td><td>0.0914409</td><td>0.570112</td></tr><tr><th>2</th><td>0.501636</td><td>0.249798</td><td>0.422371</td></tr><tr><th>3</th><td>0.120085</td><td>0.399494</td><td>0.0246585</td></tr><tr><th>4</th><td>0.545258</td><td>0.567345</td><td>0.133669</td></tr><tr><th>5</th><td>0.113375</td><td>0.569485</td><td>0.801874</td></tr><tr><th>6</th><td>0.946264</td><td>0.959738</td><td>0.747452</td></tr><tr><th>7</th><td>0.018456</td><td>0.804218</td><td>0.989967</td></tr><tr><th>8</th><td>0.00370103</td><td>0.616141</td><td>0.435864</td></tr><tr><th>9</th><td>0.913528</td><td>0.0816975</td><td>0.119135</td></tr><tr><th>10</th><td>0.369114</td><td>0.942798</td><td>0.650666</td></tr></tbody></table>"
      ],
      "text/latex": [
       "\\begin{tabular}{r|ccc}\n",
       "\t& x1 & x2 & x3\\\\\n",
       "\t\\hline\n",
       "\t& Float64 & Float64 & Float64\\\\\n",
       "\t\\hline\n",
       "\t1 & 0.242525 & 0.0914409 & 0.570112 \\\\\n",
       "\t2 & 0.501636 & 0.249798 & 0.422371 \\\\\n",
       "\t3 & 0.120085 & 0.399494 & 0.0246585 \\\\\n",
       "\t4 & 0.545258 & 0.567345 & 0.133669 \\\\\n",
       "\t5 & 0.113375 & 0.569485 & 0.801874 \\\\\n",
       "\t6 & 0.946264 & 0.959738 & 0.747452 \\\\\n",
       "\t7 & 0.018456 & 0.804218 & 0.989967 \\\\\n",
       "\t8 & 0.00370103 & 0.616141 & 0.435864 \\\\\n",
       "\t9 & 0.913528 & 0.0816975 & 0.119135 \\\\\n",
       "\t10 & 0.369114 & 0.942798 & 0.650666 \\\\\n",
       "\\end{tabular}\n"
      ],
      "text/plain": [
       "10×3 DataFrame\n",
       "│ Row │ x1         │ x2        │ x3        │\n",
       "│     │ \u001b[90mFloat64\u001b[39m    │ \u001b[90mFloat64\u001b[39m   │ \u001b[90mFloat64\u001b[39m   │\n",
       "├─────┼────────────┼───────────┼───────────┤\n",
       "│ 1   │ 0.242525   │ 0.0914409 │ 0.570112  │\n",
       "│ 2   │ 0.501636   │ 0.249798  │ 0.422371  │\n",
       "│ 3   │ 0.120085   │ 0.399494  │ 0.0246585 │\n",
       "│ 4   │ 0.545258   │ 0.567345  │ 0.133669  │\n",
       "│ 5   │ 0.113375   │ 0.569485  │ 0.801874  │\n",
       "│ 6   │ 0.946264   │ 0.959738  │ 0.747452  │\n",
       "│ 7   │ 0.018456   │ 0.804218  │ 0.989967  │\n",
       "│ 8   │ 0.00370103 │ 0.616141  │ 0.435864  │\n",
       "│ 9   │ 0.913528   │ 0.0816975 │ 0.119135  │\n",
       "│ 10  │ 0.369114   │ 0.942798  │ 0.650666  │"
      ]
     },
     "execution_count": 30,
     "metadata": {},
     "output_type": "execute_result"
    }
   ],
   "source": [
    "X1[: , Between(:x1, :x3)]"
   ]
  },
  {
   "cell_type": "code",
   "execution_count": 31,
   "metadata": {},
   "outputs": [
    {
     "data": {
      "text/plain": [
       "10-element Array{Float64,1}:\n",
       " 0.29143876976792216\n",
       " 0.5099179713540842\n",
       " 0.37923495441866706\n",
       " 0.1787766218732294\n",
       " 0.2283462042993949\n",
       " 0.28342069698919614\n",
       " 0.08135213173476807\n",
       " 0.3727523015191625\n",
       " 0.6808985674428873\n",
       " 0.4045717005082836"
      ]
     },
     "execution_count": 31,
     "metadata": {},
     "output_type": "execute_result"
    }
   ],
   "source": [
    "X1.x4 = rand(10) # cria uma nova coluna no final da matriz"
   ]
  },
  {
   "cell_type": "code",
   "execution_count": 32,
   "metadata": {},
   "outputs": [
    {
     "data": {
      "text/html": [
       "<table class=\"data-frame\"><thead><tr><th></th><th>x1</th><th>x2</th><th>x3</th><th>x4</th></tr><tr><th></th><th>Float64</th><th>Float64</th><th>Float64</th><th>Float64</th></tr></thead><tbody><p>10 rows × 4 columns</p><tr><th>1</th><td>0.242525</td><td>0.0914409</td><td>0.570112</td><td>0.291439</td></tr><tr><th>2</th><td>0.501636</td><td>0.249798</td><td>0.422371</td><td>0.509918</td></tr><tr><th>3</th><td>0.120085</td><td>0.399494</td><td>0.0246585</td><td>0.379235</td></tr><tr><th>4</th><td>0.545258</td><td>0.567345</td><td>0.133669</td><td>0.178777</td></tr><tr><th>5</th><td>0.113375</td><td>0.569485</td><td>0.801874</td><td>0.228346</td></tr><tr><th>6</th><td>0.946264</td><td>0.959738</td><td>0.747452</td><td>0.283421</td></tr><tr><th>7</th><td>0.018456</td><td>0.804218</td><td>0.989967</td><td>0.0813521</td></tr><tr><th>8</th><td>0.00370103</td><td>0.616141</td><td>0.435864</td><td>0.372752</td></tr><tr><th>9</th><td>0.913528</td><td>0.0816975</td><td>0.119135</td><td>0.680899</td></tr><tr><th>10</th><td>0.369114</td><td>0.942798</td><td>0.650666</td><td>0.404572</td></tr></tbody></table>"
      ],
      "text/latex": [
       "\\begin{tabular}{r|cccc}\n",
       "\t& x1 & x2 & x3 & x4\\\\\n",
       "\t\\hline\n",
       "\t& Float64 & Float64 & Float64 & Float64\\\\\n",
       "\t\\hline\n",
       "\t1 & 0.242525 & 0.0914409 & 0.570112 & 0.291439 \\\\\n",
       "\t2 & 0.501636 & 0.249798 & 0.422371 & 0.509918 \\\\\n",
       "\t3 & 0.120085 & 0.399494 & 0.0246585 & 0.379235 \\\\\n",
       "\t4 & 0.545258 & 0.567345 & 0.133669 & 0.178777 \\\\\n",
       "\t5 & 0.113375 & 0.569485 & 0.801874 & 0.228346 \\\\\n",
       "\t6 & 0.946264 & 0.959738 & 0.747452 & 0.283421 \\\\\n",
       "\t7 & 0.018456 & 0.804218 & 0.989967 & 0.0813521 \\\\\n",
       "\t8 & 0.00370103 & 0.616141 & 0.435864 & 0.372752 \\\\\n",
       "\t9 & 0.913528 & 0.0816975 & 0.119135 & 0.680899 \\\\\n",
       "\t10 & 0.369114 & 0.942798 & 0.650666 & 0.404572 \\\\\n",
       "\\end{tabular}\n"
      ],
      "text/plain": [
       "10×4 DataFrame\n",
       "│ Row │ x1         │ x2        │ x3        │ x4        │\n",
       "│     │ \u001b[90mFloat64\u001b[39m    │ \u001b[90mFloat64\u001b[39m   │ \u001b[90mFloat64\u001b[39m   │ \u001b[90mFloat64\u001b[39m   │\n",
       "├─────┼────────────┼───────────┼───────────┼───────────┤\n",
       "│ 1   │ 0.242525   │ 0.0914409 │ 0.570112  │ 0.291439  │\n",
       "│ 2   │ 0.501636   │ 0.249798  │ 0.422371  │ 0.509918  │\n",
       "│ 3   │ 0.120085   │ 0.399494  │ 0.0246585 │ 0.379235  │\n",
       "│ 4   │ 0.545258   │ 0.567345  │ 0.133669  │ 0.178777  │\n",
       "│ 5   │ 0.113375   │ 0.569485  │ 0.801874  │ 0.228346  │\n",
       "│ 6   │ 0.946264   │ 0.959738  │ 0.747452  │ 0.283421  │\n",
       "│ 7   │ 0.018456   │ 0.804218  │ 0.989967  │ 0.0813521 │\n",
       "│ 8   │ 0.00370103 │ 0.616141  │ 0.435864  │ 0.372752  │\n",
       "│ 9   │ 0.913528   │ 0.0816975 │ 0.119135  │ 0.680899  │\n",
       "│ 10  │ 0.369114   │ 0.942798  │ 0.650666  │ 0.404572  │"
      ]
     },
     "execution_count": 32,
     "metadata": {},
     "output_type": "execute_result"
    }
   ],
   "source": [
    "X1"
   ]
  },
  {
   "cell_type": "markdown",
   "metadata": {},
   "source": [
    "# Reading and Writing Dataframe"
   ]
  },
  {
   "cell_type": "code",
   "execution_count": 36,
   "metadata": {},
   "outputs": [
    {
     "data": {
      "text/html": [
       "<table class=\"data-frame\"><thead><tr><th></th><th>A</th><th>B</th><th>C</th></tr><tr><th></th><th>Bool</th><th>Int64</th><th>Char</th></tr></thead><tbody><p>3 rows × 3 columns</p><tr><th>1</th><td>1</td><td>23</td><td>'a'</td></tr><tr><th>2</th><td>0</td><td>45</td><td>'c'</td></tr><tr><th>3</th><td>1</td><td>67</td><td>'b'</td></tr></tbody></table>"
      ],
      "text/latex": [
       "\\begin{tabular}{r|ccc}\n",
       "\t& A & B & C\\\\\n",
       "\t\\hline\n",
       "\t& Bool & Int64 & Char\\\\\n",
       "\t\\hline\n",
       "\t1 & 1 & 23 & 'a' \\\\\n",
       "\t2 & 0 & 45 & 'c' \\\\\n",
       "\t3 & 1 & 67 & 'b' \\\\\n",
       "\\end{tabular}\n"
      ],
      "text/plain": [
       "3×3 DataFrame\n",
       "│ Row │ A    │ B     │ C    │\n",
       "│     │ \u001b[90mBool\u001b[39m │ \u001b[90mInt64\u001b[39m │ \u001b[90mChar\u001b[39m │\n",
       "├─────┼──────┼───────┼──────┤\n",
       "│ 1   │ 1    │ 23    │ 'a'  │\n",
       "│ 2   │ 0    │ 45    │ 'c'  │\n",
       "│ 3   │ 1    │ 67    │ 'b'  │"
      ]
     },
     "execution_count": 36,
     "metadata": {},
     "output_type": "execute_result"
    }
   ],
   "source": [
    "df = DataFrame(A = [true, false, true], B=[23, 45, 67], C=['a', 'c', 'b'])"
   ]
  },
  {
   "cell_type": "code",
   "execution_count": 37,
   "metadata": {},
   "outputs": [
    {
     "name": "stderr",
     "output_type": "stream",
     "text": [
      "\u001b[32m\u001b[1m  Resolving\u001b[22m\u001b[39m package versions...\n",
      "\u001b[32m\u001b[1m  Installed\u001b[22m\u001b[39m WeakRefStrings ─ v0.6.2\n",
      "\u001b[32m\u001b[1m  Installed\u001b[22m\u001b[39m FilePathsBase ── v0.7.0\n",
      "\u001b[32m\u001b[1m  Installed\u001b[22m\u001b[39m CSV ──────────── v0.5.26\n",
      "\u001b[32m\u001b[1m   Updating\u001b[22m\u001b[39m `C:\\Users\\andre\\.juliapro\\JuliaPro_v1.4.0-1\\environments\\v1.4\\Project.toml`\n",
      " \u001b[90m [336ed68f]\u001b[39m\u001b[92m + CSV v0.5.26\u001b[39m\n",
      "\u001b[32m\u001b[1m   Updating\u001b[22m\u001b[39m `C:\\Users\\andre\\.juliapro\\JuliaPro_v1.4.0-1\\environments\\v1.4\\Manifest.toml`\n",
      " \u001b[90m [336ed68f]\u001b[39m\u001b[92m + CSV v0.5.26\u001b[39m\n",
      " \u001b[90m [48062228]\u001b[39m\u001b[92m + FilePathsBase v0.7.0\u001b[39m\n",
      " \u001b[90m [ea10d353]\u001b[39m\u001b[92m + WeakRefStrings v0.6.2\u001b[39m\n"
     ]
    }
   ],
   "source": [
    "Pkg.add(\"CSV\")"
   ]
  },
  {
   "cell_type": "code",
   "execution_count": 38,
   "metadata": {},
   "outputs": [
    {
     "name": "stderr",
     "output_type": "stream",
     "text": [
      "┌ Info: Precompiling CSV [336ed68f-0bac-5ca0-87d4-7b16caf5d00b]\n",
      "└ @ Base loading.jl:1260\n"
     ]
    }
   ],
   "source": [
    "using CSV"
   ]
  },
  {
   "cell_type": "code",
   "execution_count": 39,
   "metadata": {},
   "outputs": [
    {
     "data": {
      "text/plain": [
       "\"df.csv\""
      ]
     },
     "execution_count": 39,
     "metadata": {},
     "output_type": "execute_result"
    }
   ],
   "source": [
    "CSV.write(\"df.csv\", df)"
   ]
  },
  {
   "cell_type": "code",
   "execution_count": 40,
   "metadata": {},
   "outputs": [
    {
     "data": {
      "text/html": [
       "<table class=\"data-frame\"><thead><tr><th></th><th>A</th><th>B</th><th>C</th></tr><tr><th></th><th>Bool</th><th>Int64</th><th>String</th></tr></thead><tbody><p>3 rows × 3 columns</p><tr><th>1</th><td>1</td><td>23</td><td>a</td></tr><tr><th>2</th><td>0</td><td>45</td><td>c</td></tr><tr><th>3</th><td>1</td><td>67</td><td>b</td></tr></tbody></table>"
      ],
      "text/latex": [
       "\\begin{tabular}{r|ccc}\n",
       "\t& A & B & C\\\\\n",
       "\t\\hline\n",
       "\t& Bool & Int64 & String\\\\\n",
       "\t\\hline\n",
       "\t1 & 1 & 23 & a \\\\\n",
       "\t2 & 0 & 45 & c \\\\\n",
       "\t3 & 1 & 67 & b \\\\\n",
       "\\end{tabular}\n"
      ],
      "text/plain": [
       "3×3 DataFrame\n",
       "│ Row │ A    │ B     │ C      │\n",
       "│     │ \u001b[90mBool\u001b[39m │ \u001b[90mInt64\u001b[39m │ \u001b[90mString\u001b[39m │\n",
       "├─────┼──────┼───────┼────────┤\n",
       "│ 1   │ 1    │ 23    │ a      │\n",
       "│ 2   │ 0    │ 45    │ c      │\n",
       "│ 3   │ 1    │ 67    │ b      │"
      ]
     },
     "execution_count": 40,
     "metadata": {},
     "output_type": "execute_result"
    }
   ],
   "source": [
    "new_df = CSV.read(\"df.csv\")"
   ]
  },
  {
   "cell_type": "code",
   "execution_count": 41,
   "metadata": {},
   "outputs": [
    {
     "name": "stderr",
     "output_type": "stream",
     "text": [
      "\u001b[32m\u001b[1m  Resolving\u001b[22m\u001b[39m package versions...\n",
      "\u001b[32m\u001b[1m   Updating\u001b[22m\u001b[39m `C:\\Users\\andre\\.juliapro\\JuliaPro_v1.4.0-1\\environments\\v1.4\\Project.toml`\n",
      " \u001b[90m [9e88b42a]\u001b[39m\u001b[92m + Serialization \u001b[39m\n",
      "\u001b[32m\u001b[1m   Updating\u001b[22m\u001b[39m `C:\\Users\\andre\\.juliapro\\JuliaPro_v1.4.0-1\\environments\\v1.4\\Manifest.toml`\n",
      "\u001b[90m [no changes]\u001b[39m\n"
     ]
    }
   ],
   "source": [
    "Pkg.add(\"Serialization\")"
   ]
  },
  {
   "cell_type": "code",
   "execution_count": 42,
   "metadata": {},
   "outputs": [],
   "source": [
    "using Serialization"
   ]
  },
  {
   "cell_type": "code",
   "execution_count": 43,
   "metadata": {},
   "outputs": [],
   "source": [
    "open(\"df.bin\", \"w\") do io   #escreve o documento em formato binário\n",
    "    serialize(io, df)\n",
    "end"
   ]
  },
  {
   "cell_type": "code",
   "execution_count": 44,
   "metadata": {},
   "outputs": [
    {
     "data": {
      "text/html": [
       "<table class=\"data-frame\"><thead><tr><th></th><th>A</th><th>B</th><th>C</th></tr><tr><th></th><th>Bool</th><th>Int64</th><th>Char</th></tr></thead><tbody><p>3 rows × 3 columns</p><tr><th>1</th><td>1</td><td>23</td><td>'a'</td></tr><tr><th>2</th><td>0</td><td>45</td><td>'c'</td></tr><tr><th>3</th><td>1</td><td>67</td><td>'b'</td></tr></tbody></table>"
      ],
      "text/latex": [
       "\\begin{tabular}{r|ccc}\n",
       "\t& A & B & C\\\\\n",
       "\t\\hline\n",
       "\t& Bool & Int64 & Char\\\\\n",
       "\t\\hline\n",
       "\t1 & 1 & 23 & 'a' \\\\\n",
       "\t2 & 0 & 45 & 'c' \\\\\n",
       "\t3 & 1 & 67 & 'b' \\\\\n",
       "\\end{tabular}\n"
      ],
      "text/plain": [
       "3×3 DataFrame\n",
       "│ Row │ A    │ B     │ C    │\n",
       "│     │ \u001b[90mBool\u001b[39m │ \u001b[90mInt64\u001b[39m │ \u001b[90mChar\u001b[39m │\n",
       "├─────┼──────┼───────┼──────┤\n",
       "│ 1   │ 1    │ 23    │ 'a'  │\n",
       "│ 2   │ 0    │ 45    │ 'c'  │\n",
       "│ 3   │ 1    │ 67    │ 'b'  │"
      ]
     },
     "execution_count": 44,
     "metadata": {},
     "output_type": "execute_result"
    }
   ],
   "source": [
    "open(deserialize, \"df.bin\")"
   ]
  },
  {
   "cell_type": "code",
   "execution_count": 45,
   "metadata": {},
   "outputs": [
    {
     "name": "stderr",
     "output_type": "stream",
     "text": [
      "\u001b[32m\u001b[1m  Resolving\u001b[22m\u001b[39m package versions...\n",
      "\u001b[32m\u001b[1m  Installed\u001b[22m\u001b[39m JSONTables ── v1.0.0\n",
      "\u001b[32m\u001b[1m  Installed\u001b[22m\u001b[39m StructTypes ─ v1.1.0\n",
      "\u001b[32m\u001b[1m  Installed\u001b[22m\u001b[39m JSON3 ─────── v1.0.3\n",
      "\u001b[32m\u001b[1m   Updating\u001b[22m\u001b[39m `C:\\Users\\andre\\.juliapro\\JuliaPro_v1.4.0-1\\environments\\v1.4\\Project.toml`\n",
      " \u001b[90m [b9914132]\u001b[39m\u001b[92m + JSONTables v1.0.0\u001b[39m\n",
      "\u001b[32m\u001b[1m   Updating\u001b[22m\u001b[39m `C:\\Users\\andre\\.juliapro\\JuliaPro_v1.4.0-1\\environments\\v1.4\\Manifest.toml`\n",
      " \u001b[90m [0f8b85d8]\u001b[39m\u001b[92m + JSON3 v1.0.3\u001b[39m\n",
      " \u001b[90m [b9914132]\u001b[39m\u001b[92m + JSONTables v1.0.0\u001b[39m\n",
      " \u001b[90m [856f2bd8]\u001b[39m\u001b[92m + StructTypes v1.1.0\u001b[39m\n"
     ]
    }
   ],
   "source": [
    "Pkg.add(\"JSONTables\")"
   ]
  },
  {
   "cell_type": "code",
   "execution_count": 46,
   "metadata": {},
   "outputs": [
    {
     "name": "stderr",
     "output_type": "stream",
     "text": [
      "┌ Info: Precompiling JSONTables [b9914132-a727-11e9-1322-f18e41205b0b]\n",
      "└ @ Base loading.jl:1260\n"
     ]
    }
   ],
   "source": [
    "using JSONTables"
   ]
  },
  {
   "cell_type": "code",
   "execution_count": 47,
   "metadata": {},
   "outputs": [
    {
     "data": {
      "text/plain": [
       "80"
      ]
     },
     "execution_count": 47,
     "metadata": {},
     "output_type": "execute_result"
    }
   ],
   "source": [
    "open(io -> arraytable(io, df), \"df.json\", \"w\")"
   ]
  },
  {
   "cell_type": "code",
   "execution_count": 48,
   "metadata": {},
   "outputs": [
    {
     "data": {
      "text/html": [
       "<table class=\"data-frame\"><thead><tr><th></th><th>A</th><th>B</th><th>C</th></tr><tr><th></th><th>Bool</th><th>Int64</th><th>String</th></tr></thead><tbody><p>3 rows × 3 columns</p><tr><th>1</th><td>1</td><td>23</td><td>a</td></tr><tr><th>2</th><td>0</td><td>45</td><td>c</td></tr><tr><th>3</th><td>1</td><td>67</td><td>b</td></tr></tbody></table>"
      ],
      "text/latex": [
       "\\begin{tabular}{r|ccc}\n",
       "\t& A & B & C\\\\\n",
       "\t\\hline\n",
       "\t& Bool & Int64 & String\\\\\n",
       "\t\\hline\n",
       "\t1 & 1 & 23 & a \\\\\n",
       "\t2 & 0 & 45 & c \\\\\n",
       "\t3 & 1 & 67 & b \\\\\n",
       "\\end{tabular}\n"
      ],
      "text/plain": [
       "3×3 DataFrame\n",
       "│ Row │ A    │ B     │ C      │\n",
       "│     │ \u001b[90mBool\u001b[39m │ \u001b[90mInt64\u001b[39m │ \u001b[90mString\u001b[39m │\n",
       "├─────┼──────┼───────┼────────┤\n",
       "│ 1   │ 1    │ 23    │ a      │\n",
       "│ 2   │ 0    │ 45    │ c      │\n",
       "│ 3   │ 1    │ 67    │ b      │"
      ]
     },
     "execution_count": 48,
     "metadata": {},
     "output_type": "execute_result"
    }
   ],
   "source": [
    "open(jsontable, \"df.json\") |> DataFrame"
   ]
  },
  {
   "cell_type": "markdown",
   "metadata": {},
   "source": [
    "# Row and Column operation on DataFrames"
   ]
  },
  {
   "cell_type": "code",
   "execution_count": 49,
   "metadata": {},
   "outputs": [
    {
     "data": {
      "text/html": [
       "<table class=\"data-frame\"><thead><tr><th></th><th>x1</th><th>x2</th><th>x3</th><th>x4</th></tr><tr><th></th><th>Float64</th><th>Float64</th><th>Float64</th><th>Float64</th></tr></thead><tbody><p>5 rows × 4 columns</p><tr><th>1</th><td>0.254398</td><td>0.993371</td><td>0.293911</td><td>0.592624</td></tr><tr><th>2</th><td>0.799446</td><td>0.969714</td><td>0.551469</td><td>0.65251</td></tr><tr><th>3</th><td>0.754252</td><td>0.855293</td><td>0.921517</td><td>0.122821</td></tr><tr><th>4</th><td>0.380177</td><td>0.0450182</td><td>0.786656</td><td>0.629294</td></tr><tr><th>5</th><td>0.874766</td><td>0.69662</td><td>0.639636</td><td>0.0245948</td></tr></tbody></table>"
      ],
      "text/latex": [
       "\\begin{tabular}{r|cccc}\n",
       "\t& x1 & x2 & x3 & x4\\\\\n",
       "\t\\hline\n",
       "\t& Float64 & Float64 & Float64 & Float64\\\\\n",
       "\t\\hline\n",
       "\t1 & 0.254398 & 0.993371 & 0.293911 & 0.592624 \\\\\n",
       "\t2 & 0.799446 & 0.969714 & 0.551469 & 0.65251 \\\\\n",
       "\t3 & 0.754252 & 0.855293 & 0.921517 & 0.122821 \\\\\n",
       "\t4 & 0.380177 & 0.0450182 & 0.786656 & 0.629294 \\\\\n",
       "\t5 & 0.874766 & 0.69662 & 0.639636 & 0.0245948 \\\\\n",
       "\\end{tabular}\n"
      ],
      "text/plain": [
       "5×4 DataFrame\n",
       "│ Row │ x1       │ x2        │ x3       │ x4        │\n",
       "│     │ \u001b[90mFloat64\u001b[39m  │ \u001b[90mFloat64\u001b[39m   │ \u001b[90mFloat64\u001b[39m  │ \u001b[90mFloat64\u001b[39m   │\n",
       "├─────┼──────────┼───────────┼──────────┼───────────┤\n",
       "│ 1   │ 0.254398 │ 0.993371  │ 0.293911 │ 0.592624  │\n",
       "│ 2   │ 0.799446 │ 0.969714  │ 0.551469 │ 0.65251   │\n",
       "│ 3   │ 0.754252 │ 0.855293  │ 0.921517 │ 0.122821  │\n",
       "│ 4   │ 0.380177 │ 0.0450182 │ 0.786656 │ 0.629294  │\n",
       "│ 5   │ 0.874766 │ 0.69662   │ 0.639636 │ 0.0245948 │"
      ]
     },
     "execution_count": 49,
     "metadata": {},
     "output_type": "execute_result"
    }
   ],
   "source": [
    "M1 = DataFrame(rand(5,4))"
   ]
  },
  {
   "cell_type": "code",
   "execution_count": 51,
   "metadata": {},
   "outputs": [
    {
     "data": {
      "text/html": [
       "<table class=\"data-frame\"><thead><tr><th></th><th>c1</th><th>x2</th><th>x3</th><th>x4</th></tr><tr><th></th><th>Float64</th><th>Float64</th><th>Float64</th><th>Float64</th></tr></thead><tbody><p>5 rows × 4 columns</p><tr><th>1</th><td>0.254398</td><td>0.993371</td><td>0.293911</td><td>0.592624</td></tr><tr><th>2</th><td>0.799446</td><td>0.969714</td><td>0.551469</td><td>0.65251</td></tr><tr><th>3</th><td>0.754252</td><td>0.855293</td><td>0.921517</td><td>0.122821</td></tr><tr><th>4</th><td>0.380177</td><td>0.0450182</td><td>0.786656</td><td>0.629294</td></tr><tr><th>5</th><td>0.874766</td><td>0.69662</td><td>0.639636</td><td>0.0245948</td></tr></tbody></table>"
      ],
      "text/latex": [
       "\\begin{tabular}{r|cccc}\n",
       "\t& c1 & x2 & x3 & x4\\\\\n",
       "\t\\hline\n",
       "\t& Float64 & Float64 & Float64 & Float64\\\\\n",
       "\t\\hline\n",
       "\t1 & 0.254398 & 0.993371 & 0.293911 & 0.592624 \\\\\n",
       "\t2 & 0.799446 & 0.969714 & 0.551469 & 0.65251 \\\\\n",
       "\t3 & 0.754252 & 0.855293 & 0.921517 & 0.122821 \\\\\n",
       "\t4 & 0.380177 & 0.0450182 & 0.786656 & 0.629294 \\\\\n",
       "\t5 & 0.874766 & 0.69662 & 0.639636 & 0.0245948 \\\\\n",
       "\\end{tabular}\n"
      ],
      "text/plain": [
       "5×4 DataFrame\n",
       "│ Row │ c1       │ x2        │ x3       │ x4        │\n",
       "│     │ \u001b[90mFloat64\u001b[39m  │ \u001b[90mFloat64\u001b[39m   │ \u001b[90mFloat64\u001b[39m  │ \u001b[90mFloat64\u001b[39m   │\n",
       "├─────┼──────────┼───────────┼──────────┼───────────┤\n",
       "│ 1   │ 0.254398 │ 0.993371  │ 0.293911 │ 0.592624  │\n",
       "│ 2   │ 0.799446 │ 0.969714  │ 0.551469 │ 0.65251   │\n",
       "│ 3   │ 0.754252 │ 0.855293  │ 0.921517 │ 0.122821  │\n",
       "│ 4   │ 0.380177 │ 0.0450182 │ 0.786656 │ 0.629294  │\n",
       "│ 5   │ 0.874766 │ 0.69662   │ 0.639636 │ 0.0245948 │"
      ]
     },
     "execution_count": 51,
     "metadata": {},
     "output_type": "execute_result"
    }
   ],
   "source": [
    "rename(M1, :x1 => :c1) # Não modifica o nome da coluna no objeto original"
   ]
  },
  {
   "cell_type": "code",
   "execution_count": 52,
   "metadata": {},
   "outputs": [
    {
     "data": {
      "text/html": [
       "<table class=\"data-frame\"><thead><tr><th></th><th>x1</th><th>x2</th><th>x3</th><th>x4</th></tr><tr><th></th><th>Float64</th><th>Float64</th><th>Float64</th><th>Float64</th></tr></thead><tbody><p>5 rows × 4 columns</p><tr><th>1</th><td>0.254398</td><td>0.993371</td><td>0.293911</td><td>0.592624</td></tr><tr><th>2</th><td>0.799446</td><td>0.969714</td><td>0.551469</td><td>0.65251</td></tr><tr><th>3</th><td>0.754252</td><td>0.855293</td><td>0.921517</td><td>0.122821</td></tr><tr><th>4</th><td>0.380177</td><td>0.0450182</td><td>0.786656</td><td>0.629294</td></tr><tr><th>5</th><td>0.874766</td><td>0.69662</td><td>0.639636</td><td>0.0245948</td></tr></tbody></table>"
      ],
      "text/latex": [
       "\\begin{tabular}{r|cccc}\n",
       "\t& x1 & x2 & x3 & x4\\\\\n",
       "\t\\hline\n",
       "\t& Float64 & Float64 & Float64 & Float64\\\\\n",
       "\t\\hline\n",
       "\t1 & 0.254398 & 0.993371 & 0.293911 & 0.592624 \\\\\n",
       "\t2 & 0.799446 & 0.969714 & 0.551469 & 0.65251 \\\\\n",
       "\t3 & 0.754252 & 0.855293 & 0.921517 & 0.122821 \\\\\n",
       "\t4 & 0.380177 & 0.0450182 & 0.786656 & 0.629294 \\\\\n",
       "\t5 & 0.874766 & 0.69662 & 0.639636 & 0.0245948 \\\\\n",
       "\\end{tabular}\n"
      ],
      "text/plain": [
       "5×4 DataFrame\n",
       "│ Row │ x1       │ x2        │ x3       │ x4        │\n",
       "│     │ \u001b[90mFloat64\u001b[39m  │ \u001b[90mFloat64\u001b[39m   │ \u001b[90mFloat64\u001b[39m  │ \u001b[90mFloat64\u001b[39m   │\n",
       "├─────┼──────────┼───────────┼──────────┼───────────┤\n",
       "│ 1   │ 0.254398 │ 0.993371  │ 0.293911 │ 0.592624  │\n",
       "│ 2   │ 0.799446 │ 0.969714  │ 0.551469 │ 0.65251   │\n",
       "│ 3   │ 0.754252 │ 0.855293  │ 0.921517 │ 0.122821  │\n",
       "│ 4   │ 0.380177 │ 0.0450182 │ 0.786656 │ 0.629294  │\n",
       "│ 5   │ 0.874766 │ 0.69662   │ 0.639636 │ 0.0245948 │"
      ]
     },
     "execution_count": 52,
     "metadata": {},
     "output_type": "execute_result"
    }
   ],
   "source": [
    "M1"
   ]
  },
  {
   "cell_type": "code",
   "execution_count": 53,
   "metadata": {},
   "outputs": [
    {
     "data": {
      "text/html": [
       "<table class=\"data-frame\"><thead><tr><th></th><th>c1</th><th>x2</th><th>x3</th><th>x4</th></tr><tr><th></th><th>Float64</th><th>Float64</th><th>Float64</th><th>Float64</th></tr></thead><tbody><p>5 rows × 4 columns</p><tr><th>1</th><td>0.254398</td><td>0.993371</td><td>0.293911</td><td>0.592624</td></tr><tr><th>2</th><td>0.799446</td><td>0.969714</td><td>0.551469</td><td>0.65251</td></tr><tr><th>3</th><td>0.754252</td><td>0.855293</td><td>0.921517</td><td>0.122821</td></tr><tr><th>4</th><td>0.380177</td><td>0.0450182</td><td>0.786656</td><td>0.629294</td></tr><tr><th>5</th><td>0.874766</td><td>0.69662</td><td>0.639636</td><td>0.0245948</td></tr></tbody></table>"
      ],
      "text/latex": [
       "\\begin{tabular}{r|cccc}\n",
       "\t& c1 & x2 & x3 & x4\\\\\n",
       "\t\\hline\n",
       "\t& Float64 & Float64 & Float64 & Float64\\\\\n",
       "\t\\hline\n",
       "\t1 & 0.254398 & 0.993371 & 0.293911 & 0.592624 \\\\\n",
       "\t2 & 0.799446 & 0.969714 & 0.551469 & 0.65251 \\\\\n",
       "\t3 & 0.754252 & 0.855293 & 0.921517 & 0.122821 \\\\\n",
       "\t4 & 0.380177 & 0.0450182 & 0.786656 & 0.629294 \\\\\n",
       "\t5 & 0.874766 & 0.69662 & 0.639636 & 0.0245948 \\\\\n",
       "\\end{tabular}\n"
      ],
      "text/plain": [
       "5×4 DataFrame\n",
       "│ Row │ c1       │ x2        │ x3       │ x4        │\n",
       "│     │ \u001b[90mFloat64\u001b[39m  │ \u001b[90mFloat64\u001b[39m   │ \u001b[90mFloat64\u001b[39m  │ \u001b[90mFloat64\u001b[39m   │\n",
       "├─────┼──────────┼───────────┼──────────┼───────────┤\n",
       "│ 1   │ 0.254398 │ 0.993371  │ 0.293911 │ 0.592624  │\n",
       "│ 2   │ 0.799446 │ 0.969714  │ 0.551469 │ 0.65251   │\n",
       "│ 3   │ 0.754252 │ 0.855293  │ 0.921517 │ 0.122821  │\n",
       "│ 4   │ 0.380177 │ 0.0450182 │ 0.786656 │ 0.629294  │\n",
       "│ 5   │ 0.874766 │ 0.69662   │ 0.639636 │ 0.0245948 │"
      ]
     },
     "execution_count": 53,
     "metadata": {},
     "output_type": "execute_result"
    }
   ],
   "source": [
    "rename!(M1, :x1 => :c1)  # modifica o nome da coluna no objeto original"
   ]
  },
  {
   "cell_type": "code",
   "execution_count": 54,
   "metadata": {},
   "outputs": [
    {
     "data": {
      "text/html": [
       "<table class=\"data-frame\"><thead><tr><th></th><th>c1</th><th>x2</th><th>x3</th><th>x4</th></tr><tr><th></th><th>Float64</th><th>Float64</th><th>Float64</th><th>Float64</th></tr></thead><tbody><p>5 rows × 4 columns</p><tr><th>1</th><td>0.254398</td><td>0.993371</td><td>0.293911</td><td>0.592624</td></tr><tr><th>2</th><td>0.799446</td><td>0.969714</td><td>0.551469</td><td>0.65251</td></tr><tr><th>3</th><td>0.754252</td><td>0.855293</td><td>0.921517</td><td>0.122821</td></tr><tr><th>4</th><td>0.380177</td><td>0.0450182</td><td>0.786656</td><td>0.629294</td></tr><tr><th>5</th><td>0.874766</td><td>0.69662</td><td>0.639636</td><td>0.0245948</td></tr></tbody></table>"
      ],
      "text/latex": [
       "\\begin{tabular}{r|cccc}\n",
       "\t& c1 & x2 & x3 & x4\\\\\n",
       "\t\\hline\n",
       "\t& Float64 & Float64 & Float64 & Float64\\\\\n",
       "\t\\hline\n",
       "\t1 & 0.254398 & 0.993371 & 0.293911 & 0.592624 \\\\\n",
       "\t2 & 0.799446 & 0.969714 & 0.551469 & 0.65251 \\\\\n",
       "\t3 & 0.754252 & 0.855293 & 0.921517 & 0.122821 \\\\\n",
       "\t4 & 0.380177 & 0.0450182 & 0.786656 & 0.629294 \\\\\n",
       "\t5 & 0.874766 & 0.69662 & 0.639636 & 0.0245948 \\\\\n",
       "\\end{tabular}\n"
      ],
      "text/plain": [
       "5×4 DataFrame\n",
       "│ Row │ c1       │ x2        │ x3       │ x4        │\n",
       "│     │ \u001b[90mFloat64\u001b[39m  │ \u001b[90mFloat64\u001b[39m   │ \u001b[90mFloat64\u001b[39m  │ \u001b[90mFloat64\u001b[39m   │\n",
       "├─────┼──────────┼───────────┼──────────┼───────────┤\n",
       "│ 1   │ 0.254398 │ 0.993371  │ 0.293911 │ 0.592624  │\n",
       "│ 2   │ 0.799446 │ 0.969714  │ 0.551469 │ 0.65251   │\n",
       "│ 3   │ 0.754252 │ 0.855293  │ 0.921517 │ 0.122821  │\n",
       "│ 4   │ 0.380177 │ 0.0450182 │ 0.786656 │ 0.629294  │\n",
       "│ 5   │ 0.874766 │ 0.69662   │ 0.639636 │ 0.0245948 │"
      ]
     },
     "execution_count": 54,
     "metadata": {},
     "output_type": "execute_result"
    }
   ],
   "source": [
    "M1"
   ]
  },
  {
   "cell_type": "code",
   "execution_count": 55,
   "metadata": {},
   "outputs": [
    {
     "data": {
      "text/html": [
       "<table class=\"data-frame\"><thead><tr><th></th><th>c1</th><th>c2</th><th>c3</th><th>c4</th></tr><tr><th></th><th>Float64</th><th>Float64</th><th>Float64</th><th>Float64</th></tr></thead><tbody><p>5 rows × 4 columns</p><tr><th>1</th><td>0.254398</td><td>0.993371</td><td>0.293911</td><td>0.592624</td></tr><tr><th>2</th><td>0.799446</td><td>0.969714</td><td>0.551469</td><td>0.65251</td></tr><tr><th>3</th><td>0.754252</td><td>0.855293</td><td>0.921517</td><td>0.122821</td></tr><tr><th>4</th><td>0.380177</td><td>0.0450182</td><td>0.786656</td><td>0.629294</td></tr><tr><th>5</th><td>0.874766</td><td>0.69662</td><td>0.639636</td><td>0.0245948</td></tr></tbody></table>"
      ],
      "text/latex": [
       "\\begin{tabular}{r|cccc}\n",
       "\t& c1 & c2 & c3 & c4\\\\\n",
       "\t\\hline\n",
       "\t& Float64 & Float64 & Float64 & Float64\\\\\n",
       "\t\\hline\n",
       "\t1 & 0.254398 & 0.993371 & 0.293911 & 0.592624 \\\\\n",
       "\t2 & 0.799446 & 0.969714 & 0.551469 & 0.65251 \\\\\n",
       "\t3 & 0.754252 & 0.855293 & 0.921517 & 0.122821 \\\\\n",
       "\t4 & 0.380177 & 0.0450182 & 0.786656 & 0.629294 \\\\\n",
       "\t5 & 0.874766 & 0.69662 & 0.639636 & 0.0245948 \\\\\n",
       "\\end{tabular}\n"
      ],
      "text/plain": [
       "5×4 DataFrame\n",
       "│ Row │ c1       │ c2        │ c3       │ c4        │\n",
       "│     │ \u001b[90mFloat64\u001b[39m  │ \u001b[90mFloat64\u001b[39m   │ \u001b[90mFloat64\u001b[39m  │ \u001b[90mFloat64\u001b[39m   │\n",
       "├─────┼──────────┼───────────┼──────────┼───────────┤\n",
       "│ 1   │ 0.254398 │ 0.993371  │ 0.293911 │ 0.592624  │\n",
       "│ 2   │ 0.799446 │ 0.969714  │ 0.551469 │ 0.65251   │\n",
       "│ 3   │ 0.754252 │ 0.855293  │ 0.921517 │ 0.122821  │\n",
       "│ 4   │ 0.380177 │ 0.0450182 │ 0.786656 │ 0.629294  │\n",
       "│ 5   │ 0.874766 │ 0.69662   │ 0.639636 │ 0.0245948 │"
      ]
     },
     "execution_count": 55,
     "metadata": {},
     "output_type": "execute_result"
    }
   ],
   "source": [
    "rename(M1, [:c1, :c2, :c3, :c4])"
   ]
  },
  {
   "cell_type": "code",
   "execution_count": 57,
   "metadata": {},
   "outputs": [
    {
     "data": {
      "text/html": [
       "<table class=\"data-frame\"><thead><tr><th></th><th>a</th><th>b</th><th>c</th><th>d</th></tr><tr><th></th><th>Float64</th><th>Float64</th><th>Float64</th><th>Float64</th></tr></thead><tbody><p>5 rows × 4 columns</p><tr><th>1</th><td>0.254398</td><td>0.993371</td><td>0.293911</td><td>0.592624</td></tr><tr><th>2</th><td>0.799446</td><td>0.969714</td><td>0.551469</td><td>0.65251</td></tr><tr><th>3</th><td>0.754252</td><td>0.855293</td><td>0.921517</td><td>0.122821</td></tr><tr><th>4</th><td>0.380177</td><td>0.0450182</td><td>0.786656</td><td>0.629294</td></tr><tr><th>5</th><td>0.874766</td><td>0.69662</td><td>0.639636</td><td>0.0245948</td></tr></tbody></table>"
      ],
      "text/latex": [
       "\\begin{tabular}{r|cccc}\n",
       "\t& a & b & c & d\\\\\n",
       "\t\\hline\n",
       "\t& Float64 & Float64 & Float64 & Float64\\\\\n",
       "\t\\hline\n",
       "\t1 & 0.254398 & 0.993371 & 0.293911 & 0.592624 \\\\\n",
       "\t2 & 0.799446 & 0.969714 & 0.551469 & 0.65251 \\\\\n",
       "\t3 & 0.754252 & 0.855293 & 0.921517 & 0.122821 \\\\\n",
       "\t4 & 0.380177 & 0.0450182 & 0.786656 & 0.629294 \\\\\n",
       "\t5 & 0.874766 & 0.69662 & 0.639636 & 0.0245948 \\\\\n",
       "\\end{tabular}\n"
      ],
      "text/plain": [
       "5×4 DataFrame\n",
       "│ Row │ a        │ b         │ c        │ d         │\n",
       "│     │ \u001b[90mFloat64\u001b[39m  │ \u001b[90mFloat64\u001b[39m   │ \u001b[90mFloat64\u001b[39m  │ \u001b[90mFloat64\u001b[39m   │\n",
       "├─────┼──────────┼───────────┼──────────┼───────────┤\n",
       "│ 1   │ 0.254398 │ 0.993371  │ 0.293911 │ 0.592624  │\n",
       "│ 2   │ 0.799446 │ 0.969714  │ 0.551469 │ 0.65251   │\n",
       "│ 3   │ 0.754252 │ 0.855293  │ 0.921517 │ 0.122821  │\n",
       "│ 4   │ 0.380177 │ 0.0450182 │ 0.786656 │ 0.629294  │\n",
       "│ 5   │ 0.874766 │ 0.69662   │ 0.639636 │ 0.0245948 │"
      ]
     },
     "execution_count": 57,
     "metadata": {},
     "output_type": "execute_result"
    }
   ],
   "source": [
    "rename(M1, string.('a':'d'))"
   ]
  },
  {
   "cell_type": "code",
   "execution_count": 58,
   "metadata": {},
   "outputs": [
    {
     "data": {
      "text/html": [
       "<table class=\"data-frame\"><thead><tr><th></th><th>x1</th><th>x2</th><th>x3</th><th>x4</th></tr><tr><th></th><th>Float64</th><th>Float64</th><th>Float64</th><th>Float64</th></tr></thead><tbody><p>5 rows × 4 columns</p><tr><th>1</th><td>0.674673</td><td>0.407881</td><td>0.244646</td><td>0.198315</td></tr><tr><th>2</th><td>0.640508</td><td>0.46532</td><td>0.464707</td><td>0.985397</td></tr><tr><th>3</th><td>0.600699</td><td>0.753723</td><td>0.698989</td><td>0.364639</td></tr><tr><th>4</th><td>0.379404</td><td>0.059494</td><td>0.818088</td><td>0.842558</td></tr><tr><th>5</th><td>0.548767</td><td>0.664994</td><td>0.78381</td><td>0.717631</td></tr></tbody></table>"
      ],
      "text/latex": [
       "\\begin{tabular}{r|cccc}\n",
       "\t& x1 & x2 & x3 & x4\\\\\n",
       "\t\\hline\n",
       "\t& Float64 & Float64 & Float64 & Float64\\\\\n",
       "\t\\hline\n",
       "\t1 & 0.674673 & 0.407881 & 0.244646 & 0.198315 \\\\\n",
       "\t2 & 0.640508 & 0.46532 & 0.464707 & 0.985397 \\\\\n",
       "\t3 & 0.600699 & 0.753723 & 0.698989 & 0.364639 \\\\\n",
       "\t4 & 0.379404 & 0.059494 & 0.818088 & 0.842558 \\\\\n",
       "\t5 & 0.548767 & 0.664994 & 0.78381 & 0.717631 \\\\\n",
       "\\end{tabular}\n"
      ],
      "text/plain": [
       "5×4 DataFrame\n",
       "│ Row │ x1       │ x2       │ x3       │ x4       │\n",
       "│     │ \u001b[90mFloat64\u001b[39m  │ \u001b[90mFloat64\u001b[39m  │ \u001b[90mFloat64\u001b[39m  │ \u001b[90mFloat64\u001b[39m  │\n",
       "├─────┼──────────┼──────────┼──────────┼──────────┤\n",
       "│ 1   │ 0.674673 │ 0.407881 │ 0.244646 │ 0.198315 │\n",
       "│ 2   │ 0.640508 │ 0.46532  │ 0.464707 │ 0.985397 │\n",
       "│ 3   │ 0.600699 │ 0.753723 │ 0.698989 │ 0.364639 │\n",
       "│ 4   │ 0.379404 │ 0.059494 │ 0.818088 │ 0.842558 │\n",
       "│ 5   │ 0.548767 │ 0.664994 │ 0.78381  │ 0.717631 │"
      ]
     },
     "execution_count": 58,
     "metadata": {},
     "output_type": "execute_result"
    }
   ],
   "source": [
    "M2 = DataFrame(rand(5,4))"
   ]
  },
  {
   "cell_type": "code",
   "execution_count": 61,
   "metadata": {},
   "outputs": [
    {
     "data": {
      "text/html": [
       "<table class=\"data-frame\"><thead><tr><th></th><th>c1</th><th>x2</th><th>x3</th><th>x4</th><th>x1</th><th>x2_1</th><th>x3_1</th><th>x4_1</th></tr><tr><th></th><th>Float64</th><th>Float64</th><th>Float64</th><th>Float64</th><th>Float64</th><th>Float64</th><th>Float64</th><th>Float64</th></tr></thead><tbody><p>5 rows × 8 columns</p><tr><th>1</th><td>0.254398</td><td>0.993371</td><td>0.293911</td><td>0.592624</td><td>0.674673</td><td>0.407881</td><td>0.244646</td><td>0.198315</td></tr><tr><th>2</th><td>0.799446</td><td>0.969714</td><td>0.551469</td><td>0.65251</td><td>0.640508</td><td>0.46532</td><td>0.464707</td><td>0.985397</td></tr><tr><th>3</th><td>0.754252</td><td>0.855293</td><td>0.921517</td><td>0.122821</td><td>0.600699</td><td>0.753723</td><td>0.698989</td><td>0.364639</td></tr><tr><th>4</th><td>0.380177</td><td>0.0450182</td><td>0.786656</td><td>0.629294</td><td>0.379404</td><td>0.059494</td><td>0.818088</td><td>0.842558</td></tr><tr><th>5</th><td>0.874766</td><td>0.69662</td><td>0.639636</td><td>0.0245948</td><td>0.548767</td><td>0.664994</td><td>0.78381</td><td>0.717631</td></tr></tbody></table>"
      ],
      "text/latex": [
       "\\begin{tabular}{r|cccccccc}\n",
       "\t& c1 & x2 & x3 & x4 & x1 & x2\\_1 & x3\\_1 & x4\\_1\\\\\n",
       "\t\\hline\n",
       "\t& Float64 & Float64 & Float64 & Float64 & Float64 & Float64 & Float64 & Float64\\\\\n",
       "\t\\hline\n",
       "\t1 & 0.254398 & 0.993371 & 0.293911 & 0.592624 & 0.674673 & 0.407881 & 0.244646 & 0.198315 \\\\\n",
       "\t2 & 0.799446 & 0.969714 & 0.551469 & 0.65251 & 0.640508 & 0.46532 & 0.464707 & 0.985397 \\\\\n",
       "\t3 & 0.754252 & 0.855293 & 0.921517 & 0.122821 & 0.600699 & 0.753723 & 0.698989 & 0.364639 \\\\\n",
       "\t4 & 0.380177 & 0.0450182 & 0.786656 & 0.629294 & 0.379404 & 0.059494 & 0.818088 & 0.842558 \\\\\n",
       "\t5 & 0.874766 & 0.69662 & 0.639636 & 0.0245948 & 0.548767 & 0.664994 & 0.78381 & 0.717631 \\\\\n",
       "\\end{tabular}\n"
      ],
      "text/plain": [
       "5×8 DataFrame. Omitted printing of 2 columns\n",
       "│ Row │ c1       │ x2        │ x3       │ x4        │ x1       │ x2_1     │\n",
       "│     │ \u001b[90mFloat64\u001b[39m  │ \u001b[90mFloat64\u001b[39m   │ \u001b[90mFloat64\u001b[39m  │ \u001b[90mFloat64\u001b[39m   │ \u001b[90mFloat64\u001b[39m  │ \u001b[90mFloat64\u001b[39m  │\n",
       "├─────┼──────────┼───────────┼──────────┼───────────┼──────────┼──────────┤\n",
       "│ 1   │ 0.254398 │ 0.993371  │ 0.293911 │ 0.592624  │ 0.674673 │ 0.407881 │\n",
       "│ 2   │ 0.799446 │ 0.969714  │ 0.551469 │ 0.65251   │ 0.640508 │ 0.46532  │\n",
       "│ 3   │ 0.754252 │ 0.855293  │ 0.921517 │ 0.122821  │ 0.600699 │ 0.753723 │\n",
       "│ 4   │ 0.380177 │ 0.0450182 │ 0.786656 │ 0.629294  │ 0.379404 │ 0.059494 │\n",
       "│ 5   │ 0.874766 │ 0.69662   │ 0.639636 │ 0.0245948 │ 0.548767 │ 0.664994 │"
      ]
     },
     "execution_count": 61,
     "metadata": {},
     "output_type": "execute_result"
    }
   ],
   "source": [
    "hcat(M1,M2, makeunique=true)  # concate dois dataframes quando as colunas não são correspondentes"
   ]
  },
  {
   "cell_type": "code",
   "execution_count": 63,
   "metadata": {},
   "outputs": [
    {
     "data": {
      "text/html": [
       "<table class=\"data-frame\"><thead><tr><th></th><th>x1</th><th>x2</th><th>x3</th><th>x4</th></tr><tr><th></th><th>Float64</th><th>Float64</th><th>Float64</th><th>Float64</th></tr></thead><tbody><p>10 rows × 4 columns</p><tr><th>1</th><td>0.254398</td><td>0.993371</td><td>0.293911</td><td>0.592624</td></tr><tr><th>2</th><td>0.799446</td><td>0.969714</td><td>0.551469</td><td>0.65251</td></tr><tr><th>3</th><td>0.754252</td><td>0.855293</td><td>0.921517</td><td>0.122821</td></tr><tr><th>4</th><td>0.380177</td><td>0.0450182</td><td>0.786656</td><td>0.629294</td></tr><tr><th>5</th><td>0.874766</td><td>0.69662</td><td>0.639636</td><td>0.0245948</td></tr><tr><th>6</th><td>0.674673</td><td>0.407881</td><td>0.244646</td><td>0.198315</td></tr><tr><th>7</th><td>0.640508</td><td>0.46532</td><td>0.464707</td><td>0.985397</td></tr><tr><th>8</th><td>0.600699</td><td>0.753723</td><td>0.698989</td><td>0.364639</td></tr><tr><th>9</th><td>0.379404</td><td>0.059494</td><td>0.818088</td><td>0.842558</td></tr><tr><th>10</th><td>0.548767</td><td>0.664994</td><td>0.78381</td><td>0.717631</td></tr></tbody></table>"
      ],
      "text/latex": [
       "\\begin{tabular}{r|cccc}\n",
       "\t& x1 & x2 & x3 & x4\\\\\n",
       "\t\\hline\n",
       "\t& Float64 & Float64 & Float64 & Float64\\\\\n",
       "\t\\hline\n",
       "\t1 & 0.254398 & 0.993371 & 0.293911 & 0.592624 \\\\\n",
       "\t2 & 0.799446 & 0.969714 & 0.551469 & 0.65251 \\\\\n",
       "\t3 & 0.754252 & 0.855293 & 0.921517 & 0.122821 \\\\\n",
       "\t4 & 0.380177 & 0.0450182 & 0.786656 & 0.629294 \\\\\n",
       "\t5 & 0.874766 & 0.69662 & 0.639636 & 0.0245948 \\\\\n",
       "\t6 & 0.674673 & 0.407881 & 0.244646 & 0.198315 \\\\\n",
       "\t7 & 0.640508 & 0.46532 & 0.464707 & 0.985397 \\\\\n",
       "\t8 & 0.600699 & 0.753723 & 0.698989 & 0.364639 \\\\\n",
       "\t9 & 0.379404 & 0.059494 & 0.818088 & 0.842558 \\\\\n",
       "\t10 & 0.548767 & 0.664994 & 0.78381 & 0.717631 \\\\\n",
       "\\end{tabular}\n"
      ],
      "text/plain": [
       "10×4 DataFrame\n",
       "│ Row │ x1       │ x2        │ x3       │ x4        │\n",
       "│     │ \u001b[90mFloat64\u001b[39m  │ \u001b[90mFloat64\u001b[39m   │ \u001b[90mFloat64\u001b[39m  │ \u001b[90mFloat64\u001b[39m   │\n",
       "├─────┼──────────┼───────────┼──────────┼───────────┤\n",
       "│ 1   │ 0.254398 │ 0.993371  │ 0.293911 │ 0.592624  │\n",
       "│ 2   │ 0.799446 │ 0.969714  │ 0.551469 │ 0.65251   │\n",
       "│ 3   │ 0.754252 │ 0.855293  │ 0.921517 │ 0.122821  │\n",
       "│ 4   │ 0.380177 │ 0.0450182 │ 0.786656 │ 0.629294  │\n",
       "│ 5   │ 0.874766 │ 0.69662   │ 0.639636 │ 0.0245948 │\n",
       "│ 6   │ 0.674673 │ 0.407881  │ 0.244646 │ 0.198315  │\n",
       "│ 7   │ 0.640508 │ 0.46532   │ 0.464707 │ 0.985397  │\n",
       "│ 8   │ 0.600699 │ 0.753723  │ 0.698989 │ 0.364639  │\n",
       "│ 9   │ 0.379404 │ 0.059494  │ 0.818088 │ 0.842558  │\n",
       "│ 10  │ 0.548767 │ 0.664994  │ 0.78381  │ 0.717631  │"
      ]
     },
     "execution_count": 63,
     "metadata": {},
     "output_type": "execute_result"
    }
   ],
   "source": [
    "rename!(M1, :c1 => :x1)\n",
    "vcat(M1, M2)"
   ]
  },
  {
   "cell_type": "code",
   "execution_count": 64,
   "metadata": {},
   "outputs": [
    {
     "data": {
      "text/html": [
       "<table class=\"data-frame\"><thead><tr><th></th><th>x1</th><th>x2</th><th>x3</th><th>x4</th><th>A</th></tr><tr><th></th><th>Float64</th><th>Float64</th><th>Float64</th><th>Float64</th><th>Int64</th></tr></thead><tbody><p>5 rows × 5 columns</p><tr><th>1</th><td>0.254398</td><td>0.993371</td><td>0.293911</td><td>0.592624</td><td>1</td></tr><tr><th>2</th><td>0.799446</td><td>0.969714</td><td>0.551469</td><td>0.65251</td><td>2</td></tr><tr><th>3</th><td>0.754252</td><td>0.855293</td><td>0.921517</td><td>0.122821</td><td>3</td></tr><tr><th>4</th><td>0.380177</td><td>0.0450182</td><td>0.786656</td><td>0.629294</td><td>4</td></tr><tr><th>5</th><td>0.874766</td><td>0.69662</td><td>0.639636</td><td>0.0245948</td><td>5</td></tr></tbody></table>"
      ],
      "text/latex": [
       "\\begin{tabular}{r|ccccc}\n",
       "\t& x1 & x2 & x3 & x4 & A\\\\\n",
       "\t\\hline\n",
       "\t& Float64 & Float64 & Float64 & Float64 & Int64\\\\\n",
       "\t\\hline\n",
       "\t1 & 0.254398 & 0.993371 & 0.293911 & 0.592624 & 1 \\\\\n",
       "\t2 & 0.799446 & 0.969714 & 0.551469 & 0.65251 & 2 \\\\\n",
       "\t3 & 0.754252 & 0.855293 & 0.921517 & 0.122821 & 3 \\\\\n",
       "\t4 & 0.380177 & 0.0450182 & 0.786656 & 0.629294 & 4 \\\\\n",
       "\t5 & 0.874766 & 0.69662 & 0.639636 & 0.0245948 & 5 \\\\\n",
       "\\end{tabular}\n"
      ],
      "text/plain": [
       "5×5 DataFrame\n",
       "│ Row │ x1       │ x2        │ x3       │ x4        │ A     │\n",
       "│     │ \u001b[90mFloat64\u001b[39m  │ \u001b[90mFloat64\u001b[39m   │ \u001b[90mFloat64\u001b[39m  │ \u001b[90mFloat64\u001b[39m   │ \u001b[90mInt64\u001b[39m │\n",
       "├─────┼──────────┼───────────┼──────────┼───────────┼───────┤\n",
       "│ 1   │ 0.254398 │ 0.993371  │ 0.293911 │ 0.592624  │ 1     │\n",
       "│ 2   │ 0.799446 │ 0.969714  │ 0.551469 │ 0.65251   │ 2     │\n",
       "│ 3   │ 0.754252 │ 0.855293  │ 0.921517 │ 0.122821  │ 3     │\n",
       "│ 4   │ 0.380177 │ 0.0450182 │ 0.786656 │ 0.629294  │ 4     │\n",
       "│ 5   │ 0.874766 │ 0.69662   │ 0.639636 │ 0.0245948 │ 5     │"
      ]
     },
     "execution_count": 64,
     "metadata": {},
     "output_type": "execute_result"
    }
   ],
   "source": [
    "[M1 DataFrame(A=[1,2,3,4,5])]"
   ]
  },
  {
   "cell_type": "code",
   "execution_count": 65,
   "metadata": {},
   "outputs": [
    {
     "data": {
      "text/html": [
       "<table class=\"data-frame\"><thead><tr><th></th><th>x1</th><th>x2</th><th>newcol</th><th>x3</th><th>x4</th></tr><tr><th></th><th>Float64</th><th>Float64</th><th>Int64</th><th>Float64</th><th>Float64</th></tr></thead><tbody><p>5 rows × 5 columns</p><tr><th>1</th><td>0.254398</td><td>0.993371</td><td>1</td><td>0.293911</td><td>0.592624</td></tr><tr><th>2</th><td>0.799446</td><td>0.969714</td><td>2</td><td>0.551469</td><td>0.65251</td></tr><tr><th>3</th><td>0.754252</td><td>0.855293</td><td>3</td><td>0.921517</td><td>0.122821</td></tr><tr><th>4</th><td>0.380177</td><td>0.0450182</td><td>4</td><td>0.786656</td><td>0.629294</td></tr><tr><th>5</th><td>0.874766</td><td>0.69662</td><td>5</td><td>0.639636</td><td>0.0245948</td></tr></tbody></table>"
      ],
      "text/latex": [
       "\\begin{tabular}{r|ccccc}\n",
       "\t& x1 & x2 & newcol & x3 & x4\\\\\n",
       "\t\\hline\n",
       "\t& Float64 & Float64 & Int64 & Float64 & Float64\\\\\n",
       "\t\\hline\n",
       "\t1 & 0.254398 & 0.993371 & 1 & 0.293911 & 0.592624 \\\\\n",
       "\t2 & 0.799446 & 0.969714 & 2 & 0.551469 & 0.65251 \\\\\n",
       "\t3 & 0.754252 & 0.855293 & 3 & 0.921517 & 0.122821 \\\\\n",
       "\t4 & 0.380177 & 0.0450182 & 4 & 0.786656 & 0.629294 \\\\\n",
       "\t5 & 0.874766 & 0.69662 & 5 & 0.639636 & 0.0245948 \\\\\n",
       "\\end{tabular}\n"
      ],
      "text/plain": [
       "5×5 DataFrame\n",
       "│ Row │ x1       │ x2        │ newcol │ x3       │ x4        │\n",
       "│     │ \u001b[90mFloat64\u001b[39m  │ \u001b[90mFloat64\u001b[39m   │ \u001b[90mInt64\u001b[39m  │ \u001b[90mFloat64\u001b[39m  │ \u001b[90mFloat64\u001b[39m   │\n",
       "├─────┼──────────┼───────────┼────────┼──────────┼───────────┤\n",
       "│ 1   │ 0.254398 │ 0.993371  │ 1      │ 0.293911 │ 0.592624  │\n",
       "│ 2   │ 0.799446 │ 0.969714  │ 2      │ 0.551469 │ 0.65251   │\n",
       "│ 3   │ 0.754252 │ 0.855293  │ 3      │ 0.921517 │ 0.122821  │\n",
       "│ 4   │ 0.380177 │ 0.0450182 │ 4      │ 0.786656 │ 0.629294  │\n",
       "│ 5   │ 0.874766 │ 0.69662   │ 5      │ 0.639636 │ 0.0245948 │"
      ]
     },
     "execution_count": 65,
     "metadata": {},
     "output_type": "execute_result"
    }
   ],
   "source": [
    "insertcols!(M1, 3, newcol=[1,2,3,4,5])"
   ]
  },
  {
   "cell_type": "code",
   "execution_count": 66,
   "metadata": {},
   "outputs": [
    {
     "data": {
      "text/html": [
       "<table class=\"data-frame\"><thead><tr><th></th><th>x2</th><th>x3</th></tr><tr><th></th><th>Float64</th><th>Float64</th></tr></thead><tbody><p>5 rows × 2 columns</p><tr><th>1</th><td>0.993371</td><td>0.293911</td></tr><tr><th>2</th><td>0.969714</td><td>0.551469</td></tr><tr><th>3</th><td>0.855293</td><td>0.921517</td></tr><tr><th>4</th><td>0.0450182</td><td>0.786656</td></tr><tr><th>5</th><td>0.69662</td><td>0.639636</td></tr></tbody></table>"
      ],
      "text/latex": [
       "\\begin{tabular}{r|cc}\n",
       "\t& x2 & x3\\\\\n",
       "\t\\hline\n",
       "\t& Float64 & Float64\\\\\n",
       "\t\\hline\n",
       "\t1 & 0.993371 & 0.293911 \\\\\n",
       "\t2 & 0.969714 & 0.551469 \\\\\n",
       "\t3 & 0.855293 & 0.921517 \\\\\n",
       "\t4 & 0.0450182 & 0.786656 \\\\\n",
       "\t5 & 0.69662 & 0.639636 \\\\\n",
       "\\end{tabular}\n"
      ],
      "text/plain": [
       "5×2 DataFrame\n",
       "│ Row │ x2        │ x3       │\n",
       "│     │ \u001b[90mFloat64\u001b[39m   │ \u001b[90mFloat64\u001b[39m  │\n",
       "├─────┼───────────┼──────────┤\n",
       "│ 1   │ 0.993371  │ 0.293911 │\n",
       "│ 2   │ 0.969714  │ 0.551469 │\n",
       "│ 3   │ 0.855293  │ 0.921517 │\n",
       "│ 4   │ 0.0450182 │ 0.786656 │\n",
       "│ 5   │ 0.69662   │ 0.639636 │"
      ]
     },
     "execution_count": 66,
     "metadata": {},
     "output_type": "execute_result"
    }
   ],
   "source": [
    "M1[:, [:x2, :x3]]"
   ]
  },
  {
   "cell_type": "code",
   "execution_count": 67,
   "metadata": {},
   "outputs": [
    {
     "data": {
      "text/html": [
       "<table class=\"data-frame\"><thead><tr><th></th><th>x1</th><th>x2</th><th>newcol</th><th>x3</th><th>x4</th></tr><tr><th></th><th>Float64</th><th>Float64</th><th>Int64</th><th>Float64</th><th>Float64</th></tr></thead><tbody><p>5 rows × 5 columns</p><tr><th>1</th><td>0.254398</td><td>0.993371</td><td>1</td><td>0.293911</td><td>0.592624</td></tr><tr><th>2</th><td>0.799446</td><td>0.969714</td><td>2</td><td>0.551469</td><td>0.65251</td></tr><tr><th>3</th><td>0.754252</td><td>0.855293</td><td>3</td><td>0.921517</td><td>0.122821</td></tr><tr><th>4</th><td>0.380177</td><td>0.0450182</td><td>4</td><td>0.786656</td><td>0.629294</td></tr><tr><th>5</th><td>0.874766</td><td>0.69662</td><td>5</td><td>0.639636</td><td>0.0245948</td></tr></tbody></table>"
      ],
      "text/latex": [
       "\\begin{tabular}{r|ccccc}\n",
       "\t& x1 & x2 & newcol & x3 & x4\\\\\n",
       "\t\\hline\n",
       "\t& Float64 & Float64 & Int64 & Float64 & Float64\\\\\n",
       "\t\\hline\n",
       "\t1 & 0.254398 & 0.993371 & 1 & 0.293911 & 0.592624 \\\\\n",
       "\t2 & 0.799446 & 0.969714 & 2 & 0.551469 & 0.65251 \\\\\n",
       "\t3 & 0.754252 & 0.855293 & 3 & 0.921517 & 0.122821 \\\\\n",
       "\t4 & 0.380177 & 0.0450182 & 4 & 0.786656 & 0.629294 \\\\\n",
       "\t5 & 0.874766 & 0.69662 & 5 & 0.639636 & 0.0245948 \\\\\n",
       "\\end{tabular}\n"
      ],
      "text/plain": [
       "5×5 DataFrame\n",
       "│ Row │ x1       │ x2        │ newcol │ x3       │ x4        │\n",
       "│     │ \u001b[90mFloat64\u001b[39m  │ \u001b[90mFloat64\u001b[39m   │ \u001b[90mInt64\u001b[39m  │ \u001b[90mFloat64\u001b[39m  │ \u001b[90mFloat64\u001b[39m   │\n",
       "├─────┼──────────┼───────────┼────────┼──────────┼───────────┤\n",
       "│ 1   │ 0.254398 │ 0.993371  │ 1      │ 0.293911 │ 0.592624  │\n",
       "│ 2   │ 0.799446 │ 0.969714  │ 2      │ 0.551469 │ 0.65251   │\n",
       "│ 3   │ 0.754252 │ 0.855293  │ 3      │ 0.921517 │ 0.122821  │\n",
       "│ 4   │ 0.380177 │ 0.0450182 │ 4      │ 0.786656 │ 0.629294  │\n",
       "│ 5   │ 0.874766 │ 0.69662   │ 5      │ 0.639636 │ 0.0245948 │"
      ]
     },
     "execution_count": 67,
     "metadata": {},
     "output_type": "execute_result"
    }
   ],
   "source": [
    "cp_M1 = copy(M1)"
   ]
  },
  {
   "cell_type": "code",
   "execution_count": 68,
   "metadata": {},
   "outputs": [
    {
     "data": {
      "text/plain": [
       "true"
      ]
     },
     "execution_count": 68,
     "metadata": {},
     "output_type": "execute_result"
    }
   ],
   "source": [
    "M1 == cp_M1"
   ]
  },
  {
   "cell_type": "code",
   "execution_count": 69,
   "metadata": {},
   "outputs": [
    {
     "data": {
      "text/html": [
       "<table class=\"data-frame\"><thead><tr><th></th><th>x1</th><th>x2</th><th>newcol</th><th>x3</th><th>x4</th></tr><tr><th></th><th>Float64</th><th>Float64</th><th>Int64</th><th>Float64</th><th>Float64</th></tr></thead><tbody><p>5 rows × 5 columns</p><tr><th>1</th><td>0.254398</td><td>0.993371</td><td>1</td><td>0.293911</td><td>0.592624</td></tr><tr><th>2</th><td>0.380177</td><td>0.0450182</td><td>4</td><td>0.786656</td><td>0.629294</td></tr><tr><th>3</th><td>0.754252</td><td>0.855293</td><td>3</td><td>0.921517</td><td>0.122821</td></tr><tr><th>4</th><td>0.799446</td><td>0.969714</td><td>2</td><td>0.551469</td><td>0.65251</td></tr><tr><th>5</th><td>0.874766</td><td>0.69662</td><td>5</td><td>0.639636</td><td>0.0245948</td></tr></tbody></table>"
      ],
      "text/latex": [
       "\\begin{tabular}{r|ccccc}\n",
       "\t& x1 & x2 & newcol & x3 & x4\\\\\n",
       "\t\\hline\n",
       "\t& Float64 & Float64 & Int64 & Float64 & Float64\\\\\n",
       "\t\\hline\n",
       "\t1 & 0.254398 & 0.993371 & 1 & 0.293911 & 0.592624 \\\\\n",
       "\t2 & 0.380177 & 0.0450182 & 4 & 0.786656 & 0.629294 \\\\\n",
       "\t3 & 0.754252 & 0.855293 & 3 & 0.921517 & 0.122821 \\\\\n",
       "\t4 & 0.799446 & 0.969714 & 2 & 0.551469 & 0.65251 \\\\\n",
       "\t5 & 0.874766 & 0.69662 & 5 & 0.639636 & 0.0245948 \\\\\n",
       "\\end{tabular}\n"
      ],
      "text/plain": [
       "5×5 DataFrame\n",
       "│ Row │ x1       │ x2        │ newcol │ x3       │ x4        │\n",
       "│     │ \u001b[90mFloat64\u001b[39m  │ \u001b[90mFloat64\u001b[39m   │ \u001b[90mInt64\u001b[39m  │ \u001b[90mFloat64\u001b[39m  │ \u001b[90mFloat64\u001b[39m   │\n",
       "├─────┼──────────┼───────────┼────────┼──────────┼───────────┤\n",
       "│ 1   │ 0.254398 │ 0.993371  │ 1      │ 0.293911 │ 0.592624  │\n",
       "│ 2   │ 0.380177 │ 0.0450182 │ 4      │ 0.786656 │ 0.629294  │\n",
       "│ 3   │ 0.754252 │ 0.855293  │ 3      │ 0.921517 │ 0.122821  │\n",
       "│ 4   │ 0.799446 │ 0.969714  │ 2      │ 0.551469 │ 0.65251   │\n",
       "│ 5   │ 0.874766 │ 0.69662   │ 5      │ 0.639636 │ 0.0245948 │"
      ]
     },
     "execution_count": 69,
     "metadata": {},
     "output_type": "execute_result"
    }
   ],
   "source": [
    "sort(M1, :x1)"
   ]
  },
  {
   "cell_type": "code",
   "execution_count": 70,
   "metadata": {},
   "outputs": [
    {
     "data": {
      "text/html": [
       "<table class=\"data-frame\"><thead><tr><th></th><th>x1</th><th>x2</th><th>newcol</th><th>x3</th><th>x4</th></tr><tr><th></th><th>Float64</th><th>Float64</th><th>Int64</th><th>Float64</th><th>Float64</th></tr></thead><tbody><p>4 rows × 5 columns</p><tr><th>1</th><td>0.254398</td><td>0.993371</td><td>1</td><td>0.293911</td><td>0.592624</td></tr><tr><th>2</th><td>0.799446</td><td>0.969714</td><td>2</td><td>0.551469</td><td>0.65251</td></tr><tr><th>3</th><td>0.754252</td><td>0.855293</td><td>3</td><td>0.921517</td><td>0.122821</td></tr><tr><th>4</th><td>0.874766</td><td>0.69662</td><td>5</td><td>0.639636</td><td>0.0245948</td></tr></tbody></table>"
      ],
      "text/latex": [
       "\\begin{tabular}{r|ccccc}\n",
       "\t& x1 & x2 & newcol & x3 & x4\\\\\n",
       "\t\\hline\n",
       "\t& Float64 & Float64 & Int64 & Float64 & Float64\\\\\n",
       "\t\\hline\n",
       "\t1 & 0.254398 & 0.993371 & 1 & 0.293911 & 0.592624 \\\\\n",
       "\t2 & 0.799446 & 0.969714 & 2 & 0.551469 & 0.65251 \\\\\n",
       "\t3 & 0.754252 & 0.855293 & 3 & 0.921517 & 0.122821 \\\\\n",
       "\t4 & 0.874766 & 0.69662 & 5 & 0.639636 & 0.0245948 \\\\\n",
       "\\end{tabular}\n"
      ],
      "text/plain": [
       "4×5 DataFrame\n",
       "│ Row │ x1       │ x2       │ newcol │ x3       │ x4        │\n",
       "│     │ \u001b[90mFloat64\u001b[39m  │ \u001b[90mFloat64\u001b[39m  │ \u001b[90mInt64\u001b[39m  │ \u001b[90mFloat64\u001b[39m  │ \u001b[90mFloat64\u001b[39m   │\n",
       "├─────┼──────────┼──────────┼────────┼──────────┼───────────┤\n",
       "│ 1   │ 0.254398 │ 0.993371 │ 1      │ 0.293911 │ 0.592624  │\n",
       "│ 2   │ 0.799446 │ 0.969714 │ 2      │ 0.551469 │ 0.65251   │\n",
       "│ 3   │ 0.754252 │ 0.855293 │ 3      │ 0.921517 │ 0.122821  │\n",
       "│ 4   │ 0.874766 │ 0.69662  │ 5      │ 0.639636 │ 0.0245948 │"
      ]
     },
     "execution_count": 70,
     "metadata": {},
     "output_type": "execute_result"
    }
   ],
   "source": [
    "deleterows!(M1, 4)"
   ]
  },
  {
   "cell_type": "code",
   "execution_count": 71,
   "metadata": {},
   "outputs": [
    {
     "data": {
      "text/html": [
       "<table class=\"data-frame\"><thead><tr><th></th><th>x1</th><th>x2</th><th>newcol</th><th>x3</th><th>x4</th></tr><tr><th></th><th>Float64</th><th>Float64</th><th>Int64</th><th>Float64</th><th>Float64</th></tr></thead><tbody><p>3 rows × 5 columns</p><tr><th>1</th><td>0.799446</td><td>0.969714</td><td>2</td><td>0.551469</td><td>0.65251</td></tr><tr><th>2</th><td>0.754252</td><td>0.855293</td><td>3</td><td>0.921517</td><td>0.122821</td></tr><tr><th>3</th><td>0.874766</td><td>0.69662</td><td>5</td><td>0.639636</td><td>0.0245948</td></tr></tbody></table>"
      ],
      "text/latex": [
       "\\begin{tabular}{r|ccccc}\n",
       "\t& x1 & x2 & newcol & x3 & x4\\\\\n",
       "\t\\hline\n",
       "\t& Float64 & Float64 & Int64 & Float64 & Float64\\\\\n",
       "\t\\hline\n",
       "\t1 & 0.799446 & 0.969714 & 2 & 0.551469 & 0.65251 \\\\\n",
       "\t2 & 0.754252 & 0.855293 & 3 & 0.921517 & 0.122821 \\\\\n",
       "\t3 & 0.874766 & 0.69662 & 5 & 0.639636 & 0.0245948 \\\\\n",
       "\\end{tabular}\n"
      ],
      "text/plain": [
       "3×5 DataFrame\n",
       "│ Row │ x1       │ x2       │ newcol │ x3       │ x4        │\n",
       "│     │ \u001b[90mFloat64\u001b[39m  │ \u001b[90mFloat64\u001b[39m  │ \u001b[90mInt64\u001b[39m  │ \u001b[90mFloat64\u001b[39m  │ \u001b[90mFloat64\u001b[39m   │\n",
       "├─────┼──────────┼──────────┼────────┼──────────┼───────────┤\n",
       "│ 1   │ 0.799446 │ 0.969714 │ 2      │ 0.551469 │ 0.65251   │\n",
       "│ 2   │ 0.754252 │ 0.855293 │ 3      │ 0.921517 │ 0.122821  │\n",
       "│ 3   │ 0.874766 │ 0.69662  │ 5      │ 0.639636 │ 0.0245948 │"
      ]
     },
     "execution_count": 71,
     "metadata": {},
     "output_type": "execute_result"
    }
   ],
   "source": [
    "filter(r ->r.x1 > 0.6, M1)"
   ]
  }
 ],
 "metadata": {
  "kernelspec": {
   "display_name": "Julia 1.4.0",
   "language": "julia",
   "name": "julia-1.4"
  },
  "language_info": {
   "file_extension": ".jl",
   "mimetype": "application/julia",
   "name": "julia",
   "version": "1.4.0"
  }
 },
 "nbformat": 4,
 "nbformat_minor": 4
}
