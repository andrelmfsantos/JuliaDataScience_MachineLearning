{
 "cells": [
  {
   "cell_type": "markdown",
   "metadata": {},
   "source": [
    "# Control Flow"
   ]
  },
  {
   "cell_type": "markdown",
   "metadata": {},
   "source": [
    "## Decision making"
   ]
  },
  {
   "cell_type": "code",
   "execution_count": 1,
   "metadata": {},
   "outputs": [],
   "source": [
    "N = 34;"
   ]
  },
  {
   "cell_type": "code",
   "execution_count": 4,
   "metadata": {},
   "outputs": [
    {
     "name": "stdout",
     "output_type": "stream",
     "text": [
      "N is +ve(positive)\n"
     ]
    }
   ],
   "source": [
    "if N > 0\n",
    "    println(\"N is +ve(positive)\")\n",
    "else\n",
    "    println(\"N is -ve(negative)\")\n",
    "end"
   ]
  },
  {
   "cell_type": "code",
   "execution_count": 5,
   "metadata": {},
   "outputs": [
    {
     "name": "stdout",
     "output_type": "stream",
     "text": [
      "Number is greater than 25\n"
     ]
    }
   ],
   "source": [
    "if N > 25\n",
    "    println(\"Number is greater than 25\")\n",
    "elseif (N > 0 && N < 25)\n",
    "    println(\"Number is between 0 and 25\")\n",
    "else\n",
    "    println(\"Number is -ve\")\n",
    "end"
   ]
  },
  {
   "cell_type": "markdown",
   "metadata": {},
   "source": [
    "## Looping in Julia"
   ]
  },
  {
   "cell_type": "code",
   "execution_count": 7,
   "metadata": {},
   "outputs": [
    {
     "name": "stdout",
     "output_type": "stream",
     "text": [
      "[1]\n",
      "[2]\n",
      "[3]\n",
      "[4]\n",
      "[5]\n"
     ]
    }
   ],
   "source": [
    "for i = 1:5\n",
    "    println(i)\n",
    "end"
   ]
  },
  {
   "cell_type": "code",
   "execution_count": 8,
   "metadata": {
    "collapsed": true
   },
   "outputs": [
    {
     "name": "stdout",
     "output_type": "stream",
     "text": [
      "1 : 1\n",
      "1 : 2\n",
      "1 : 3\n",
      "1 : 4\n",
      "1 : 5\n",
      "2 : 1\n",
      "2 : 2\n",
      "2 : 3\n",
      "2 : 4\n",
      "2 : 5\n",
      "3 : 1\n",
      "3 : 2\n",
      "3 : 3\n",
      "3 : 4\n",
      "3 : 5\n",
      "4 : 1\n",
      "4 : 2\n",
      "4 : 3\n",
      "4 : 4\n",
      "4 : 5\n",
      "5 : 1\n",
      "5 : 2\n",
      "5 : 3\n",
      "5 : 4\n",
      "5 : 5\n"
     ]
    }
   ],
   "source": [
    "for i = 1:5, j= 1:5         # para cada elemento em i será pego um correspondente em j\n",
    "    println(i , \" : \", j)\n",
    "end"
   ]
  },
  {
   "cell_type": "code",
   "execution_count": 9,
   "metadata": {},
   "outputs": [],
   "source": [
    "arr = [3, 5, \"Hello\"];"
   ]
  },
  {
   "cell_type": "code",
   "execution_count": 10,
   "metadata": {},
   "outputs": [
    {
     "name": "stdout",
     "output_type": "stream",
     "text": [
      "3\n",
      "5\n",
      "Hello\n"
     ]
    }
   ],
   "source": [
    "for val in arr\n",
    "    println(val)\n",
    "end"
   ]
  },
  {
   "cell_type": "code",
   "execution_count": 12,
   "metadata": {},
   "outputs": [
    {
     "name": "stdout",
     "output_type": "stream",
     "text": [
      "1\n",
      "2\n",
      "3\n",
      "4\n",
      "5\n"
     ]
    }
   ],
   "source": [
    "i = 1\n",
    "while i <= 5\n",
    "    println(i)\n",
    "    i = i + 1\n",
    "end"
   ]
  }
 ],
 "metadata": {
  "kernelspec": {
   "display_name": "Julia 1.4.0",
   "language": "julia",
   "name": "julia-1.4"
  },
  "language_info": {
   "file_extension": ".jl",
   "mimetype": "application/julia",
   "name": "julia",
   "version": "1.4.0"
  }
 },
 "nbformat": 4,
 "nbformat_minor": 4
}
